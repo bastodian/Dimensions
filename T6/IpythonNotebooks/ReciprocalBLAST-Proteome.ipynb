{
 "metadata": {
  "name": "ReciprocalBLAST-Proteome"
 },
 "nbformat": 3,
 "nbformat_minor": 0,
 "worksheets": [
  {
   "cells": [
    {
     "cell_type": "markdown",
     "metadata": {},
     "source": [
      "Simple reciprocal best hits blast between transcriptome and the proteome of Chlamydomonas"
     ]
    },
    {
     "cell_type": "code",
     "collapsed": false,
     "input": [
      "'''\n",
      "    Reciprocal BLAST of Chlamydomonas proteome against assemblies.\n",
      "'''\n",
      "\n",
      "from sys import stderr, stdout\n",
      "from Bio.Blast.Applications import NcbitblastnCommandline, NcbiblastxCommandline\n",
      "from Bio.Blast import NCBIXML\n",
      "from Bio import SeqIO, Seq\n",
      "\n",
      "for Species in ('DC10', 'DC20', 'DC30', 'DC40', 'DC50', 'DC60', 'DC70', 'DC80'):\n",
      "    stdout.write('\\nReciprocal BLAST for %s against Chlamydomonas proteome...\\n\\n' % Species)\n",
      "    Chlamydomonas_CandidateGenes = \"/home/bastodian/DimensionsData/T6/Annotation/Chlamydomonas/Creinhardtii_236_protein.fa.annotated\"\n",
      "    Assembly = \"/home/bastodian/DimensionsData/T6/Assemblies/%s/Trinity.fasta\" % (Species)\n",
      "    \n",
      "    # Proteome vs Transcriptome\n",
      "    BLAST_0 = \"/home/bastodian/DimensionsData/T6/Assemblies/%s/BLAST_0.xml.proteome\" % (Species)\n",
      "    # Write transcripts that were hit by Proteome into new fasta file\n",
      "    SelectTranscripts = \"/home/bastodian/DimensionsData/T6/Assemblies/%s/Trinity.fasta.trimmed.proteome\" % (Species)\n",
      "    # Select Transcripts vs Proteome\n",
      "    BLAST_1 = \"/home/bastodian/DimensionsData/T6/Assemblies/%s/BLAST_1.xml.proteome\" % (Species)\n",
      "    # Where to write the log with results\n",
      "    BLAST_results = \"/home/bastodian/DimensionsData/T6/Assemblies/%s/BLAST.results.proteome\" % (Species)\n",
      "    \n",
      "    \n",
      "    '''\n",
      "        Perform first BLAST: Candidate genes vs Transcriptome\n",
      "    '''\n",
      "    tblastn = NcbitblastnCommandline(query=Chlamydomonas_CandidateGenes, \\\n",
      "                                           db=Assembly, \\\n",
      "                                           outfmt=5, \\\n",
      "                                           out=BLAST_0, \\\n",
      "                                            max_target_seqs=1, \\\n",
      "                                            num_threads=24, \\\n",
      "                                            evalue=0.001)\n",
      "    \n",
      "    tblastn()\n",
      "    \n",
      "    '''\n",
      "        Open the BLAST records file and extract all query subject pairs and store them in a dictionary\n",
      "    '''\n",
      "    BLAST_handle_0 = open(BLAST_0)\n",
      "    blast_records_0 = NCBIXML.parse(BLAST_handle_0)\n",
      "    \n",
      "    Hits_0 = {}\n",
      "    for blast_record in blast_records_0:\n",
      "        CandidateGene = blast_record.query\n",
      "        Transcripts = []\n",
      "        for alignment in blast_record.alignments:\n",
      "            Transcripts.append(alignment.title.split()[1])\n",
      "        Hits_0[CandidateGene] = Transcripts\n",
      "    \n",
      "       \n",
      "    '''\n",
      "        Make one list containing all transcripts that were identified; extract these from the trinity assembly\n",
      "    '''\n",
      "    HitTranscripts = []\n",
      "    for CandidateGene, Transcripts in Hits_0.iteritems():\n",
      "        for Transcript in Transcripts:\n",
      "            HitTranscripts.append(Transcript)\n",
      "          \n",
      "    \n",
      "    with open(Assembly, 'rU') as AssemblyFile:\n",
      "        with open(SelectTranscripts, 'w') as PrunedAssembly:\n",
      "            for record in SeqIO.parse(AssemblyFile, \"fasta\"):\n",
      "                if record.name in set(HitTranscripts):\n",
      "                    PrunedAssembly.write('>%s\\n%s\\n' % (record.name, record.seq))\n",
      "    \n",
      "    '''\n",
      "        Now BLAST the PrunedAssembly back against the annotated Chlamydomnas transcriptome\n",
      "    '''\n",
      "    \n",
      "    blastx = NcbiblastxCommandline(query=SelectTranscripts, \\\n",
      "                                           db=Chlamydomonas_CandidateGenes, \\\n",
      "                                           outfmt=5, \\\n",
      "                                           out=BLAST_1, \\\n",
      "                                            max_target_seqs=1, \\\n",
      "                                            num_threads=24, \\\n",
      "                                            evalue=0.001)\n",
      "    \n",
      "    blastx()\n",
      "    \n",
      "    BLAST_handle_1 = open(BLAST_1)\n",
      "    blast_records_1 = NCBIXML.parse(BLAST_handle_1)\n",
      "    \n",
      "    \n",
      "    Hits_1 = {}\n",
      "    for blast_record in blast_records_1:\n",
      "        Transcript = blast_record.query\n",
      "        ChlamydomonasTranscripts = []\n",
      "        for alignment in blast_record.alignments:\n",
      "            ChlamydomonasTranscripts.append(alignment.title.split()[1])\n",
      "        Hits_1[Transcript] = ChlamydomonasTranscripts\n",
      "\n",
      "    \n",
      "    stdout.write('Reciprocal BLAST for %s done...\\nReports written to BLAST_0.xml and BLAST_1.xml\\n\\n' % Species)\n",
      "    \n",
      "    \n",
      "    '''\n",
      "        Simple reciprocal best hit\n",
      "    '''\n",
      "\n",
      "    stdout.write('\\nReciprocal best hits among Candidate Genes and Experimantal Transcriptomes...\\n')\n",
      "    NumHits = 0\n",
      "    with open(BLAST_results, 'w') as Results:\n",
      "        Results.write('\\nReciprocal best hits among Candidate Genes and Experimantal Transcriptomes...\\n')\n",
      "        for ChlamydoQuery, TranscriptomeHit in Hits_0.iteritems():\n",
      "            for Transcript, RefGene in Hits_1.iteritems():\n",
      "                try:\n",
      "                    if ChlamydoQuery == RefGene[0] and Transcript == TranscriptomeHit[0]:\n",
      "                        NumHits += 1\n",
      "                        Results.write('%s: %s <--> %s: %s\\n' % (Transcript, RefGene[0], ChlamydoQuery, TranscriptomeHit[0]))\n",
      "                except Exception:\n",
      "                    continue\n",
      "    stdout.write('\\t%s reciprocal hits found.' % (NumHits))"
     ],
     "language": "python",
     "metadata": {},
     "outputs": [
      {
       "output_type": "stream",
       "stream": "stdout",
       "text": [
        "\n",
        "Reciprocal BLAST for DC10 against Chlamydomonas proteome...\n",
        "\n",
        "Reciprocal BLAST for DC10 done...\n",
        "Reports written to BLAST_0.xml and BLAST_1.xml\n",
        "\n"
       ]
      },
      {
       "output_type": "stream",
       "stream": "stdout",
       "text": [
        "\n",
        "Reciprocal best hits among Candidate Genes and Experimantal Transcriptomes...\n",
        "\t1914 reciprocal hits found."
       ]
      },
      {
       "output_type": "stream",
       "stream": "stdout",
       "text": [
        "\n",
        "Reciprocal BLAST for DC20 against Chlamydomonas proteome...\n",
        "\n",
        "Reciprocal BLAST for DC20 done...\n",
        "Reports written to BLAST_0.xml and BLAST_1.xml\n",
        "\n"
       ]
      },
      {
       "output_type": "stream",
       "stream": "stdout",
       "text": [
        "\n",
        "Reciprocal best hits among Candidate Genes and Experimantal Transcriptomes...\n",
        "\t1906 reciprocal hits found."
       ]
      },
      {
       "output_type": "stream",
       "stream": "stdout",
       "text": [
        "\n",
        "Reciprocal BLAST for DC30 against Chlamydomonas proteome...\n",
        "\n",
        "Reciprocal BLAST for DC30 done...\n",
        "Reports written to BLAST_0.xml and BLAST_1.xml\n",
        "\n"
       ]
      },
      {
       "output_type": "stream",
       "stream": "stdout",
       "text": [
        "\n",
        "Reciprocal best hits among Candidate Genes and Experimantal Transcriptomes...\n",
        "\t1843 reciprocal hits found."
       ]
      },
      {
       "output_type": "stream",
       "stream": "stdout",
       "text": [
        "\n",
        "Reciprocal BLAST for DC40 against Chlamydomonas proteome...\n",
        "\n",
        "Reciprocal BLAST for DC40 done...\n",
        "Reports written to BLAST_0.xml and BLAST_1.xml\n",
        "\n"
       ]
      },
      {
       "output_type": "stream",
       "stream": "stdout",
       "text": [
        "\n",
        "Reciprocal best hits among Candidate Genes and Experimantal Transcriptomes...\n",
        "\t2586 reciprocal hits found."
       ]
      },
      {
       "output_type": "stream",
       "stream": "stdout",
       "text": [
        "\n",
        "Reciprocal BLAST for DC50 against Chlamydomonas proteome...\n",
        "\n",
        "Reciprocal BLAST for DC50 done...\n",
        "Reports written to BLAST_0.xml and BLAST_1.xml\n",
        "\n"
       ]
      },
      {
       "output_type": "stream",
       "stream": "stdout",
       "text": [
        "\n",
        "Reciprocal best hits among Candidate Genes and Experimantal Transcriptomes...\n",
        "\t2223 reciprocal hits found."
       ]
      },
      {
       "output_type": "stream",
       "stream": "stdout",
       "text": [
        "\n",
        "Reciprocal BLAST for DC60 against Chlamydomonas proteome...\n",
        "\n",
        "Reciprocal BLAST for DC60 done...\n",
        "Reports written to BLAST_0.xml and BLAST_1.xml\n",
        "\n"
       ]
      },
      {
       "output_type": "stream",
       "stream": "stdout",
       "text": [
        "\n",
        "Reciprocal best hits among Candidate Genes and Experimantal Transcriptomes...\n",
        "\t2088 reciprocal hits found."
       ]
      },
      {
       "output_type": "stream",
       "stream": "stdout",
       "text": [
        "\n",
        "Reciprocal BLAST for DC70 against Chlamydomonas proteome...\n",
        "\n",
        "Reciprocal BLAST for DC70 done...\n",
        "Reports written to BLAST_0.xml and BLAST_1.xml\n",
        "\n"
       ]
      },
      {
       "output_type": "stream",
       "stream": "stdout",
       "text": [
        "\n",
        "Reciprocal best hits among Candidate Genes and Experimantal Transcriptomes...\n",
        "\t1733 reciprocal hits found."
       ]
      },
      {
       "output_type": "stream",
       "stream": "stdout",
       "text": [
        "\n",
        "Reciprocal BLAST for DC80 against Chlamydomonas proteome...\n",
        "\n",
        "Reciprocal BLAST for DC80 done...\n",
        "Reports written to BLAST_0.xml and BLAST_1.xml\n",
        "\n"
       ]
      },
      {
       "output_type": "stream",
       "stream": "stdout",
       "text": [
        "\n",
        "Reciprocal best hits among Candidate Genes and Experimantal Transcriptomes...\n",
        "\t2089 reciprocal hits found."
       ]
      },
      {
       "output_type": "stream",
       "stream": "stdout",
       "text": [
        "\n",
        "Reciprocal BLAST for DC10 against Chlamydomonas proteome...\n",
        "\n",
        "Reciprocal BLAST for DC10 done...\n",
        "Reports written to BLAST_0.xml and BLAST_1.xml\n",
        "\n"
       ]
      },
      {
       "output_type": "stream",
       "stream": "stdout",
       "text": [
        "\n",
        "Reciprocal best hits among Candidate Genes and Experimantal Transcriptomes...\n",
        "\t1914 reciprocal hits found."
       ]
      },
      {
       "output_type": "stream",
       "stream": "stdout",
       "text": [
        "\n",
        "Reciprocal BLAST for DC20 against Chlamydomonas proteome...\n",
        "\n",
        "Reciprocal BLAST for DC20 done...\n",
        "Reports written to BLAST_0.xml and BLAST_1.xml\n",
        "\n"
       ]
      },
      {
       "output_type": "stream",
       "stream": "stdout",
       "text": [
        "\n",
        "Reciprocal best hits among Candidate Genes and Experimantal Transcriptomes...\n",
        "\t1906 reciprocal hits found."
       ]
      },
      {
       "output_type": "stream",
       "stream": "stdout",
       "text": [
        "\n",
        "Reciprocal BLAST for DC30 against Chlamydomonas proteome...\n",
        "\n",
        "Reciprocal BLAST for DC30 done...\n",
        "Reports written to BLAST_0.xml and BLAST_1.xml\n",
        "\n"
       ]
      },
      {
       "output_type": "stream",
       "stream": "stdout",
       "text": [
        "\n",
        "Reciprocal best hits among Candidate Genes and Experimantal Transcriptomes...\n",
        "\t1843 reciprocal hits found."
       ]
      },
      {
       "output_type": "stream",
       "stream": "stdout",
       "text": [
        "\n",
        "Reciprocal BLAST for DC40 against Chlamydomonas proteome...\n",
        "\n",
        "Reciprocal BLAST for DC40 done...\n",
        "Reports written to BLAST_0.xml and BLAST_1.xml\n",
        "\n"
       ]
      },
      {
       "output_type": "stream",
       "stream": "stdout",
       "text": [
        "\n",
        "Reciprocal best hits among Candidate Genes and Experimantal Transcriptomes...\n",
        "\t2586 reciprocal hits found."
       ]
      },
      {
       "output_type": "stream",
       "stream": "stdout",
       "text": [
        "\n",
        "Reciprocal BLAST for DC50 against Chlamydomonas proteome...\n",
        "\n",
        "Reciprocal BLAST for DC50 done...\n",
        "Reports written to BLAST_0.xml and BLAST_1.xml\n",
        "\n"
       ]
      },
      {
       "output_type": "stream",
       "stream": "stdout",
       "text": [
        "\n",
        "Reciprocal best hits among Candidate Genes and Experimantal Transcriptomes...\n",
        "\t2223 reciprocal hits found."
       ]
      },
      {
       "output_type": "stream",
       "stream": "stdout",
       "text": [
        "\n",
        "Reciprocal BLAST for DC60 against Chlamydomonas proteome...\n",
        "\n",
        "Reciprocal BLAST for DC60 done...\n",
        "Reports written to BLAST_0.xml and BLAST_1.xml\n",
        "\n"
       ]
      },
      {
       "output_type": "stream",
       "stream": "stdout",
       "text": [
        "\n",
        "Reciprocal best hits among Candidate Genes and Experimantal Transcriptomes...\n",
        "\t2088 reciprocal hits found."
       ]
      },
      {
       "output_type": "stream",
       "stream": "stdout",
       "text": [
        "\n",
        "Reciprocal BLAST for DC70 against Chlamydomonas proteome...\n",
        "\n",
        "Reciprocal BLAST for DC70 done...\n",
        "Reports written to BLAST_0.xml and BLAST_1.xml\n",
        "\n"
       ]
      },
      {
       "output_type": "stream",
       "stream": "stdout",
       "text": [
        "\n",
        "Reciprocal best hits among Candidate Genes and Experimantal Transcriptomes...\n",
        "\t1733 reciprocal hits found."
       ]
      },
      {
       "output_type": "stream",
       "stream": "stdout",
       "text": [
        "\n",
        "Reciprocal BLAST for DC80 against Chlamydomonas proteome...\n",
        "\n",
        "Reciprocal BLAST for DC80 done...\n",
        "Reports written to BLAST_0.xml and BLAST_1.xml\n",
        "\n"
       ]
      },
      {
       "output_type": "stream",
       "stream": "stdout",
       "text": [
        "\n",
        "Reciprocal best hits among Candidate Genes and Experimantal Transcriptomes...\n",
        "\t2089 reciprocal hits found."
       ]
      }
     ],
     "prompt_number": 3
    }
   ],
   "metadata": {}
  }
 ]
}