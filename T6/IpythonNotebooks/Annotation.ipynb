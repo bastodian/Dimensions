{
 "metadata": {
  "name": "Annotation"
 },
 "nbformat": 3,
 "nbformat_minor": 0,
 "worksheets": [
  {
   "cells": [
    {
     "cell_type": "markdown",
     "metadata": {},
     "source": [
      "Using HMMer to identify genes of interest\n",
      "-----------------------------------------"
     ]
    },
    {
     "cell_type": "code",
     "collapsed": false,
     "input": [
      "from sys import argv\n",
      "from sys import stdout\n",
      "from Bio import SeqIO, Seq\n",
      "from Bio.Alphabet import generic_dna\n",
      "\n",
      "InFile = argv[1]\n",
      "\n",
      "'''\n",
      "    Translate all 6 reading frames of input nucleotide sequence\n",
      "'''\n",
      "\n",
      "with open(InFile, 'rU') as FastaFile:\n",
      "    for record in SeqIO.parse(FastaFile, \"fasta\"):\n",
      "        ReadFrame = -1\n",
      "        RevComp = Seq.Seq(str(record.seq), generic_dna).reverse_complement()\n",
      "        while ReadFrame <= 1:\n",
      "            ReadFrame += 1\n",
      "            stdout.write('>%s_RF:%s\\n%s\\n' % (str(record.name), str(ReadFrame), \\\n",
      "                    Seq.Seq(str(record.seq[ReadFrame:]), generic_dna).translate()))\n",
      "            stdout.write('>%s_revCompRF:%s\\n%s\\n' % (str(record.name), str(ReadFrame), \\\n",
      "                    Seq.Seq(str(RevComp[ReadFrame:]), generic_dna).translate()))"
     ],
     "language": "python",
     "metadata": {},
     "outputs": []
    }
   ],
   "metadata": {}
  }
 ]
}