{
 "metadata": {
  "name": "FastQ_Filtering"
 },
 "nbformat": 3,
 "nbformat_minor": 0,
 "worksheets": [
  {
   "cells": [
    {
     "cell_type": "markdown",
     "metadata": {},
     "source": [
      "Removal of artefacts and low quality nucleotides\n",
      "------------------------------------------------\n",
      "\n",
      "First set up the environemnt by importing the required modules. I am using cutadapt as a module\n",
      "rather than a standalone application. Also check that the compressed FastQ files are there."
     ]
    },
    {
     "cell_type": "code",
     "collapsed": false,
     "input": [
      "import os, sys, glob, subprocess\n",
      "sys.path.append(os.path.abspath('./code/python/cutadapt-1.1/cutadapt/scripts/')) \n",
      "import cutadapt\n",
      "\n",
      "'''\n",
      "    RawDataDir is the path to the folders containing the raw read files.\n",
      "'''\n",
      "RawDataDir = ('/mnt/pond/BGI/T6/RawData/')\n",
      "\n",
      "for file in glob.glob('%s%s' % (RawDataDir, 'D[CN]*/*')):\n",
      "    print file"
     ],
     "language": "python",
     "metadata": {},
     "outputs": [
      {
       "output_type": "stream",
       "stream": "stdout",
       "text": [
        "/mnt/pond/BGI/T6/RawData/DC24.R1T6/DC24.R1T6_ALGjhnTCERAAPEI-209_2.fq.gz\n",
        "/mnt/pond/BGI/T6/RawData/DC24.R1T6/DC24.R1T6_ALGjhnTCERAAPEI-209_1.fq.gz\n",
        "/mnt/pond/BGI/T6/RawData/DC30.R2T6/DC30.R2T6_ALGjhnTCORAAPEI-220_1.fq.gz\n",
        "/mnt/pond/BGI/T6/RawData/DC30.R2T6/DC30.R2T6_ALGjhnTCORAAPEI-220_2.fq.gz\n",
        "/mnt/pond/BGI/T6/RawData/DC40.R1T6/DC40.R1T6_ALGjhnTAPRABPEI-220_2.fq.gz\n",
        "/mnt/pond/BGI/T6/RawData/DC40.R1T6/DC40.R1T6_ALGjhnTAPRABPEI-220_1.fq.gz\n",
        "/mnt/pond/BGI/T6/RawData/DC70.R2T6/DC70.R2T6_ALGjhnTBKRABPEI-222_2.fq.gz\n",
        "/mnt/pond/BGI/T6/RawData/DC70.R2T6/DC70.R2T6_ALGjhnTBKRABPEI-222_1.fq.gz\n",
        "/mnt/pond/BGI/T6/RawData/DC70.R3TWB/DC70.R3TWB_ALGjhnTBZRAAPEI-204_2.fq.gz\n",
        "/mnt/pond/BGI/T6/RawData/DC70.R3TWB/DC70.R3TWB_ALGjhnTBZRAAPEI-204_1.fq.gz\n",
        "/mnt/pond/BGI/T6/RawData/DC36.R1T6/DC36.R1T6_ALGjhnTACRABPEI-206_1.fq.gz\n",
        "/mnt/pond/BGI/T6/RawData/DC36.R1T6/DC36.R1T6_ALGjhnTACRABPEI-206_2.fq.gz\n",
        "/mnt/pond/BGI/T6/RawData/DC48.R2T6/DC48.R2T6_ALGjhnTDHRAAPEI-214_2.fq.gz\n",
        "/mnt/pond/BGI/T6/RawData/DC48.R2T6/DC48.R2T6_ALGjhnTDHRAAPEI-214_1.fq.gz\n",
        "/mnt/pond/BGI/T6/RawData/DC13.R1T6/DC13.R1T6_ALGjhnTBERABPEI-215_2.fq.gz\n",
        "/mnt/pond/BGI/T6/RawData/DC13.R1T6/DC13.R1T6_ALGjhnTBERABPEI-215_1.fq.gz\n",
        "/mnt/pond/BGI/T6/RawData/DC46.R3T6/DC46.R3T6_ALGjhnTBJRABPEI-221_2.fq.gz\n",
        "/mnt/pond/BGI/T6/RawData/DC46.R3T6/DC46.R3T6_ALGjhnTBJRABPEI-221_1.fq.gz\n",
        "/mnt/pond/BGI/T6/RawData/DC16.R1T6/DC16.R1T6_ALGjhnTBBRABPEI-212_2.fq.gz\n",
        "/mnt/pond/BGI/T6/RawData/DC16.R1T6/DC16.R1T6_ALGjhnTBBRABPEI-212_1.fq.gz\n",
        "/mnt/pond/BGI/T6/RawData/DC15.R2T6/DC15.R2T6_ALGjhnTCRRAAPEI-223_1.fq.gz\n",
        "/mnt/pond/BGI/T6/RawData/DC15.R2T6/DC15.R2T6_ALGjhnTCRRAAPEI-223_2.fq.gz\n",
        "/mnt/pond/BGI/T6/RawData/DN86.R1TX/DN86.R1TX_ALGjhnTCVRAAPEI-202_1.fq.gz\n",
        "/mnt/pond/BGI/T6/RawData/DN86.R1TX/DN86.R1TX_ALGjhnTCVRAAPEI-202_2.fq.gz\n",
        "/mnt/pond/BGI/T6/RawData/DC10.R2T6/DC10.R2T6_ALGjhnTCARAAPEI-205_1.fq.gz\n",
        "/mnt/pond/BGI/T6/RawData/DC10.R2T6/DC10.R2T6_ALGjhnTCARAAPEI-205_2.fq.gz\n",
        "/mnt/pond/BGI/T6/RawData/DC12.R3T6/DC12.R3T6_ALGjhnTDKRAAPEI-218_1.fq.gz\n",
        "/mnt/pond/BGI/T6/RawData/DC12.R3T6/DC12.R3T6_ALGjhnTDKRAAPEI-218_2.fq.gz\n",
        "/mnt/pond/BGI/T6/RawData/DC18.R3T6/DC18.R3T6_ALGjhnTCZRAAPEI-206_1.fq.gz\n",
        "/mnt/pond/BGI/T6/RawData/DC18.R3T6/DC18.R3T6_ALGjhnTCZRAAPEI-206_2.fq.gz\n",
        "/mnt/pond/BGI/T6/RawData/DC37.R1T6/DC37.R1T6_ALGjhnTARRABPEI-222_1.fq.gz\n",
        "/mnt/pond/BGI/T6/RawData/DC37.R1T6/DC37.R1T6_ALGjhnTARRABPEI-222_2.fq.gz\n",
        "/mnt/pond/BGI/T6/RawData/DC30.R3T6/DC30.R3T6_ALGjhnTBCRABPEI-213_1.fq.gz\n",
        "/mnt/pond/BGI/T6/RawData/DC30.R3T6/DC30.R3T6_ALGjhnTBCRABPEI-213_2.fq.gz\n",
        "/mnt/pond/BGI/T6/RawData/DC15.R1T6/DC15.R1T6_ALGjhnTBTRABPEI-206_1.fq.gz\n",
        "/mnt/pond/BGI/T6/RawData/DC15.R1T6/DC15.R1T6_ALGjhnTBTRABPEI-206_2.fq.gz\n",
        "/mnt/pond/BGI/T6/RawData/DC13.R2T6/DC13.R2T6_ALGjhnTDGRAAPEI-213_1.fq.gz\n",
        "/mnt/pond/BGI/T6/RawData/DC13.R2T6/DC13.R2T6_ALGjhnTDGRAAPEI-213_2.fq.gz\n",
        "/mnt/pond/BGI/T6/RawData/DC17.R1T6/DC17.R1T6_ALGjhnTAQRABPEI-221_2.fq.gz\n",
        "/mnt/pond/BGI/T6/RawData/DC17.R1T6/DC17.R1T6_ALGjhnTAQRABPEI-221_1.fq.gz\n",
        "/mnt/pond/BGI/T6/RawData/DC60.R3T6/DC60.R3T6_ALGjhnTCGRAAPEI-211_1.fq.gz\n",
        "/mnt/pond/BGI/T6/RawData/DC60.R3T6/DC60.R3T6_ALGjhnTCGRAAPEI-211_2.fq.gz\n",
        "/mnt/pond/BGI/T6/RawData/DC48.R1T6/DC48.R1T6_ALGjhnTDBRAAPEI-208_2.fq.gz\n",
        "/mnt/pond/BGI/T6/RawData/DC48.R1T6/DC48.R1T6_ALGjhnTDBRAAPEI-208_1.fq.gz\n",
        "/mnt/pond/BGI/T6/RawData/DC58.R3T6/DC58.R3T6_ALGjhnTALRABPEI-215_1.fq.gz\n",
        "/mnt/pond/BGI/T6/RawData/DC58.R3T6/DC58.R3T6_ALGjhnTALRABPEI-215_2.fq.gz\n",
        "/mnt/pond/BGI/T6/RawData/DC47.R1T6/DC47.R1T6_ALGjhnTAYRABPEI-209_2.fq.gz\n",
        "/mnt/pond/BGI/T6/RawData/DC47.R1T6/DC47.R1T6_ALGjhnTAYRABPEI-209_1.fq.gz\n",
        "/mnt/pond/BGI/T6/RawData/DC13.R3T6/DC13.R3T6_ALGjhnTCNRAAPEI-219_2.fq.gz\n",
        "/mnt/pond/BGI/T6/RawData/DC13.R3T6/DC13.R3T6_ALGjhnTCNRAAPEI-219_1.fq.gz\n",
        "/mnt/pond/BGI/T6/RawData/DC80.R2T6/DC80.R2T6_ALGjhnTAGRABPEI-210_2.fq.gz\n",
        "/mnt/pond/BGI/T6/RawData/DC80.R2T6/DC80.R2T6_ALGjhnTAGRABPEI-210_1.fq.gz\n",
        "/mnt/pond/BGI/T6/RawData/DC23.R3T6/DC23.R3T6_ALGjhnTBHRABPEI-219_2.fq.gz\n",
        "/mnt/pond/BGI/T6/RawData/DC23.R3T6/DC23.R3T6_ALGjhnTBHRABPEI-219_1.fq.gz\n",
        "/mnt/pond/BGI/T6/RawData/DC78.R1T6/DC78.R1T6_ALGjhnTCLRAAPEI-216_1.fq.gz\n",
        "/mnt/pond/BGI/T6/RawData/DC78.R1T6/DC78.R1T6_ALGjhnTCLRAAPEI-216_2.fq.gz\n",
        "/mnt/pond/BGI/T6/RawData/DC12.R2T6/DC12.R2T6_ALGjhnTDERAAPEI-211_1.fq.gz\n",
        "/mnt/pond/BGI/T6/RawData/DC12.R2T6/DC12.R2T6_ALGjhnTDERAAPEI-211_2.fq.gz\n",
        "/mnt/pond/BGI/T6/RawData/DC26.R2T6/DC26.R2T6_ALGjhnTCXRAAPEI-204_1.fq.gz\n",
        "/mnt/pond/BGI/T6/RawData/DC26.R2T6/DC26.R2T6_ALGjhnTCXRAAPEI-204_2.fq.gz\n",
        "/mnt/pond/BGI/T6/RawData/DC14.R1T6/DC14.R1T6_ALGjhnTBMRABPEI-225_2.fq.gz\n",
        "/mnt/pond/BGI/T6/RawData/DC14.R1T6/DC14.R1T6_ALGjhnTBMRABPEI-225_1.fq.gz\n",
        "/mnt/pond/BGI/T6/RawData/DC56.R3T6/DC56.R3T6_ALGjhnTBURABPEI-207_2.fq.gz\n",
        "/mnt/pond/BGI/T6/RawData/DC56.R3T6/DC56.R3T6_ALGjhnTBURABPEI-207_1.fq.gz\n",
        "/mnt/pond/BGI/T6/RawData/DC24.R3T6/DC24.R3T6_ALGjhnTCURAAPEI-201_1.fq.gz\n",
        "/mnt/pond/BGI/T6/RawData/DC24.R3T6/DC24.R3T6_ALGjhnTCURAAPEI-201_2.fq.gz\n",
        "/mnt/pond/BGI/T6/RawData/DC26.R1T6/DC26.R1T6_ALGufhTACRAAPEI-20_1.fq.gz\n",
        "/mnt/pond/BGI/T6/RawData/DC26.R1T6/DC26.R1T6_ALGufhTACRAAPEI-20_2.fq.gz\n",
        "/mnt/pond/BGI/T6/RawData/DC14.R3T6/DC14.R3T6_ALGjhnTBYRAAPEI-203_1.fq.gz\n",
        "/mnt/pond/BGI/T6/RawData/DC14.R3T6/DC14.R3T6_ALGjhnTBYRAAPEI-203_2.fq.gz\n",
        "/mnt/pond/BGI/T6/RawData/DC68.R2T6/DC68.R2T6_ALGjhnTAZRABPEI-210_1.fq.gz\n",
        "/mnt/pond/BGI/T6/RawData/DC68.R2T6/DC68.R2T6_ALGjhnTAZRABPEI-210_2.fq.gz\n",
        "/mnt/pond/BGI/T6/RawData/DC35.R3T6/DC35.R3T6_ALGjhnTADRABPEI-207_2.fq.gz\n",
        "/mnt/pond/BGI/T6/RawData/DC35.R3T6/DC35.R3T6_ALGjhnTADRABPEI-207_1.fq.gz\n",
        "/mnt/pond/BGI/T6/RawData/DC57.R1TWB/DC57.R1TWB_ALGjhnTABRABPEI-205_2.fq.gz\n",
        "/mnt/pond/BGI/T6/RawData/DC57.R1TWB/DC57.R1TWB_ALGjhnTABRABPEI-205_1.fq.gz\n",
        "/mnt/pond/BGI/T6/RawData/DC56.R1T6/DC56.R1T6_ALGjhnTCWRAAPEI-203_1.fq.gz\n",
        "/mnt/pond/BGI/T6/RawData/DC56.R1T6/DC56.R1T6_ALGjhnTCWRAAPEI-203_2.fq.gz\n",
        "/mnt/pond/BGI/T6/RawData/DC67.R3T6/DC67.R3T6_ALGjhnTCKRAAPEI-215_1.fq.gz\n",
        "/mnt/pond/BGI/T6/RawData/DC67.R3T6/DC67.R3T6_ALGjhnTCKRAAPEI-215_2.fq.gz\n",
        "/mnt/pond/BGI/T6/RawData/DC16.R3T6/DC16.R3T6_ALGjhnTDARAAPEI-207_1.fq.gz\n",
        "/mnt/pond/BGI/T6/RawData/DC16.R3T6/DC16.R3T6_ALGjhnTDARAAPEI-207_2.fq.gz\n",
        "/mnt/pond/BGI/T6/RawData/DC56.R2T6/DC56.R2T6_ALGjhnTATRABPEI-225_2.fq.gz\n",
        "/mnt/pond/BGI/T6/RawData/DC56.R2T6/DC56.R2T6_ALGjhnTATRABPEI-225_1.fq.gz\n",
        "/mnt/pond/BGI/T6/RawData/DC50.R2TWB/DC50.R2TWB_ALGjhnTDCRAAPEI-209_2.fq.gz\n",
        "/mnt/pond/BGI/T6/RawData/DC50.R2TWB/DC50.R2TWB_ALGjhnTDCRAAPEI-209_1.fq.gz\n",
        "/mnt/pond/BGI/T6/RawData/DC25.R3T6/DC25.R3T6_ALGjhnTANRABPEI-218_2.fq.gz\n",
        "/mnt/pond/BGI/T6/RawData/DC25.R3T6/DC25.R3T6_ALGjhnTANRABPEI-218_1.fq.gz\n",
        "/mnt/pond/BGI/T6/RawData/DC37.R2T6/DC37.R2T6_ALGjhnTDFRAAPEI-212_1.fq.gz\n",
        "/mnt/pond/BGI/T6/RawData/DC37.R2T6/DC37.R2T6_ALGjhnTDFRAAPEI-212_2.fq.gz\n",
        "/mnt/pond/BGI/T6/RawData/DC10.R1T6/DC10.R1T6_ALGufhTAARAAPEI-18_2.fq.gz\n",
        "/mnt/pond/BGI/T6/RawData/DC10.R1T6/DC10.R1T6_ALGufhTAARAAPEI-18_1.fq.gz\n",
        "/mnt/pond/BGI/T6/RawData/DC10.R3T6/DC10.R3T6_ALGjhnTAORABPEI-219_2.fq.gz\n",
        "/mnt/pond/BGI/T6/RawData/DC10.R3T6/DC10.R3T6_ALGjhnTAORABPEI-219_1.fq.gz\n",
        "/mnt/pond/BGI/T6/RawData/DC35.R1T6/DC35.R1T6_ALGjhnTAKRABPEI-214_2.fq.gz\n",
        "/mnt/pond/BGI/T6/RawData/DC35.R1T6/DC35.R1T6_ALGjhnTAKRABPEI-214_1.fq.gz\n",
        "/mnt/pond/BGI/T6/RawData/DC45.R3T6/DC45.R3T6_ALGjhnTBWRAAPEI-201_2.fq.gz\n",
        "/mnt/pond/BGI/T6/RawData/DC45.R3T6/DC45.R3T6_ALGjhnTBWRAAPEI-201_1.fq.gz\n",
        "/mnt/pond/BGI/T6/RawData/DC45.R1T6/DC45.R1T6_ALGjhnTCPRAAPEI-221_1.fq.gz\n",
        "/mnt/pond/BGI/T6/RawData/DC45.R1T6/DC45.R1T6_ALGjhnTCPRAAPEI-221_2.fq.gz\n",
        "/mnt/pond/BGI/T6/RawData/DC47.R2T6/DC47.R2T6_ALGjhnTCDRAAPEI-208_2.fq.gz\n",
        "/mnt/pond/BGI/T6/RawData/DC47.R2T6/DC47.R2T6_ALGjhnTCDRAAPEI-208_1.fq.gz\n",
        "/mnt/pond/BGI/T6/RawData/DC18.R1T6/DC18.R1T6_ALGjhnTCIRAAPEI-213_1.fq.gz\n",
        "/mnt/pond/BGI/T6/RawData/DC18.R1T6/DC18.R1T6_ALGjhnTCIRAAPEI-213_2.fq.gz\n",
        "/mnt/pond/BGI/T6/RawData/DC12.R1T6/DC12.R1T6_ALGjhnTAXRABPEI-208_1.fq.gz\n",
        "/mnt/pond/BGI/T6/RawData/DC12.R1T6/DC12.R1T6_ALGjhnTAXRABPEI-208_2.fq.gz\n",
        "/mnt/pond/BGI/T6/RawData/DC47.R3T6/DC47.R3T6_ALGjhnTCMRAAPEI-218_2.fq.gz\n",
        "/mnt/pond/BGI/T6/RawData/DC47.R3T6/DC47.R3T6_ALGjhnTCMRAAPEI-218_1.fq.gz\n",
        "/mnt/pond/BGI/T6/RawData/DC38.R2T6/DC38.R2T6_ALGjhnTAURABPEI-227_2.fq.gz\n",
        "/mnt/pond/BGI/T6/RawData/DC38.R2T6/DC38.R2T6_ALGjhnTAURABPEI-227_1.fq.gz\n",
        "/mnt/pond/BGI/T6/RawData/DC68.R3T6/DC68.R3T6_ALGjhnTBQRABPEI-203_1.fq.gz\n",
        "/mnt/pond/BGI/T6/RawData/DC68.R3T6/DC68.R3T6_ALGjhnTBQRABPEI-203_2.fq.gz\n",
        "/mnt/pond/BGI/T6/RawData/DC34.R3T6/DC34.R3T6_ALGjhnTBPRABPEI-202_2.fq.gz\n",
        "/mnt/pond/BGI/T6/RawData/DC34.R3T6/DC34.R3T6_ALGjhnTBPRABPEI-202_1.fq.gz\n",
        "/mnt/pond/BGI/T6/RawData/DC45.R2T6/DC45.R2T6_ALGjhnTAMRABPEI-216_2.fq.gz\n",
        "/mnt/pond/BGI/T6/RawData/DC45.R2T6/DC45.R2T6_ALGjhnTAMRABPEI-216_1.fq.gz\n",
        "/mnt/pond/BGI/T6/RawData/DC17.R2T6/DC17.R2T6_ALGjhnTCQRAAPEI-222_1.fq.gz\n",
        "/mnt/pond/BGI/T6/RawData/DC17.R2T6/DC17.R2T6_ALGjhnTCQRAAPEI-222_2.fq.gz\n",
        "/mnt/pond/BGI/T6/RawData/DC68.R1T6/DC68.R1T6_ALGjhnTBNRABPEI-227_1.fq.gz\n",
        "/mnt/pond/BGI/T6/RawData/DC68.R1T6/DC68.R1T6_ALGjhnTBNRABPEI-227_2.fq.gz\n",
        "/mnt/pond/BGI/T6/RawData/DC40.R3T6/DC40.R3T6_ALGufhTAHRAAPEI-6_2.fq.gz\n",
        "/mnt/pond/BGI/T6/RawData/DC40.R3T6/DC40.R3T6_ALGufhTAHRAAPEI-6_1.fq.gz\n",
        "/mnt/pond/BGI/T6/RawData/DC70.R1TWB/DC70.R1TWB_ALGjhnTBLRABPEI-223_1.fq.gz\n",
        "/mnt/pond/BGI/T6/RawData/DC70.R1TWB/DC70.R1TWB_ALGjhnTBLRABPEI-223_2.fq.gz\n",
        "/mnt/pond/BGI/T6/RawData/DC37.R3T6/DC37.R3T6_ALGjhnTCFRAAPEI-210_1.fq.gz\n",
        "/mnt/pond/BGI/T6/RawData/DC37.R3T6/DC37.R3T6_ALGjhnTCFRAAPEI-210_2.fq.gz\n",
        "/mnt/pond/BGI/T6/RawData/DC58.R2T6/DC58.R2T6_ALGjhnTCJRAAPEI-214_1.fq.gz\n",
        "/mnt/pond/BGI/T6/RawData/DC58.R2T6/DC58.R2T6_ALGjhnTCJRAAPEI-214_2.fq.gz\n",
        "/mnt/pond/BGI/T6/RawData/DC36.R2T6/DC36.R2T6_ALGjhnTBVRABPEI-208_2.fq.gz\n",
        "/mnt/pond/BGI/T6/RawData/DC36.R2T6/DC36.R2T6_ALGjhnTBVRABPEI-208_1.fq.gz\n",
        "/mnt/pond/BGI/T6/RawData/DC20.R1T6/DC20.R1T6_ALGjhnTAARBAPEI-205_1.fq.gz\n",
        "/mnt/pond/BGI/T6/RawData/DC20.R1T6/DC20.R1T6_ALGjhnTAARBAPEI-205_2.fq.gz\n",
        "/mnt/pond/BGI/T6/RawData/DC67.R1T6/DC67.R1T6_ALGjhnTDDRAAPEI-210_1.fq.gz\n",
        "/mnt/pond/BGI/T6/RawData/DC67.R1T6/DC67.R1T6_ALGjhnTDDRAAPEI-210_2.fq.gz\n",
        "/mnt/pond/BGI/T6/RawData/DC20.R2T6/DC20.R2T6_ALGjhnTCHRAAPEI-212_1.fq.gz\n",
        "/mnt/pond/BGI/T6/RawData/DC20.R2T6/DC20.R2T6_ALGjhnTCHRAAPEI-212_2.fq.gz\n",
        "/mnt/pond/BGI/T6/RawData/DC28.R1T6/DC28.R1T6_ALGjhnTCCRAAPEI-207_2.fq.gz\n",
        "/mnt/pond/BGI/T6/RawData/DC28.R1T6/DC28.R1T6_ALGjhnTCCRAAPEI-207_1.fq.gz\n",
        "/mnt/pond/BGI/T6/RawData/DC27.R2T6/DC27.R2T6_ALGjhnTBARABPEI-211_1.fq.gz\n",
        "/mnt/pond/BGI/T6/RawData/DC27.R2T6/DC27.R2T6_ALGjhnTBARABPEI-211_2.fq.gz\n",
        "/mnt/pond/BGI/T6/RawData/DN82.R3TX/DN82.R3TX_ALGjhnTBSRABPEI-205_2.fq.gz\n",
        "/mnt/pond/BGI/T6/RawData/DN82.R3TX/DN82.R3TX_ALGjhnTBSRABPEI-205_1.fq.gz\n",
        "/mnt/pond/BGI/T6/RawData/DC57.R3TWB/DC57.R3TWB_ALGufhTAFRAAPEI-4_1.fq.gz\n",
        "/mnt/pond/BGI/T6/RawData/DC57.R3TWB/DC57.R3TWB_ALGufhTAFRAAPEI-4_2.fq.gz\n",
        "/mnt/pond/BGI/T6/RawData/DC36.R3T6/DC36.R3T6_ALGjhnTBORABPEI-201_1.fq.gz\n",
        "/mnt/pond/BGI/T6/RawData/DC36.R3T6/DC36.R3T6_ALGjhnTBORABPEI-201_2.fq.gz\n",
        "/mnt/pond/BGI/T6/RawData/DC17.R3T6/DC17.R3T6_ALGjhnTCTRAAPEI-227_2.fq.gz\n",
        "/mnt/pond/BGI/T6/RawData/DC17.R3T6/DC17.R3T6_ALGjhnTCTRAAPEI-227_1.fq.gz\n",
        "/mnt/pond/BGI/T6/RawData/DC30.R1T6/DC30.R1T6_ALGjhnTAHRABPEI-211_2.fq.gz\n",
        "/mnt/pond/BGI/T6/RawData/DC30.R1T6/DC30.R1T6_ALGjhnTAHRABPEI-211_1.fq.gz\n",
        "/mnt/pond/BGI/T6/RawData/DC25.R1T6/DC25.R1T6_ALGjhnTCSRAAPEI-225_2.fq.gz\n",
        "/mnt/pond/BGI/T6/RawData/DC25.R1T6/DC25.R1T6_ALGjhnTCSRAAPEI-225_1.fq.gz\n",
        "/mnt/pond/BGI/T6/RawData/DC60.R2T6/DC60.R2T6_ALGjhnTDJRAAPEI-216_1.fq.gz\n",
        "/mnt/pond/BGI/T6/RawData/DC60.R2T6/DC60.R2T6_ALGjhnTDJRAAPEI-216_2.fq.gz\n",
        "/mnt/pond/BGI/T6/RawData/DC14.R2T6/DC14.R2T6_ALGjhnTBGRABPEI-218_1.fq.gz\n",
        "/mnt/pond/BGI/T6/RawData/DC14.R2T6/DC14.R2T6_ALGjhnTBGRABPEI-218_2.fq.gz\n",
        "/mnt/pond/BGI/T6/RawData/DC24.R2T6/DC24.R2T6_ALGjhnTBXRAAPEI-202_1.fq.gz\n",
        "/mnt/pond/BGI/T6/RawData/DC24.R2T6/DC24.R2T6_ALGjhnTBXRAAPEI-202_2.fq.gz\n",
        "/mnt/pond/BGI/T6/RawData/DC57.R2TWB/DC57.R2TWB_ALGjhnTASRABPEI-223_1.fq.gz\n",
        "/mnt/pond/BGI/T6/RawData/DC57.R2TWB/DC57.R2TWB_ALGjhnTASRABPEI-223_2.fq.gz\n",
        "/mnt/pond/BGI/T6/RawData/DC34.R2T6/DC34.R2T6_ALGjhnTAFRABPEI-209_2.fq.gz\n",
        "/mnt/pond/BGI/T6/RawData/DC34.R2T6/DC34.R2T6_ALGjhnTAFRABPEI-209_1.fq.gz\n",
        "/mnt/pond/BGI/T6/RawData/DC20.R3T6/DC20.R3T6_ALGjhnTAVRABPEI-206_1.fq.gz\n",
        "/mnt/pond/BGI/T6/RawData/DC20.R3T6/DC20.R3T6_ALGjhnTAVRABPEI-206_2.fq.gz\n",
        "/mnt/pond/BGI/T6/RawData/DC28.R2T6/DC28.R2T6_ALGjhnTBIRABPEI-220_1.fq.gz\n",
        "/mnt/pond/BGI/T6/RawData/DC28.R2T6/DC28.R2T6_ALGjhnTBIRABPEI-220_2.fq.gz\n",
        "/mnt/pond/BGI/T6/RawData/DC78.R2T6/DC78.R2T6_ALGjhnTCYRAAPEI-205_1.fq.gz\n",
        "/mnt/pond/BGI/T6/RawData/DC78.R2T6/DC78.R2T6_ALGjhnTCYRAAPEI-205_2.fq.gz\n",
        "/mnt/pond/BGI/T6/RawData/DC27.R3T6/DC27.R3T6_ALGjhnTDLRAAPEI-219_1.fq.gz\n",
        "/mnt/pond/BGI/T6/RawData/DC27.R3T6/DC27.R3T6_ALGjhnTDLRAAPEI-219_2.fq.gz\n",
        "/mnt/pond/BGI/T6/RawData/DC50.R1TWB/DC50.R1TWB_ALGjhnTAWRABPEI-207_1.fq.gz\n",
        "/mnt/pond/BGI/T6/RawData/DC50.R1TWB/DC50.R1TWB_ALGjhnTAWRABPEI-207_2.fq.gz\n",
        "/mnt/pond/BGI/T6/RawData/DC15.R3T6/DC15.R3T6_ALGjhnTDIRAAPEI-215_2.fq.gz\n",
        "/mnt/pond/BGI/T6/RawData/DC15.R3T6/DC15.R3T6_ALGjhnTDIRAAPEI-215_1.fq.gz\n",
        "/mnt/pond/BGI/T6/RawData/DC23.R2T6/DC23.R2T6_ALGufhTAGRAAPEI-5_2.fq.gz\n",
        "/mnt/pond/BGI/T6/RawData/DC23.R2T6/DC23.R2T6_ALGufhTAGRAAPEI-5_1.fq.gz\n",
        "/mnt/pond/BGI/T6/RawData/DC50.R3TWB/DC50.R3TWB_ALGjhnTBRRABPEI-204_2.fq.gz\n",
        "/mnt/pond/BGI/T6/RawData/DC50.R3TWB/DC50.R3TWB_ALGjhnTBRRABPEI-204_1.fq.gz\n",
        "/mnt/pond/BGI/T6/RawData/DC27.R1T6/DC27.R1T6_ALGjhnTAJRABPEI-213_2.fq.gz\n",
        "/mnt/pond/BGI/T6/RawData/DC27.R1T6/DC27.R1T6_ALGjhnTAJRABPEI-213_1.fq.gz\n",
        "/mnt/pond/BGI/T6/RawData/DC80.R1T6/DC80.R1T6_ALGjhnTDNRAAPEI-221_1.fq.gz\n",
        "/mnt/pond/BGI/T6/RawData/DC80.R1T6/DC80.R1T6_ALGjhnTDNRAAPEI-221_2.fq.gz\n",
        "/mnt/pond/BGI/T6/RawData/DC16.R2T6/DC16.R2T6_ALGjhnTAERABPEI-208_1.fq.gz\n",
        "/mnt/pond/BGI/T6/RawData/DC16.R2T6/DC16.R2T6_ALGjhnTAERABPEI-208_2.fq.gz\n",
        "/mnt/pond/BGI/T6/RawData/DC23.R1T6/DC23.R1T6_ALGjhnTCBRAAPEI-206_1.fq.gz\n",
        "/mnt/pond/BGI/T6/RawData/DC23.R1T6/DC23.R1T6_ALGjhnTCBRAAPEI-206_2.fq.gz\n",
        "/mnt/pond/BGI/T6/RawData/DC80.R3T6/DC80.R3T6_ALGjhnTDMRAAPEI-220_2.fq.gz\n",
        "/mnt/pond/BGI/T6/RawData/DC80.R3T6/DC80.R3T6_ALGjhnTDMRAAPEI-220_1.fq.gz\n",
        "/mnt/pond/BGI/T6/RawData/DC58.R1T6/DC58.R1T6_ALGjhnTBFRABPEI-216_1.fq.gz\n",
        "/mnt/pond/BGI/T6/RawData/DC58.R1T6/DC58.R1T6_ALGjhnTBFRABPEI-216_2.fq.gz\n",
        "/mnt/pond/BGI/T6/RawData/DC60.R1T6/DC60.R1T6_ALGjhnTBDRABPEI-214_2.fq.gz\n",
        "/mnt/pond/BGI/T6/RawData/DC60.R1T6/DC60.R1T6_ALGjhnTBDRABPEI-214_1.fq.gz\n",
        "/mnt/pond/BGI/T6/RawData/DC25.R2T6/DC25.R2T6_ALGufhTABRAAPEI-19_2.fq.gz\n",
        "/mnt/pond/BGI/T6/RawData/DC25.R2T6/DC25.R2T6_ALGufhTABRAAPEI-19_1.fq.gz\n",
        "/mnt/pond/BGI/T6/RawData/DC78.R3T6/DC78.R3T6_ALGufhTAERAAPEI-1_2.fq.gz\n",
        "/mnt/pond/BGI/T6/RawData/DC78.R3T6/DC78.R3T6_ALGufhTAERAAPEI-1_1.fq.gz\n",
        "/mnt/pond/BGI/T6/RawData/DC67.R2T6/DC67.R2T6_ALGjhnTAIRABPEI-212_2.fq.gz\n",
        "/mnt/pond/BGI/T6/RawData/DC67.R2T6/DC67.R2T6_ALGjhnTAIRABPEI-212_1.fq.gz\n",
        "/mnt/pond/BGI/T6/RawData/DC35.R2T6/DC35.R2T6_ALGufhTADRAAPEI-21_1.fq.gz\n",
        "/mnt/pond/BGI/T6/RawData/DC35.R2T6/DC35.R2T6_ALGufhTADRAAPEI-21_2.fq.gz\n"
       ]
      }
     ],
     "prompt_number": 10
    },
    {
     "cell_type": "markdown",
     "metadata": {},
     "source": [
      "The next code-block uses cutadapt to remove adapter and primer sequences used during library construction from the reads.\n",
      "To reduce the amount of disk-space needed I am opening the compressed files."
     ]
    },
    {
     "cell_type": "code",
     "collapsed": false,
     "input": [
      "#cutadapt.main(['-h'])\n",
      "import time\n",
      "\n",
      "cmd  = \"\"\"python -c \\'\n",
      "import sys\n",
      "sys.path.append(\"/home/bastodian/Dropbox/github/Dimensions/T6/code/python/cutadapt-1.1/cutadapt/scripts/\")\n",
      "import cutadapt\n",
      "cutadapt.main([\"-g\", \"SOMESTRING\", \"/mnt/pond/BGI/T6/RawData/DC70.R2T6/DC70.R2T6_ALGjhnTBKRABPEI-222_1.fq.gz\"])\n",
      "sys.stdout.flush()'\"\"\"\n",
      "\n",
      "process = subprocess.Popen(cmd, shell=True, stdout=subprocess.PIPE)\n",
      "\n",
      "while True:\n",
      "    Header=process.stdout.readline()\n",
      "    Seq=process.stdout.readline()\n",
      "    Spacer=process.stdout.readline()\n",
      "    Qual=process.stdout.readline()\n",
      "    sys.stdout.write('%s%s%s%s\\n' % (Header, Seq, Spacer, Qual))\n",
      "    time.sleep(0.5)\n",
      "\n"
     ],
     "language": "python",
     "metadata": {},
     "outputs": [
      {
       "output_type": "stream",
       "stream": "stdout",
       "text": [
        "@FCD1EA5ACXX:3:1101:1360:1822#CGTACGTA/1\n",
        "NAGACAACGAGTTCATCTGGCCCGACGAGCAAGTGCAGAAAGTCTACGACAAGTTCGCTGAACTTGTGGACAACTATGCTGGTGCTGACC\n",
        "+\n",
        "BP\\cce`cgegbefffhiiiiiiiihihfffghcghffhhhheghhhifggeeeeeccccabbcbcccccccaccbcbcdccbcccbbbc\n",
        "\n",
        "@FCD1EA5ACXX:3:1101:1357:1877#CGTACGTA/1\n",
        "NGCCTCTCCTCGTCGCTCACTTGGAGCATGTACCGCATCAAGCTGGAGTATCCCTTGGCATCCGGCAGCTGGTAAGCATCCACGTCACTG\n",
        "+\n",
        "BP\\accc^aacbcYWP_\\eeb^d^^adcdcYc^^^c[c_acdcaXa\\b_Zbb`bdd]`b``b\\XW]^^^`][\\````Y`````OQ[W[`Y\n",
        "\n"
       ]
      },
      {
       "output_type": "stream",
       "stream": "stdout",
       "text": [
        "@FCD1EA5ACXX:3:1101:1363:1915#CGTACGTA/1\n",
        "NACGAAGGCGTTCGGGAAGGTGTCCCACGCGCTGAGGACCAGGCACGCTCCCAGGCCCACGAGGATGTTGAACAGGGGCCCAGCGAAGCA\n",
        "+\n",
        "BP\\cceeeaegggghhhhhhbg^efgfhfhffhhhhhhgggggceacbaaabbba_aaaaaaabZbbY`bbb`bb^_]_aaaa_a[[aRb\n",
        "\n",
        "@FCD1EA5ACXX:3:1101:1456:1917#CGTACGTA/1\n",
        "NCGTAGACCGCCCTGGCGAGCGACACGCGCTGTTTCTGCCCCCCGCTGAGGTTGATCCCCCGCTCCCCGATCTCCGTGCGGTCCCCGTCC\n",
        "+\n",
        "BPYaac^ceeecg_egXedg`fcdeagU`[[^XabbbZ_b^aaaaaTXL[^JWX]_b_[^V[aVWTWZa]RZabba_W[]TO[_^aTX[a\n",
        "\n"
       ]
      },
      {
       "output_type": "stream",
       "stream": "stdout",
       "text": [
        "@FCD1EA5ACXX:3:1101:1513:1820#CGTACGTA/1\n",
        "NAGGGACTCAGAAGCTTCGCATGGCAGGGACTCAGAAGGAGGGCGTTCCTGCCTTCGGCGAAGGAGGACGAGCAGAGCCAACCAGCGGCC\n",
        "+\n",
        "BP\\cceeegeggffhiiiihihhihhiiihhhhegdgfh`fhifhhifdgedeeeddccaca_a`a][[a_aZX`X[X^bc^acWWLXX_\n",
        "\n",
        "@FCD1EA5ACXX:3:1101:1554:1846#CGTACGTA/1\n",
        "NCCCACCAATCACTTGGACGTGAAGAACGTGGCCTGGCTGGCGGACTACCTCAACGGCCTCACCAACGTCAGCTGCATGATCGTGTCCCA\n",
        "+\n",
        "BP\\cceccggfggiiiiiiigfhhiiiihehhiiihhhiffcfg_Y``Zaa_adRFRZ^^^][aY^TW[a[Z__]X]YYY_R[``a^b__\n",
        "\n"
       ]
      },
      {
       "output_type": "stream",
       "stream": "stdout",
       "text": [
        "@FCD1EA5ACXX:3:1101:1664:1859#CGTACGTA/1\n",
        "NGAGAAGCGCCTCGGCTGTAGCCGGAGGGAGCGGCACGATGTGGAGCTCGGAGGGGAAGTTGAGGTTGGCCCTGGGGCCGCGCAGCAGGC\n",
        "+\n",
        "BS\\ccceegggggiiiiihhiihhi[fhicedggf[cecccdbd]`^abccaacccTT^G]]_bbX`ccb`^a^`_a]ac]a]ac[`aca\n",
        "\n",
        "@FCD1EA5ACXX:3:1101:1597:1906#CGTACGTA/1\n",
        "NTCAAGACAGACAACTTCGACCAGAAAGTGGGAGTGCAAATCATCCAGAACGCACTCAAGACCCCTGCACTGATCATCGCGAACAATGCT\n",
        "+\n",
        "BPYacccacgeggiaghghhhihhbfih[cfg\\eOacfgbcI^egff`cfaffdghiigfgfgeeccbdcbbbbb]bbcccccc_`_bcc\n",
        "\n"
       ]
      },
      {
       "output_type": "stream",
       "stream": "stdout",
       "text": [
        "@FCD1EA5ACXX:3:1101:1618:1914#CGTACGTA/1\n",
        "NTGACTGTGACTCACAGTCTGTGACTCACAGTCTGTGACTCACAGTCTGTGACTGTGAGTGTGACTGTGAGTGTGACTGTGAGTGTGACT\n",
        "+\n",
        "BPYccccegggfgdhhaeefdgb]gaghhhf^edfb_bfbgfhhafdggfdcgf_^a^e^_efbfdhf_W_\\bebV_ff`ccf]R\\^Z`^\n",
        "\n",
        "@FCD1EA5ACXX:3:1101:1502:1944#CGTACGTA/1\n",
        "CAGCTTTGTCGGGCTCTTCTTTCTGTGCTCAGATGGAAAGAGAAGAGGGAAACAGGGAAGAGGGAAGAAAAGGAGATCCTATGTTTTGTG\n",
        "+\n",
        "^PPJ\\``cbcccch[^aX`aQQ[b^I_d[dc`bbc[^c`WXcccc[]ccUWa\\\\\\GTTUGMGU\\X_ZGGMZ`^X]GGKTY]RTT]`^XX[\n",
        "\n"
       ]
      },
      {
       "output_type": "stream",
       "stream": "stdout",
       "text": [
        "@FCD1EA5ACXX:3:1101:1572:1957#CGTACGTA/1\n",
        "CTCCAGAGACATACAGAGAGCATGAACGCATGCAAAGAAATTTGCTGCAGTGAACTTTTGTTCACAAAAACAGTTAAAAACAGTCTACTG\n",
        "+\n",
        "___cccZaY`^`cffcf_egggbR^dd^ecaefghhbgbgbghfdgbdgggghe[a`eghhghdggffdegddcd^^acbbbbZ`bb`c_\n",
        "\n",
        "@FCD1EA5ACXX:3:1101:1713:1988#CGTACGTA/1\n",
        "GCGAACCCCTTCGCCAATCCTTATGGTGCCCCAGCTCCGTATGCTGCCGCTCCCTACGCTGCGAATCCCTTTGGTGCTGCTGCAGCAGCC\n",
        "+\n",
        "Z^_cccP[_c]cef^f_R^deeha^a^a[Zca`fehdddN^GM\\H\\H\\Z`Z\\dGVR^^bP[]^W\\^KT_RT]]GQGSY]Y__RXGS[^BB\n",
        "\n"
       ]
      },
      {
       "output_type": "stream",
       "stream": "stdout",
       "text": [
        "@FCD1EA5ACXX:3:1101:1623:1996#CGTACGTA/1\n",
        "CCACCAAGCTGGGCAGTGTGGACCTGAGCCGGAACCTGCTCCGTGGGGAGGTGGCGCCCTGGGGGCCTGCTGGGTCCCACCTTCCTCTCC\n",
        "+\n",
        "bbbeee`cgggggihhhihhidghiiiiiiiiiihhiiihhihfhiihegeZabaaccccccccccccccccbcbbaccccccccccccc\n",
        "\n",
        "@FCD1EA5ACXX:3:1101:1880:1827#CGTACGTA/1\n",
        "NTCGGTCCTCTGGGTCTCGTCCGTCTCGTCCAGGGCGGCCACCGGCATGGGCACCGCCCTATGGGAGGGCGCCAGCTGGTTCTGGCCGTA\n",
        "+\n",
        "BP\\ccccccgggghffgddhhihghhfhbcV^affcfedeW^_[`]Za^^^^GW[OVa[VJR]b`X^acacaXO[__]^^bY`GSS^aa_\n",
        "\n"
       ]
      },
      {
       "output_type": "stream",
       "stream": "stdout",
       "text": [
        "@FCD1EA5ACXX:3:1101:1885:1881#CGTACGTA/1\n",
        "NCCTGCTTGGCTTTGGCCTTGGCCGCTTTGCCCCGTGAACCAAGGTATGCCAAATCTGTAACCCCTGCCTCGGTCAACTCTTGCAACCAG\n",
        "+\n",
        "BPYaacc^ce^acffhaddgh_fh_fecefhhfhh`edfgfbacgM\\bgchh`ffbfe^`ZdgZ^^cb`bbaaaa\\bbbbbbbbb`b^_a\n",
        "\n",
        "@FCD1EA5ACXX:3:1101:1872:1989#CGTACGTA/1\n",
        "GGACAACGTGGCCTCCGTGACGGTGGACGGCGACAAGGTGTCCTTTGTGGGGCGCCGCATGGACCACATAGCCCCCGAGCACAAGGCGGC\n",
        "+\n",
        "^[V`acc^``e^geghfd_aWb[WYb\\cfU_eU_adeg\\bHV_ZacZUU\\FFRVX[aa_ZW_[b^a^__bbbbbaaT[]aaabaa^W_a]\n",
        "\n"
       ]
      },
      {
       "output_type": "stream",
       "stream": "stdout",
       "text": [
        "@FCD1EA5ACXX:3:1101:1804:1998#CGTACGTA/1\n",
        "CTCCACCATGGGCGGATCTTCCGGAACATTCCGAGAAGTGCAACGGGCTTCCAAGGACATGGACATGGAGGGTACATTCATCGAGAGCAT\n",
        "+\n",
        "bbbeeeeegggfgiihfihfhihiiiihihihihihii_ddggfeecbacccccccccbc_bbccccbccccW]`__bbdbccbcc]`bb\n",
        "\n",
        "@FCD1EA5ACXX:3:1101:2150:1821#CGTACGTA/1\n",
        "NAGAGAAGAAGAAGTGCCCGTGAGAAGAAGGCCGTGCGCATCTTCCCCCGCCCCACCTCCGGCGCCCTGAGGCCCGTGGTGCGCGGCCAG\n",
        "+\n",
        "BS\\ccc^aeggggifhhfhiiiehghffhfhfihgh`gfhdfgheghiiefeccccaccc^^aaacccabb^^aa[[_caacccccca_a\n",
        "\n"
       ]
      },
      {
       "output_type": "stream",
       "stream": "stdout",
       "text": [
        "@FCD1EA5ACXX:3:1101:2011:1844#CGTACGTA/1\n",
        "NGCAGCTACCCGCAGTACGAGGAGATGGAGAAGCGCGCGGCCGCGCACTCGGGGGAGATGCCGGTGCCGCCCAAGATGTCGCAGTACCGG\n",
        "+\n",
        "BPYaceeeegggghhihiieghfgcghicgfbgcfcfgfgWX]Z^\\TXTb[^accOVOR]R]_cT]V[TT]aXW^[R]__aaa_W]]`BB\n",
        "\n",
        "@FCD1EA5ACXX:3:1101:2245:1870#CGTACGTA/1\n",
        "NAAGGTTGAGCCCTATGTGACCTACGGGTACCCCAACCTGAAGAGCATCCGGGAGCTCATCTACAAGAGGGGCTACGCCAAGACGGACAA\n",
        "+\n",
        "BPaceeeegggggiiiiiiiiiiiiiiiggiiiiiiiiiiiiehhdfhihiiigggggeeeeeecddddccccccbcccccccccccccc\n",
        "\n"
       ]
      },
      {
       "output_type": "stream",
       "stream": "stdout",
       "text": [
        "@FCD1EA5ACXX:3:1101:2098:1896#CGTACGTA/1\n",
        "NGCAAGTCCGTAGGTGCAGAAGTGATGCCAGCTCCCAATGTGCCTCATGTTGGGTGAACCAGTGGAGTAACCTTGGAAGAACAGCACGCG\n",
        "+\n",
        "BP\\cceeeggeggheghiiiiighifhhiiiiiiiihiihiifiihfghchhhiegfdhihicfhhh^bggfeeececdbbbb^acacca\n",
        "\n",
        "@FCD1EA5ACXX:3:1101:2218:1901#CGTACCTA/1\n",
        "NTGACTCCCTTCATGAACTCGGTCACAATGCACATCCGTGAGCGCACGTCGACAAAAATGCCATAGAACTTGAGAAGGTGTGGGCACTCT\n",
        "+\n",
        "BP\\ceeceggggghiiiiiiiicghihiiihihfhiihggfhcgfhhifhhiggeeeecbddddccccccccccabbcbccccccccccc\n",
        "\n"
       ]
      },
      {
       "output_type": "stream",
       "stream": "stdout",
       "text": [
        "@FCD1EA5ACXX:3:1101:2471:1925#CGTACGTA/1\n",
        "NCCAAGTCTTTGGGCCCAGTCAACGTGTCAGCTGAGTATGCCCAGATGGCGGAGTACATTTGGATGGACGGCCAGGAGGGAAAGAAGGGG\n",
        "+\n",
        "BS\\ceeeegggggiiiiiiiiiiiighhiiiiihihfffiiiiiiiieiiiifg`dgggeeeeeeccddccccacaccccacccccbccc\n",
        "\n",
        "@FCD1EA5ACXX:3:1101:2428:1954#CGTACGTA/1\n",
        "GCCACCTACATTTTTAAGGTTGCTATTTGAGTGTTGTTTACGTGCAAGCTCTTGGACACTCCTCTGACCTCATGAACGCTTATGTTTGTT\n",
        "+\n",
        "_b_cceeeecgggiihf_gdggfhfhhhidhghhhcghiihigfcdfffhhiifdcgdgfhgfghfghhfhhgbb^`dceecddbccbac\n",
        "\n"
       ]
      },
      {
       "output_type": "stream",
       "stream": "stdout",
       "text": [
        "@FCD1EA5ACXX:3:1101:2343:1960#CGTACGTA/1\n",
        "AAAAAATTTAGGAGAACATTTGTTTGTCATCAGCACAGGACAGTGGCAGAATTCTCGCACAAGCTTGTCACTTTTTCTTTGGTGCTGGTA\n",
        "+\n",
        "[[^\\c^a^beg[[`Zae]c_`dgfhhed][bf^bcebca`cfgaefZaf\\begddgZfdgad]dbcdcda_bbbb]UZbbbba\\]_bb[b\n",
        "\n",
        "@FCD1EA5ACXX:3:1101:2495:1975#CGTACGTA/1\n",
        "TTAAGTTCCAAGAAGGCTCCATCTCGCCCCCGCAAGTGGCAGAGTCCTCATCCTCCTCCTCAGGTCTCCCGTCCTTCGACCTGTTTGGGC\n",
        "+\n",
        "_abeeeeegggfgiiiiiiiiiiiifhhiiiiiiiiehiiihhidhgfdfddggggeeeeddb`]_bbccZ`aaa`b^aaa_bbbcb^]a\n",
        "\n"
       ]
      },
      {
       "output_type": "stream",
       "stream": "stdout",
       "text": [
        "@FCD1EA5ACXX:3:1101:2702:1821#CGTACGTA/1\n",
        "NCAACTTCGACGGGTCCAAGCTGAAGCAGCAGGTGGTGCTGTCCAACTCCACCCTGCGCGCGGTGCACGGCTGCCACAGGCAGTACATGG\n",
        "+\n",
        "BS\\ceeeegggggibfgghiiiiiiihihhhii^ff^egiihhhfhhiiihiiggeeeeccccccccbccccccc_ba^aaaa`bbcccc\n",
        "\n",
        "@FCD1EA5ACXX:3:1101:2510:1835#CGTACGTA/1\n",
        "NCCTGGTTGGTCCTCCTCGGGTGAGGAACCTCCGCTTGCTGGAGGGGAGGCGTTATCTGGGGGAGGTGCTGCCTGGGGTGAGGTTGAGAG\n",
        "+\n",
        "BP\\ceecccgggegiihihihbffhihiiiiiiiiiihhihcagghiegeec^aacccdcbca_aa[`bb`baccaccT[[`ccac`bac\n",
        "\n"
       ]
      },
      {
       "output_type": "stream",
       "stream": "stdout",
       "text": [
        "@FCD1EA5ACXX:3:1101:2585:1864#CGTACGTA/1\n",
        "NAGGGGCATCGAGAGAGACCGAGCAGGACGCCATGGGTCGCGTGATTCGCGCTCAGCGTAAGGGTGCGGGCTCCGTGTTCGTATCGCACA\n",
        "+\n",
        "BP\\cee`cggeggiiiihhffffhhii`cfghgiihegfddcX`\\^cbaccacaT]`X[_acbaW[^acc_accaa^acccabccccccc\n",
        "\n",
        "@FCD1EA5ACXX:3:1101:2634:1899#CGTACGTA/1\n",
        "NAGGACAGTCCACGTGGTCAACCTCGATCCAGCAGCAGAGGCATTCGACTATGAGGTCGCATTCGACGTGCGGGAGCTGGTGGCCCTGGA\n",
        "+\n",
        "BPYcccdeggecgifdf`egfghihfhiicfghhidaefdffhffhhhhiffhfhhgfggedeceecbZ^`_^aVX[`bb`bcccc[a^[\n",
        "\n"
       ]
      },
      {
       "output_type": "stream",
       "stream": "stdout",
       "text": [
        "@FCD1EA5ACXX:3:1101:2531:1993#CGTACGTA/1\n",
        "TCCCCATCTGCCCCATTCCTGCTGCGCACTATGTTTTCTATGTTTTCTTCCCCATCTGCCTCACTGCTGCTGCGCCAGCTGCCCGTGGAG\n",
        "+\n",
        "___ccJacgcaegfde[egg_gh`^egWbed_XYaefS^[cafffe]fhfXcfed]_e_eegcffgc]bdb]dW^\\`aabbbaa^^FWW[\n",
        "\n",
        "@FCD1EA5ACXX:3:1101:2946:1834#CGTACGTA/1\n",
        "NCCGGATCGGTTGTCGCACATCTCGCCAATGTTGTCTGTCCGCTGCTCCTTGTTCGTGAATACATCGGGAGCGAAGATGGTCCTGGCTGC\n",
        "+\n",
        "BP\\ccceegfbeedgghhhhhhhhhhhbYeffd_eggbgfghhffhhhhbd`de`aaccbcdd_cY__aW_aba[__bbbbbbbbbaba[\n",
        "\n"
       ]
      },
      {
       "output_type": "stream",
       "stream": "stdout",
       "text": [
        "@FCD1EA5ACXX:3:1101:2894:1842#CGTACGTA/1\n",
        "NGCTGGGGATGCTGCTGCTGGAGCCGCTGATGCTGTCGCTGCTGCTGCTGCTGCTGCTGCCGCTGCGCGGGCTGCTGCCGCTGAGGGTGT\n",
        "+\n",
        "BP\\cceeegggggiiiiiiiiiiiiiiiihhiiiigghhhihiihhffffhhhhhcfgebgccccbaZNFOZ_]a]]baacaVT`acW^T\n",
        "\n",
        "@FCD1EA5ACXX:3:1101:2918:1874#CGTACGTA/1\n",
        "NTGAGGCCCAGCTCTACGAGCTCTTCAGCAAGGTTGGGCCTGTTGCCTCCATCCGCGTGTGCCGCGATGCGGAGACCAGGCGCTCCTTGG\n",
        "+\n",
        "BP\\aceeefggggiiifgiiiihiihiiihiihfhaagZcghigfggfegffbgaf]dedccccccYacccc_c[^accc^_accc^b]^\n",
        "\n"
       ]
      },
      {
       "output_type": "stream",
       "stream": "stdout",
       "text": [
        "@FCD1EA5ACXX:3:1101:2828:1895#CGTACGTA/1\n",
        "NTTCGGCAGGTGAGTTGTTACACACTCCTTAGCGGATTTCGACTTCCATGACCACCGTCCTGCTGTCTTAATCAATCAACACCCTTTGTG\n",
        "+\n",
        "BP\\cceeeggcggiihiihihifiihhiiiiiiiihhhidghhiifhhhhhhihfggeeeccddcbcccdddcbcbbccccaccaccbcb\n",
        "\n",
        "@FCD1EA5ACXX:3:1101:2913:1954#CGTACGTA/1\n",
        "CCTCGGGCTTCACCAGGCGCTGCAGAGCCCACGCAAACGCATGGGAAGCCTCTGGCGTCTCGTCCACTGCTGCCACGATCTTGCGTGGGG\n",
        "+\n",
        "a_beceeegggggiiiiiiiiihhehgghiiiiiehhhhiihiggggdeeeddcddcccccbccc^bbccc_bab`aaaaccbcccaaac\n",
        "\n"
       ]
      },
      {
       "output_type": "stream",
       "stream": "stdout",
       "text": [
        "@FCD1EA5ACXX:3:1101:3034:1842#CGTACGTA/1\n",
        "NCTGGATCTTGGCCTTGACGTTGTCGATGGTGTCGCTGCTCTCCACCTCGAGGGAGATAGTCTTGCCCGTCAGGGTCTTCACGAAGATCT\n",
        "+\n",
        "BP\\cc`Zcc^egcgda^egfhh^^^e_df`I^^bc__eeaegX^^egg_Z`S__FTYRVRVVabbbbbFRZZFX_GT^]`Z`aaaaX]bY\n",
        "\n",
        "@FCD1EA5ACXX:3:1101:3108:1849#CGTACGTA/1\n",
        "NTCGGAGGGGCTGGTGGCGGGGCAGATTGTGGACCTGGCGAGCGAGAGGGACCCCAGCGTGGGCGTGGAGCTGCTGGAGTGCATCCACCC\n",
        "+\n",
        "BP\\cc\\c`cgcgghhhhhhfhd^]aa`bXT]a_`b[GTTTP[X_TYWVGHV[[^_WJQTJT[aa]Vaaaa^Q]]bbbJ[GGS]`_^bbBB\n",
        "\n"
       ]
      },
      {
       "output_type": "stream",
       "stream": "stdout",
       "text": [
        "@FCD1EA5ACXX:3:1101:3004:1888#CGTACGTA/1\n",
        "NCAAGACCAGGGCCCCACCAGGCTGGTCCCTCGCAGGAGGGCAGCACAACTGGGCATGCTGCTGCTGCTGCTGCTGCCGCCGTTGCGGCG\n",
        "+\n",
        "BS\\cceeefggggiihiiihhiiiihfhiggfgghfcfgffN_f^dgeeda^bbcd`_bbbbcccccccbbbccb__a_ac[[aacac[_\n",
        "\n",
        "@FCD1EA5ACXX:3:1101:3047:1892#CGTACGTA/1\n",
        "NTGGGACATGCCAAACGCGTCGGGGTGTGCAATGACCAAGCAGCCCTGCTCAGGAATGGCCAACGAATGAGCCCAAAACGACGAGGAATC\n",
        "+\n",
        "BP\\ceeeegggggiiiiiiiiiiiicgegfhhieihihihfegbdeedcbdddccccccccccccc_cccbcccc`acc]ac[accccbb\n",
        "\n"
       ]
      },
      {
       "output_type": "stream",
       "stream": "stdout",
       "text": [
        "@FCD1EA5ACXX:3:1101:3184:1962#CGTACGTA/1\n",
        "CAAGCCTCCCTTAGCCTGTGTTGGGCCCATCAAACACATTCAACACGTAGTATGTGTTGAATGTGGTACATGTTACATGTACCACCAAGT\n",
        "+\n",
        "bbbeeeeegggggiiiiighghiiiiiihiiiiihhiihiehhiiiighfhhhhgfhhhhhhhgihgggggggeeadeeeddcddccccc\n",
        "\n",
        "@FCD1EA5ACXX:3:1101:3107:1998#CGTACGTA/1\n",
        "CCTTGATCCACATTACGACCCGTTACAGATATGTACATTTGTGAGGTGACTTGCAGGCTGTGCCTAAGCCATATCTGAAGGGCTTTTCGC\n",
        "+\n",
        "_bbeeccefgggghhgdfhhhfeg`gfcdghhheghabghffhdfh^c_ceggfhhfgdbbdgdffdggggeeeede_bdccaccbcb_^\n",
        "\n"
       ]
      },
      {
       "output_type": "stream",
       "stream": "stdout",
       "text": [
        "@FCD1EA5ACXX:3:1101:3500:1843#CGTACGTA/1\n",
        "NCGGAGTGGGTGTGGAGTCAGTGTACGGCAGGGACCTGGCTGAAGCTCACATGGATGCCTGCATCAAGTCTGGCCTCATGATCAGCGGCA\n",
        "+\n",
        "BP\\cccacg^_ccdfhhfgdfgagffaP_`fgfVcg_cefbd_fabfhfgfZ\\dd]dZaadeedbbdbcbbRT]`_`]_bbb]bGTZa_a\n",
        "\n",
        "@FCD1EA5ACXX:3:1101:3365:1846#CGTACGTA/1\n",
        "NAGGCCAAGACAAAGAGCGCAGACATGGCCGCCCTCTTCTGCGCAGGTGGTGGTGCACCGCCAATCTGTGACTGGTGCCGCTGACTGAGG\n",
        "+\n",
        "BP\\cceacgggggihhhihiiiihihiiihiiiiihhihhihhhhfg_ceecc`acccccccccbccddcdccccb[`bcccccccc`bc\n",
        "\n"
       ]
      },
      {
       "output_type": "stream",
       "stream": "stdout",
       "text": [
        "@FCD1EA5ACXX:3:1101:3253:1849#TGTACGTA/1\n",
        "NTGGCCTTTGCGCCCTACGCCGATCTCCTGTGGATGGAGACGGCCAAGCCCGACATTCACCAGGCCAGGGACTTTGCAGAGGGAGTCAAG\n",
        "+\n",
        "BP\\cceeeggggfiihiiiiiihhhiiihighighiiaffehhfggg\\^cbaaa_acccccbacccccccca`bcccccccccccW``bc\n",
        "\n",
        "@FCD1EA5ACXX:3:1101:3307:1983#CGTACGTA/1\n",
        "CACGTCAGCAGGATGGTCGCCACTAACAAGGCTCGTGAGGGCTTCATCTTCAGCAGCTTTCGGTACAGTCAAGGAACAGATATCTGGAGG\n",
        "+\n",
        "_^^cccccgcZeca^PJ[[e^[bbeegg__^cgf^WaZGGLLW_efeSW_c]cg`dgbgedacPZX]`]]ZZZ_ZGX^^b``]bccbbW^\n",
        "\n"
       ]
      },
      {
       "output_type": "stream",
       "stream": "stdout",
       "text": [
        "@FCD1EA5ACXX:3:1101:3713:1820#CGTACGTA/1\n",
        "NTACGACACCCCTGCTCAGTGCCATGCCAGGCTTCCTCCTTTCTGTTGATTCTCCGATGAGTGCTTGGTAGTCCTTATCGGGAACCACTC\n",
        "+\n",
        "BS\\cceeegggggiiiiiihiihhihhiifgihihfhhhhhifhghidfhhfhhifhighhgfeggdedeedeedbddcbca_acccccc\n",
        "\n",
        "@FCD1EA5ACXX:3:1101:3608:1906#CGTACGTA/1\n",
        "NTCACTTCCCCACGACGACCTCCTTATCCCGTCGTCCCAGGGAACAAATGCTGCAGCTTTAACGAACTGGATGAGCTATCCTGGTGACGA\n",
        "+\n",
        "BPYcccdeggggeifggaghfhhhifdcfgghf]fffhgihffggggg]]bcceedbbbdddccccccc^bcbbb_`bbcccbbbbcccc\n",
        "\n"
       ]
      },
      {
       "output_type": "stream",
       "stream": "stdout",
       "text": [
        "@FCD1EA5ACXX:3:1101:3645:1944#CGTACGTA/1\n",
        "CTAAGGCTCATGGGGCGTGCTGCATCCCACATCACTCTGGAGTGTGCCCTGCAGACACACCCCAACGTGGCAATCATCGGCGAGGAGGTC\n",
        "+\n",
        "___^ccc`bceggca_d^efh_ffbgfbff_cacefab\\RW\\W\\W\\Vb_cU\\bV\\`a_^aP\\_^^_[`aaa^bbb]bbXX]aaXaBBBBB\n",
        "\n",
        "@FCD1EA5ACXX:3:1101:3756:1834#CGTACGTA/1\n",
        "NGCGGACACAGATTGCAGCCAATTCGAGAACAGTGATGGCAATCATGGGCCCCGAGGAGGTAGTACAACGTGTCACCGGTCACCTCAAAC\n",
        "+\n",
        "BP\\cceccgc^eefagfddefhgffhh[begbbffhfddhhhffhhg`XaeghNZW[WZaKUR]]bbbba\\`bab`ba\\T]]Y`babb_]\n",
        "\n"
       ]
      },
      {
       "output_type": "stream",
       "stream": "stdout",
       "text": [
        "@FCD1EA5ACXX:3:1101:3926:1901#CGTACGTA/1\n",
        "NGCTGTGCTCCTCTGTGCTCACCTCAACTTTTCTGCACCCTCTCGCCAAGTTTCAGTCGCCGCCATCACTGACATTGTTTCTCCAGACCT\n",
        "+\n",
        "BP\\cccccecegcgadegfdddfba_e`^`eeafdgbghfhfhhhceZc_X\\e`\\ea]efdgdcaZ_Z`bbbbY`]`]`bbbbbbY_aab\n",
        "\n",
        "@FCD1EA5ACXX:3:1101:3848:1922#CGTACGTA/1\n",
        "NACTGGACGGCGGCAACATGCGCGAGGCCCTGAAGCACGCGTCGCAGATGCTCTCGGAGCTGCGCACCTCCAAGCTCTCTCCGCAGAAGT\n",
        "+\n",
        "BP\\ccceegggggiiiiiiiiiiihgeecccdccccccccccccccccbcccccccccccccccccccccccbbcbbcccccacccaccc\n",
        "\n"
       ]
      },
      {
       "output_type": "stream",
       "stream": "stdout",
       "text": [
        "@FCD1EA5ACXX:3:1101:3863:1961#CGTACGTA/1\n",
        "CTGGCAGAGCAGCCTCTTTGTCTCCAAGTGGAGCATGCACCAGCTGCTTGTGGAGTGTCCGTCTGTGTACGAGCTGATGGCGGACTACTC\n",
        "+\n",
        "a_beeeeegcgggihffiihffhihhii_gghifhihhhihhiiiiibdeedgeeaegghh`dgdgfdddggee[b_b`dccaY]_bbbb\n",
        "\n",
        "@FCD1EA5ACXX:3:1101:4087:1896#CGTACGTA/1\n",
        "NTCGACCCAGACCACAGCACAGCCCGAGGCTCCTACCACGAGCTCTGTCAACAGCCGCTGCTCTCATCCTCACCTCGAACTCCCCTTATT\n",
        "+\n",
        "BPaceeeegggggiiiiihiiiiiiiiiiiiiiiiiiiiiifhggggggfeeedecbccccccccbdbcccbccb^[]^`abcccba_bc\n",
        "\n"
       ]
      },
      {
       "output_type": "stream",
       "stream": "stdout",
       "text": [
        "@FCD1EA5ACXX:3:1101:4013:1909#CGTACGTA/1\n",
        "NTGCCACGCAGGCGGACTGCACGCCCGCTCTGACCATCATCCACACTCCTGGACACACTGCAGGGTCTTGCTGCCTGCTGGTGGAGTACC\n",
        "+\n",
        "BP\\accccgggc`eghadeb]ccghfZZ`_egg_dgfbg``\\dcca^bb``b``ZZ\\Z[YYbb^ZGT^]Y]YYba]]``Y]X^aW[`^]Y\n",
        "\n",
        "@FCD1EA5ACXX:3:1101:4062:1976#CGTACGTA/1\n",
        "CCGCATGCCAGTGGACTTGCACTTCTTCCTCCTGAAGCCCATGAGCCTGAGGCTCCAGGCCGTGAGTGCCCCCACGATGTGCCCCCAGGC\n",
        "+\n",
        "bbbeeeeeggfggiiiiiiihiiiiiiiiiiiiiiihiiiihgiihihiihichiiieghiifgg^bcdeeecbcacccccccccc[_ac\n",
        "\n"
       ]
      },
      {
       "output_type": "stream",
       "stream": "stdout",
       "text": [
        "@FCD1EA5ACXX:3:1101:4260:1841#CGTACGTA/1\n",
        "NGAGGAGGTACTGGAGCACGGAGAGGCAGAGGGGCAACCCAAAACAAGGCTGGCTGCGGACAGGGCAGAGGGAGCAGGAGGGGAGGGACC\n",
        "+\n",
        "BP\\ceeee`egggiiihiiiifhhiiiiiiiiiihihhihiiiihigegffceedcccccccccccccccccZ_TQ[`a_ccc]_ccT^a\n",
        "\n",
        "@FCD1EA5ACXX:3:1101:4330:1859#CGTACGTA/1\n",
        "NGGGCATCCAGGTCGTCTCCAGGGCGCCCTTCCACTGCACCTCGTACTCGTACCCCTTCTTCAGCTTCCTCCTCGCCAGCAAGCTCTCCA\n",
        "+\n",
        "BP\\aceeeegegefdggfhg`dhdfafhhfhhfafdfg]fgfhfbdgZdP_bdgge\\aZ_`dY_dcbbbb`bbbYW^_T_X^bacbbbbb\n",
        "\n"
       ]
      },
      {
       "output_type": "stream",
       "stream": "stdout",
       "text": [
        "@FCD1EA5ACXX:3:1101:4474:1892#CGTACGTA/1\n",
        "NCGCGAGCACGCCCTGCTGGCCTTCACCCTCGGAGTGAAGCAGATGATCTGCGCCTGCAACAAGATGGACGCCACAACGCCCAAGTACTC\n",
        "+\n",
        "BP\\cccceec`gggffhegdghhihfiifcfhi`gbeeegchiifhfdggbfggeccddddcccccccbcacaca`^accaacccbccdb\n",
        "\n",
        "@FCD1EA5ACXX:3:1101:4467:1965#CGTACGTA/1\n",
        "CTTCGCCCGCGACACATCGTCAGGGGGCCTGGAAGACACCCAGGCACGGAACGTTTGGTCTCTTACAGGAATCGACCTCATCGGGCGCAG\n",
        "+\n",
        "___eeeececgcgfgfagcc\\^cfg`aefVZ\\`^dcc_cbb`^_^``^aac_[GR[[[^bR_]_bbSYXWP]b^aBBBBBBBBBBBBBBB\n",
        "\n"
       ]
      },
      {
       "output_type": "stream",
       "stream": "stdout",
       "text": [
        "@FCD1EA5ACXX:3:1101:4619:1878#CGTACGTA/1\n",
        "NTTCATCCCCTGCACTACAGCTGTCAGTATACTGTTCACTTGCTCCTGGGCCAAAACATGTGTCTCGGCCACCTCCTCACAGACAAAACC\n",
        "+\n",
        "BPYaacacc\\]eebegdZ^`dfffgggffghhhSbe[^cgh_fcXacY^eedGWaegfdfae\\bYZ_b\\dddg[a^aa_bbbba_\\^aaa\n",
        "\n",
        "@FCD1EA5ACXX:3:1101:4724:1912#CGTACGTA/1\n",
        "NGCCGGTCTGTCTGCCGACCCCGAGACTTTCTCCAAGAACAGGGAGCTGGAGGTGATCCACGCCCGCTGGGCCATGCTCGGTGCTCTTGG\n",
        "+\n",
        "BPYccc_cgaecec]fcde_ebbcc_cccgbfceef]befgdcf_dWbge`dcT^^b`b``aaaa_aa\\_aaaabbbbbaaW^]_bbb`b\n",
        "\n"
       ]
      },
      {
       "output_type": "stream",
       "stream": "stdout",
       "text": [
        "@FCD1EA5ACXX:3:1101:4506:1944#CGTACGTA/1\n",
        "TTTTTGTACTGTAAAAGGAAACTTTGATAAGGGTACACTTCACAGAAATATTCACAGAAGCAACGTCATAAGAATCAAGGAATGGGTTTA\n",
        "+\n",
        "bbbeeeeeggfgghiiiiiiiiiiiihiiiiiieghiiiiiiiiibghiiihfhihihiiiiiihfhiihhdghgggggeeeeeddbbcc\n",
        "\n",
        "@FCD1EA5ACXX:3:1101:4576:1968#CGTACGTA/1\n",
        "GGGAGAGCTTGAAGGAGGAGCGGATGCGGTCCTCGAGGAGCGCGAAGGGGATGACGCCGGAGGCGGCGTTGGCGGCGGCGGCGGTGATGC\n",
        "+\n",
        "a_aceccegggggihdhifhfghihhhihghhiihhiifcdggebaccccaaabbcccccaacacccaV_acccccaaac_X[aBBBBBB\n",
        "\n"
       ]
      },
      {
       "output_type": "stream",
       "stream": "stdout",
       "text": [
        "@FCD1EA5ACXX:3:1101:4971:1821#CGTACGTA/1\n",
        "NAGTCGGAGTCGTTTGTTGTCCCTGAGATGCTGAGGAAGCAGGGGGAGGAGATTCACATCAAGGACAAGATCCTGAGAGCAGTCACCAGG\n",
        "+\n",
        "BP\\ccceegggggiihghhiihhiihhiiihiifghc`cfgiiiiiagecccccddcddccbcc`accccccccccccccccbccccccc\n",
        "\n",
        "@FCD1EA5ACXX:3:1101:4761:1855#CGTACGTA/1\n",
        "NGGCCTGCTGGCGCGCTTGCTCAGGACTCTGCGCTCGGCCATGGCGCGGGGAGGGAGGCGGGGGCTGCCCGCGTCCCCTTGGCGTCAAGC\n",
        "+\n",
        "BPYcccccceggg[^dgfhde`_^eeffcbgdffh_Z`egd_R`dgcXZ^_TWa__V[VZ[[EVR_]a^BBBBBBBBBBBBBBBBBBBBB\n",
        "\n"
       ]
      },
      {
       "output_type": "stream",
       "stream": "stdout",
       "text": [
        "@FCD1EA5ACXX:3:1101:4782:1879#CGTACGTA/1\n",
        "NCGGGGGACCCCCTGTACGACGACGAGGGGGAGGGCTACGAGGATGCGCAGCTCCTGGTGCCGCGGGCAAGTGGGCGAGCCCTGCGGTGG\n",
        "+\n",
        "BPYccaccgcegcgfcfghghd_eg[dacbcX\\Zaaacb_UVaa^_^Yacaccbb]]]]bcbccccZ_V^a]bY^^a[X_cccc^a_OT]\n",
        "\n",
        "@FCD1EA5ACXX:3:1101:4870:1899#CGTACGTA/1\n",
        "NTACAGCTGAGCTTGCGAGTGAGGGTGGTGTGCTTGGGGCTGTGGCGAATGTGCAAGGGTGTGCACAGGTCCTAAGTCCAGGTCTACTGG\n",
        "+\n",
        "BP\\ceeeeggggfihihgheghiiidgg^efghihhiiiiiiihhfhfgeeeeeeddcc_accbdcccc_bbccccddccccbccccdbc\n",
        "\n"
       ]
      },
      {
       "output_type": "stream",
       "stream": "stdout",
       "text": [
        "@FCD1EA5ACXX:3:1101:4751:1911#CGTACGTA/1\n",
        "NGGACCTCACCATCGCCAAGTCATCGCCTGCCTACCAGGCCAAGCTGCAGACGGACCTGCTCATGGACGCGGTGCAGCGGCTGCAGTCGG\n",
        "+\n",
        "BS\\cceeeggfggiiiiiiiiiiihhiiiiiiihiihiiiihiiiiiihhiifihgggeeeeedddddccccYaabccccccccBBBBBB\n",
        "\n",
        "@FCD1EA5ACXX:3:1101:4850:1922#CGTACGTA/1\n",
        "NGGCCATCCCTCCTTGCCATACCTCGTCACAGAATACTTTGTTTCTCTCGAATCCTGATCACTCCTAGTCTCTGGCCCTACCGTTCTTTG\n",
        "+\n",
        "BP\\ceeeeffgggiiiiiiihihiiifiihihhhhffhhihghifhdgffhihhifa`fgfidfHacghieggdddcecdcda^_bacb]\n",
        "\n"
       ]
      },
      {
       "output_type": "stream",
       "stream": "stdout",
       "text": [
        "@FCD1EA5ACXX:3:1101:4829:1961#CGTACGTA/1\n",
        "CCATGGCGTCCGAGGAAGTGCGCAAGCTCGGCGCTAACGACACGGTCCCCTTCAAGACTGCCACAGCTGCCGCCTCAAGTTTCGTCCTTG\n",
        "+\n",
        "b_beeeeegggggiiiihffhfhghiifhihhhiiggfeecccccacacccccccbccccccbcc^acccccacc_ccb]bcb_a_accb\n",
        "\n",
        "@FCD1EA5ACXX:3:1101:5043:1981#CGTACGTA/1\n",
        "GCAGTTCTGTGCCTCCCAGGGCATCCAAGTCATTGCCTACTCCCCCCTGGGACTGGGGGCCCTCTCTGGGAAGTACAGCGCCACCAACCT\n",
        "+\n",
        "a__eeeeeggacgfhihihhiiiihiiiihihihiiiiagihfdghifghhfhdfiggeacc^acbcccccbcbZZ]`baaa]ccca_Tb\n",
        "\n"
       ]
      },
      {
       "output_type": "stream",
       "stream": "stdout",
       "text": [
        "@FCD1EA5ACXX:3:1101:5435:1972#CGTACGTA/1\n",
        "CGCAGCGCAGCTGCAGCAGCACCAGCAGCAGATGCAGATGCAGTTCCAGCAGCAGCAGCAGCAGATGCAGATGCAGCACCAGTACTTGCA\n",
        "+\n",
        "b_beeeeeggggfhdhiihghhiibffcgfZcfghhidghhhifg_effihhi`dfbggff]dc_HMVZZGGZ_bZ]a^^`GT]`BBBBB\n",
        "\n",
        "@FCD1EA5ACXX:3:1101:5668:1820#CGTACGTA/1\n",
        "NTTGGGTCAACGAGCTTTGTGTGGACTGGAATAATCTCGTCCTTGAAGCGTCCTGCAGCTTGGGCTGCTGCTGCTTTCTTGTGGGACTTT\n",
        "+\n",
        "BPY`cccce^e^b[^^`ddefg_bRdggba`efcdddXaWa`efa[^egh`beVcVV\\dV^ddddc`bbbbbbbb``]_``bGW__^BBB\n",
        "\n"
       ]
      },
      {
       "output_type": "stream",
       "stream": "stdout",
       "text": [
        "@FCD1EA5ACXX:3:1101:5616:1822#CGTACGTA/1\n",
        "NTCCATTCTCCCGAGCCCTGCTTTAAACTCTGAGCTTCAGCATCTACGGGAGCACAACCCCGCCAGTGTGTAGCTAGAGGTCTTCGCCTC\n",
        "+\n",
        "BP\\cceeegggggiiiiiiiiiiiiiiiiiiihiihhiiihhhhihhiiiffhhfhihgggecc]abcdccdcccccccc]bcccacccc\n",
        "\n",
        "@FCD1EA5ACXX:3:1101:5508:1836#CGTACGTA/1\n",
        "NTTCAACATTGCCGGCCCCGCCCTGAGGCAGTTGGGGAAGATGACTGGAGGCAGCCTCCTCCCCTCTCTGGGCGCCAAGAAGGCACCCGC\n",
        "+\n",
        "BS\\cacac^b`^c`d`ddddcccYOHONONLMWWaFLTTZUV\\HM\\Z_c^\\VZ]\\^^\\\\[X]^^^^^````^^^ZTT][]^`^^]^^^^^\n",
        "\n"
       ]
      },
      {
       "output_type": "stream",
       "stream": "stdout",
       "text": [
        "@FCD1EA5ACXX:3:1101:5623:1844#CGTACGTA/1\n",
        "NAGGAGCAGATGAGCAGCAGGGACACGCACACCACCACGATGGCCAGCAGCTCCATGGGGTTCACCTTGGCTGCTGCGCTGGCCGAGTCA\n",
        "+\n",
        "BP\\cceeegfggfiiiiihihhhhhiiiiihiiiiiiiihhefhhiichihhgfddgeee[`ddcbcccccccacccccccc_acac_b]\n",
        "\n",
        "@FCD1EA5ACXX:3:1101:5552:1943#CGTACGTA/1\n",
        "CTTGAGGGAGGTCAGGGACCCCAGCTGCGGAGGGATGGGCCCAGACAGCTGGTTCTTCCGCAGATCAATGTACGCCAGCTGCAGGAGCTG\n",
        "+\n",
        "bbbeeeeeggggghiiiiiiiiiiiiiiiihihihiiiiihiggggeeeedcbdbdcccccacccccccbc__`a_accccccccccccc\n",
        "\n"
       ]
      },
      {
       "output_type": "stream",
       "stream": "stdout",
       "text": [
        "@FCD1EA5ACXX:3:1101:5505:1954#CGTACGTA/1\n",
        "GTGTGGTCAAAGGGCATGGTTGTTGATGATTTCCTTAGCCAGCACAAAGCAGAGGACGCCCACAAGGGTGTGCTACTGGCGATCGATTGT\n",
        "+\n",
        "__bccecc^ceegiifhhhhghfgfhhifiiiihihihhfgfghhhaeghhfbfhiiihigggea_^^Z^aabcc`bcbacccccccccc\n",
        "\n",
        "@FCD1EA5ACXX:3:1101:5625:1961#CGTACGTA/1\n",
        "CTCGGTCGCTCGGGGATCTACAAGAACAAGGAGACCACGGACATGTGCTCCAAGCTGTCCCTGTACTCGTGGATGGGGAGCTGTGTCACC\n",
        "+\n",
        "aabeeacegeggfihhhiiihiiiehhhihhhffhihihfffgeggecdeeec`bdbbccccccbcdcc`acacba`a^X[`bSXS_bcc\n",
        "\n"
       ]
      },
      {
       "output_type": "stream",
       "stream": "stdout",
       "text": [
        "@FCD1EA5ACXX:3:1101:5591:1973#CGTACGTA/1\n",
        "GTGACCGACTGCCGGTAAGTCTGCCCCAGCACTCCGTGGACCTTCTCCGAGGCCTGAACGCGGTGGAAGAGCAGGTTGAAGTGCACCTCC\n",
        "+\n",
        "bbbeeeeegggggiihiiiiiihiiiiiihhiiiiihihiiiiiiihicggeccdcccccccc[acacccccccca`bcccb`bbcccca\n",
        "\n",
        "@FCD1EA5ACXX:3:1101:5640:1983#CGTACGTA/1\n",
        "GGGGTCTCAGCCACCGACGAGTCCAGGTCGTGCTCCACGTAGACAGTCTTCAGCTCGTCCGGGCTGGGGAAGTTCTCCACCTGCCCCTTT\n",
        "+\n",
        "__beccddcggggfgfgfffhfgfhifYae^effhhfhhZbccgfhffhiede_db^X^b[]acc^a^^QT[Y``_bccccaXP[aBBBB\n",
        "\n"
       ]
      },
      {
       "output_type": "stream",
       "stream": "stdout",
       "text": [
        "@FCD1EA5ACXX:3:1101:5808:1829#CGTACGTA/1\n",
        "NAAGCAGGTCCTTCAGGTCTGTTCATTCATCAAAGACCCTGCTGGCTGGAGTGTCTGCCACTTCCAGACCGCCGACACCTGTCAAACGAC\n",
        "+\n",
        "BP\\cceeeaggfghhhhbeffhhhhhhhhhfhfhhhhhhhfhhhhfhfhdddgcfffchhh_eegfcd`d`ce[^ZZ\\^Y`bbbcbb]aa\n",
        "\n",
        "@FCD1EA5ACXX:3:1101:5769:1863#CGTACGTA/1\n",
        "NTCCAGTAGGCCTGTCTCCCGCGGAAAGGGGCTTGGCGCGAGATGGCCGAGAAGCACTTGCTGGCGGAGACGAAGCTTGTCCATGGTCGT\n",
        "+\n",
        "BP\\cceeeggffgiiiiiiiiiiifhhhiiigiihidgdgaeaaddbcc\\aacbbcccccccccaccZa_acaa_[`b][_`bccb]__T\n",
        "\n"
       ]
      },
      {
       "output_type": "stream",
       "stream": "stdout",
       "text": [
        "@FCD1EA5ACXX:3:1101:5961:1883#CGTACGTA/1\n",
        "NAAGTGGCAAACGTGCAAACACACTGAGCAGGAGATTTCCCACTTGCTTGGACAGTTCTCTCTCCCAAAAGATTGGCACCAGCAGAGACA\n",
        "+\n",
        "BPYc`cceac^eg^egagfffbbgagf]_dggegW^efdfdheegfhfgdeXe`eV\\V_fdb`bcfbgbgX^]cdZ`b]`a_abab_[^b\n",
        "\n",
        "@FCD1EA5ACXX:3:1101:5892:1946#CGTACGAA/1\n",
        "GCCACCACTACTGTCACTATTCACACATTTACATTGCTGCCTTAGAGTTCAGCCGCTGGGCAAGGCGCTGGGCAAGCCCACGATCAACCT\n",
        "+\n",
        "___ccc\\cccccagffhXbbggf`gee]dfae^ffXbabcfgghhhh^ffhhfhaff_ebeHZPZdggdaNPUGTP\\^^QW\\Z_aabbab\n",
        "\n"
       ]
      },
      {
       "output_type": "stream",
       "stream": "stdout",
       "text": [
        "@FCD1EA5ACXX:3:1101:5854:1955#CGTACGTA/1\n",
        "TGGGACTTCCCCTTCCACGTTAAGCCCCTGGTCGTGTCATCATCTCCAGCACGCGACCCTTCACCAGCAGTCACTTCTCTGTGCTGTTGA\n",
        "+\n",
        "___e`eeeegggghhhhfheedh_ggihhhice[cffhghhhfdfhfhhihfffigccbdbbccccccbaY^bcb_bcccbccc_bbcb`\n",
        "\n",
        "@FCD1EA5ACXX:3:1101:5821:1961#CGTACGTA/1\n",
        "GCCCCTGCCACTCCAACAGGTCATCAGGGTTGCCAAGGACATTGCTCAGGCCATGCTGTTCCTGCACAGCAAGGGGATCATCCACAGGGA\n",
        "+\n",
        "bbbeeeeeggggghiihiiieggffhihieghihhhhhhiifhhahhihiihhfghhiiiihhihfhggfgeeeecbcccccccccaccc\n",
        "\n"
       ]
      },
      {
       "output_type": "stream",
       "stream": "stdout",
       "text": [
        "@FCD1EA5ACXX:3:1101:6098:1823#CGTACGTA/1\n",
        "NCAGTGGGCTCCCGCTCCCTGAAGCTGTGGCAGGCCTGCGTCATTGCCATTTTCACTGAGTTCGGAGGAGCCGTGCTGCTGGGCGGGGAG\n",
        "+\n",
        "BP\\cceeegggggiiiiiiiifiiiiifiiiiiifhha^`YY_bg_bgS_ccgR^^bgde___aa^acT[`^^Z_acbbbbbc^aaccBB\n",
        "\n",
        "@FCD1EA5ACXX:3:1101:6249:1848#CGTACGTA/1\n",
        "NTTGGGGAACTTGTTCACCGCCTTGCGCAGCAGCTCCACCTCCTGCCGGCTCCACGGAGCGCTCGGAGCACCACCAGCACCAGCACCAGC\n",
        "+\n",
        "BP\\cceecgeggghihiighiiiiiihihihhhihih`aagfgghhiffeeaeeb^`acaacaa]]Zaccc_acc``cbaaaaccccccc\n",
        "\n"
       ]
      },
      {
       "output_type": "stream",
       "stream": "stdout",
       "text": [
        "@FCD1EA5ACXX:3:1101:6033:1864#CGTACGTA/1\n",
        "NGCAGGCAAGGCCCTTGACGCCATGGCTCCTCCGACGAAGAAGGCCGTCTCGGCCACGAGCGCCCCCGGCAAGGGCAAGAAGAAGGGCGT\n",
        "+\n",
        "BSaceeeegggggiiiihiiiiiiiiiihiiiihiiiiifgiffdgfedeebcbccccaaY__ccccccaaaacc[W^^[`^bbb`aV[T\n",
        "\n",
        "@FCD1EA5ACXX:3:1101:6227:1880#CGTACGTA/1\n",
        "NTTGACTACGCCGCCCGTGCGAAGGTCCAGGACGATGCCTTCAAATCATTCGCCGCTGTCAGCGAGAAGCTTGCAGCCCTCCTGACGAAG\n",
        "+\n",
        "BP\\ceeeegggggiiiiiiiiiihifhiihhhiiiehggggV^cecceeeddccccccccccccccccbbccccccccccccccccc_ac\n",
        "\n"
       ]
      },
      {
       "output_type": "stream",
       "stream": "stdout",
       "text": [
        "@FCD1EA5ACXX:3:1101:6082:1904#CGTACGGA/1\n",
        "NGACACCGTGCTGCGGTCCAGGAGGTCCACCAGGCCTGCTGTCGTCACGCTGATGTCACCTGTGGTGGGGCATGAGGCCCAGAAGAGTGT\n",
        "+\n",
        "BSYcccc`^cgceff`^dcgcfbghYcc_ce^aZef[Pac[aa`Z__dggddNHZV_ccdbbR]`G\\Z\\Y\\Q^PRY]^^^OWGRRR[SSY\n",
        "\n",
        "@FCD1EA5ACXX:3:1101:6173:1944#CGTACGTA/1\n",
        "CCCTGACAGGCCTCAGGAGCCTGGGCCTGGAATGTAGACTGCGTGCGTCGATCCGGGAGAAAGAGCTGGGAAGGCTGGTTAGCCTGAAGG\n",
        "+\n",
        "bbbeeeeegggggihiiiiiiiiiiiiiihfhfhfffhiihiifhiigihggeggee]aaaccbccccccabaccbcabbbacccccccc\n",
        "\n"
       ]
      },
      {
       "output_type": "stream",
       "stream": "stdout",
       "text": [
        "@FCD1EA5ACXX:3:1101:6247:1953#CGTACGTA/1\n",
        "CATGAAGAAGGATGAGTTTGGAGTGTGGGAGCTCTTCCTTCCCGACAACGCAGACGGCACCTCTGCCATTCCCCACGGCTCCCGGGTCAA\n",
        "+\n",
        "b_beeeeeggggfifhhihhhfhfggfhhfffgfgghdgff`eggfhhfghhfhfgdebcccccccccccddccbZZ]cacacET]X_[b\n",
        "\n",
        "@FCD1EA5ACXX:3:1101:6012:1970#CGTACGTA/1\n",
        "CGCGAATGCAACCCTGGCGGCCATGGGCCCCTCCAGGACTCTGACAGCCTCCTCGTTCTCGTCGTCCTCCTCATCGCTAGCCTCGCATCT\n",
        "+\n",
        "bbbeeeeegggeghiiiiiihihiiehfhiiiiehihdefggggeeececccbba`acccccccacccbccc`bbb_c_X`^`bcc_acc\n",
        "\n"
       ]
      },
      {
       "output_type": "stream",
       "stream": "stdout",
       "text": [
        "@FCD1EA5ACXX:3:1101:6047:1983#CGTACGTA/1\n",
        "CGCAAAGCTGATTGAGGAGGCCACAAAGGAGGAGGAATTCTCAAGGAAGGAGGCAGACCGCTTGAAGGCTGAGATTGCCACACTCCAGGC\n",
        "+\n",
        "bbbeeeeegggggihihiiiiiiiiiihighfffhhihidhhiihidfhighihihiggeecccccccccccabbbcccccaaccbccca\n",
        "\n",
        "@FCD1EA5ACXX:3:1101:6461:1867#CGTACGTA/1\n",
        "NCAGAAACCAGGCCCACCTCTCGGAACATCCTGGTTACCAGCAACGGAACTCCCCTCACTGGATTCCAGGAGCCAGCTCAGCAGCAGCCC\n",
        "+\n",
        "BP\\cccccgege`ghhfghhhhfaefdghhhhffffghhhhhdhfhhbefdghheggedcbddbbbdcbRT\\^abaab`b]bb`aaW`aa\n",
        "\n"
       ]
      },
      {
       "output_type": "stream",
       "stream": "stdout",
       "text": [
        "@FCD1EA5ACXX:3:1101:6260:1867#CGTACGTA/1\n",
        "NAAGAAGACGACGACGGTGATGTCGTCGTGGTACTCCCTCCTCTGGCCCGAGGACATCCTCAGCAGGTCCTGGTACCGCACCTCCCGCTT\n",
        "+\n",
        "BP\\cccccgeggghhhhYcbgffedgfhfghedfeghf`ffgedddgddbbaaaabbb^bb`^b`aaGY_Y]b`b`bX]_a]baaaRX]_\n",
        "\n",
        "@FCD1EA5ACXX:3:1101:6529:1835#CGTACGTA/1\n",
        "NGTCAACGTAGACGACTTCCAGCAGCGTTGAATGCTGGCGGGATTGCAGTCTCTAGCCTCCGAACCCGTACAGTGTCCTGCCCTGTCTCT\n",
        "+\n",
        "BPYaceeeggacgfhffifbfggffihhhhffhhhhfffhaa[X`RGZb]Z]__]RY``[`FVWVZaTHTQ[R]]YS]YGSW[]GY]bb`\n",
        "\n"
       ]
      },
      {
       "output_type": "stream",
       "stream": "stdout",
       "text": [
        "@FCD1EA5ACXX:3:1101:6650:1842#CGTACGTA/1\n",
        "NTCATTTGAATATTTGCTACTACCACCAAGATCTGCACCAGGGGCCGCTTCACCCAGGCTCACGCCCCAGGCTGCGCGGCGACCCCCGCG\n",
        "+\n",
        "BSYaccc`aefgghiihffhhhiffhhih_ffefhiffhhhfhihhiihighfghfgbddaeeeecbcccaca^c_acccc]]acccccX\n",
        "\n",
        "@FCD1EA5ACXX:3:1101:6638:1857#CGTACGTA/1\n",
        "NTTGAGGTTGGCGTTGGGGTTGCTCCCAGTGATGAGCACTGTGGTGTCGTGGAGCAGCAAGGCCGAGGAGTGGTAGAGCCGGAAGACGTT\n",
        "+\n",
        "BP\\ccceceg`gehhhhdfggfhfgfhdfXacgXaegbgcgcfhW_egfhed`dgee[abdccccWZ^_cRW_]_`b``aacaX_^`aW_\n",
        "\n"
       ]
      },
      {
       "output_type": "stream",
       "stream": "stdout",
       "text": [
        "@FCD1EA5ACXX:3:1101:6665:1883#CGTACGTA/1\n",
        "NAGTTTCCAGGCCCAGAACATTGTGACGTGTCTTGCTGACCTGGCACACTCCGGGCGAACAGTGCTGTCCACAATCCACCAGCCTCCGTC\n",
        "+\n",
        "BP\\`cccce]aeghhhfcgfhh]`_eg`gbddfffgfaghhfghhhhchffbg_agaddbbb__bc`bbbbbb^b^bbbaa`a_bbGTW^\n",
        "\n",
        "@FCD1EA5ACXX:3:1101:6559:1889#CGTACGTA/1\n",
        "NTTCCTCTACCGGTGTTCTTTGTGTCGACCGCTCTCGAGAGAGGATCATCCCGATGGCGGCCGAGGCAGCAGGCGTGGAGATGGCCCCGC\n",
        "+\n",
        "BPacceeegggggfghfhiiiffhhhiiiighhfghhhhhfihigfggffgeeabaccccccaacc_ccc__caaX]a^`^`bc^baca_\n",
        "\n"
       ]
      },
      {
       "output_type": "stream",
       "stream": "stdout",
       "text": [
        "@FCD1EA5ACXX:3:1101:6564:1955#CGTACGTA/1\n",
        "CCCGCCGTCTCCCGGAGGGAGTGCCCCTGGCATACCTGGCGGCTGAGGGTTCCCTTGTGAAGCTGGCAGACTTTGGCCTGGCCGCCAGGT\n",
        "+\n",
        "bbbeeeeegggggiiihiihifhhiiiffhhiihihfhhhieccc`accT^`bbbcbcbbdbccccccccccccbbbcc^`aaccc]_aY\n",
        "\n",
        "@FCD1EA5ACXX:3:1101:6592:1975#CGTACGTA/1\n",
        "CCCTGGCCCACAGTCATCTTGGCGAGGGTGGCGGGGGTAACCTGCTGGCTGATGACGTTGAACTTGACGAGGTTAATCTTGTCGACCAGG\n",
        "+\n",
        "bbbeeeeeggfggiiiiiiiiiiifghiacghiieccOVbbccacccccca_bbcbcaaW[bbbcb_bccccX[YY_bcc_`_a^aaccc\n",
        "\n"
       ]
      },
      {
       "output_type": "stream",
       "stream": "stdout",
       "text": [
        "@FCD1EA5ACXX:3:1101:6543:1976#CGTACGTA/1\n",
        "GGGCGTCAAGAGCCTGCTGCAGGAGTGGAGAGCCCAGCGGAGCAGAGGCCAAGACCGTGCCACTGCCACTGCCACTGCCACTGCCACTGC\n",
        "+\n",
        "___ee`ccegfccfZef`gghihhigffbgbhihhfffhihihhhhiefe`acded`X`accc_`bcbcbbccbcccccccbccccccbb\n",
        "\n",
        "@FCD1EA5ACXX:3:1101:6999:1854#CGTACGTA/1\n",
        "NTGAGGTTGTACTTCCTCCAGGCCAACTTCACGACGTCGTTGCTGTTGATGTGCGGGGGCACCACCACGGCCGTCACCGTGTCACTGTTC\n",
        "+\n",
        "BP\\ccedegggggiiiiiiiiihiifhiihhiihiiiiigihiiihgfffgfbgfgfcccccccccccccccccc^acccccccccccbb\n",
        "\n"
       ]
      },
      {
       "output_type": "stream",
       "stream": "stdout",
       "text": [
        "@FCD1EA5ACXX:3:1101:6834:1903#CGTACGTA/1\n",
        "NGGGAAGTACTTTGACTCGGGATGGTTCGGGTCGTTCGTCAGCCAGAGCTTGCTGAGGTTGCCATTGGACAGCTGCCAATAGTTGATTGC\n",
        "+\n",
        "BP\\cccc`eecgghhhhhhhhfhhhfgdghhghhhhhfegheghdffhhhgfggffeebcdcdbdb]`bbcZ^bbb`bbbcb_a`bbbb`\n",
        "\n",
        "@FCD1EA5ACXX:3:1101:6912:1928#CGTACGTA/1\n",
        "NTTTCAGTTGCGGTATACAACAATACAGCAGGGGCCCAGGCAAACAACAAGGCATTAGGTTAAGAATGCTCTGTATGCCTCCACAAGACG\n",
        "+\n",
        "BP\\ceeeeggggggfhiiiiiiiiiiiiiiiihiiiiiiihiiiiiiihiiihgfgggedeeeedddddddcccecdccccccccccccc\n",
        "\n"
       ]
      },
      {
       "output_type": "stream",
       "stream": "stdout",
       "text": [
        "@FCD1EA5ACXX:3:1101:6950:1941#CGTACGTA/1\n",
        "CGTACGCGTCGATGGCCAGGCCCGTGGCCAGCGTGGAGAGCATGCCCAGGGCGGCCAGGGCGATGCCGTACATGGCAGCCATCTTGAAGG\n",
        "+\n",
        "bbbeeeeeggfggihfhhcgdhhihfhihihdheghhd`ddeb^_cddc`caaa_aa`ca^ccZZabZWaccbcc^baa``bbbb]]`bc\n",
        "\n",
        "@FCD1EA5ACXX:3:1101:7190:1933#CGTACGTA/1\n",
        "GCGAGCTCCCCGCGATCTCCGCGGGACCCCAACTCCCGCAAAATCGGGATCGCCGTTGATCTGAGCGACGAGAGCGCGTACGCCCTCAAA\n",
        "+\n",
        "abbeeeeegggggidgiiiihhhihfhgfgeedecdccaacccbcccc_accccTOVaaccdcc_b_ZZZaRTZa[_a[aaaccc[aacc\n",
        "\n"
       ]
      },
      {
       "output_type": "stream",
       "stream": "stdout",
       "text": [
        "@FCD1EA5ACXX:3:1101:7335:1881#CGTACGTA/1\n",
        "NCGCGAGGGGACTCTCCGCAATGCTCACTCCCGTGCTTGTGGTGGTCCCAAAGGTCCCCACAAAAGTGGCAGGGGTGAAGGACTGCCCCT\n",
        "+\n",
        "BP\\cccccc``ggifhhhfgiighhihidfhihiiiiihfeffgheeggceeee`bddcccccccb`bbaccccEEOQ]Y^QQGQX^`BB\n",
        "\n",
        "@FCD1EA5ACXX:3:1101:7433:1910#CGTACGTA/1\n",
        "NTAGGGTGTCACTTTCCATGTGATAGCCTGGCCTTGACGTTGAGTTTTCGGAGGATGATGGCTTCTGGCGGATGTTTGACTATGATGTGT\n",
        "+\n",
        "BP\\cceaceggggiiihhhhhihihiiiiiiiihiihiighidgccghhfighhabgiiihiggegge_c_X\\a_]_YT]bbbbbc`bbc\n",
        "\n"
       ]
      },
      {
       "output_type": "stream",
       "stream": "stdout",
       "text": [
        "@FCD1EA5ACXX:3:1101:7499:1940#CGTACGTA/1\n",
        "CGTACTACCAGCTGGTGCACCTGCAGGAGAGCCACTTCAGGGGCAGCGCCTCCAACCTCCTGGAGCTGGGGAGCAACGCCAGCGCCAGCC\n",
        "+\n",
        "bb_eeeeegfggfhifghiiiihhhhhfhhihiihihhdhfdhffhiihhiiiigeggeeeeebdddcccc_cac^`aaac]^aa_accc\n",
        "\n",
        "@FCD1EA5ACXX:3:1101:7303:1944#CGTACGTA/1\n",
        "GCTGGTGCCAGTGCTGGTGCTGGTGTTGAGTCCGTCCATTAGAGTCAGAAGCTGCGCCACAATCCGCGACTCCTGCTGCTTTATCACGCT\n",
        "+\n",
        "bbbeeeeegggggiiiidehhiifgegbgihhiiihihihfghighhhghfdhiefgihiiihebgeebaccbccbcccbbcccbccccc\n",
        "\n"
       ]
      },
      {
       "output_type": "stream",
       "stream": "stdout",
       "text": [
        "@FCD1EA5ACXX:3:1101:7472:1988#CGTACGTA/1\n",
        "GACGTCGGTGCGCGTGATGCGCCCCTTCTTGAGCGTGTCCCACTCTTGGAAGGTGACGTCACCCAGGGACTTGAGGCGCTGGGGGTCCTT\n",
        "+\n",
        "bbbeeeeegggggighiiihiiiiiiihiihhihighhgggggeeeedcddbc`_`bcccccccccccaccccccbcccccccccX_acc\n",
        "\n",
        "@FCD1EA5ACXX:3:1101:7449:1992#CGTACGTA/1\n",
        "GTTCCCCCCCACGTCCTCATCCGCGGGTGGACCCTCTCCTGCAGATAGGCTCTCACTGGGCTGCCCCGGCGGACGTTCCCCTGAGCCGTC\n",
        "+\n",
        "___eeeeeggecgiiiiihdghOc`aeT\\a\\adcbabbb_Z_^bcbb]bb`abbc_YR[[WXEQ[`a]]aacXZa]_acccbOGJY^_][\n",
        "\n"
       ]
      },
      {
       "output_type": "stream",
       "stream": "stdout",
       "text": [
        "@FCD1EA5ACXX:3:1101:7743:1856#CGTACGCA/1\n",
        "NTGAGGCAGATCACCAAGGACAAGAACGAGTCCGTGCGCAGCCAGGACTTCGAGAAGGCGGGAGACCTGCGCGACCGCGAGATGGAGCTC\n",
        "+\n",
        "BPY^cccc`aaeefgh`dghhhhbdefhY^cef^eg_gfhffghbaghffggfed]ccb[WOVZ_^aR[`ZaaZa[[_aaaXO]bbab`b\n",
        "\n",
        "@FCD1EA5ACXX:3:1101:7619:1960#CGTACGTA/1\n",
        "GTTGGCCCGCTTCTTCCGAGCGTGCGGGCGCGTGGTCAACGTTGTGCAGCCAAAGCACAGGCTGGGCGGCAAGCAGCGCTACTGCTTCGT\n",
        "+\n",
        "bbbeeeeegffgghihhhhfhifffhhifggea`a\\bbccc^bc_abcccccccbbbb^`acaccc_BBBBBBBBBBBBBBBBBBBBBBB\n",
        "\n"
       ]
      },
      {
       "output_type": "stream",
       "stream": "stdout",
       "text": [
        "@FCD1EA5ACXX:3:1101:7749:1979#CGTACGTA/1\n",
        "GTCGAATTGACGCTATTGACACTTTCTTATTGATGGTGGGAGGGAATGAGTGAGGTTGTGATGCTGTTTCGGAGGAGTACACCAGAGCGT\n",
        "+\n",
        "bbbeeeeeffgegifhihiihiiiihihhiihhhfhbeffcgih`bbfcf\\_cefV_fggfggggeeeeeecaacacR^bcbbcccabaa\n",
        "\n",
        "@FCD1EA5ACXX:3:1101:7622:1992#CGTACGTA/1\n",
        "CCTCAGGTCGCGCCCCAGCATCGACAGGTCCTTCACGTGCTCACGGTGGGGCGTGCTCACTGTGGCAGATCTGTACAGCCTGTGGGATAT\n",
        "+\n",
        "^_Zccccc[^ece_edcaebcfYR_UWaX^c`_ca[GMMUb_\\e_dTZNT\\RQKKEW_GYJJ]]^^GQQJXRJSRS]_a^BBBBBBBBBB\n",
        "\n"
       ]
      },
      {
       "output_type": "stream",
       "stream": "stdout",
       "text": [
        "@FCD1EA5ACXX:3:1101:7689:2000#CGTACGTA/1\n",
        "GGCCAGACCCCTCCCGCCTACCTGGATGGCTCCCTCCCTGCCGACTATGGCTTTGATCCCCTTGGCCTCGGGTCTGTGCCCAGCAACCTC\n",
        "+\n",
        "___ccccccggeghhYbegfhh_XeccdffegdaZ^cff[cgUT_`fhX\\b`dd]]bcddb_]bG]_TZRWWTWb[S]]bb`[`bbaa]b\n",
        "\n",
        "@FCD1EA5ACXX:3:1101:7806:1819#CGTACGTA/1\n",
        "NTGCACCGCATGCTGAACGAGGATGAGCTCCGGGACGCAGTCCTTCTTGTGTTCGCCAACAAGCAGGATCTGCCGAACGCTATGAATGCT\n",
        "+\n",
        "BP\\cceeegggggiiiiiiiiiiihiiiiiiiihihihiiiiggggggedeceecccccccccccbcccccbcccaaccccccccddccc\n",
        "\n"
       ]
      },
      {
       "output_type": "stream",
       "stream": "stdout",
       "text": [
        "@FCD1EA5ACXX:3:1101:7777:1892#CGTACGTA/1\n",
        "NGTCGATGATGTTCAGGATGTCATTGCAGATCTCAGACAGCTCGTTCTCGATCTTGGCCCGGTACTCCTTGATCCTCTTGACGTTCTGCT\n",
        "+\n",
        "BPP`caccaccggffhhfhb`cg`cgh`dcegfddbfbdZcedecaeaf__edaff`b_\\SZSY[`dc_c_^]a`]`Zbb_bX^_a^BBB\n",
        "\n",
        "@FCD1EA5ACXX:3:1101:7977:1930#CGTACGTA/1\n",
        "NGCAGCCTCGACTCCGCGGGGATCCTCACGGACCTGGCCACGTTCCTGGACCAGAACCTGGGCAGCGCCGAGCTCATCGCGGCTGCCATC\n",
        "+\n",
        "BP\\ccccecgegghhfgfhhhafgfgfhfbdccbbddaabaaaaabbbb`a`aaabbbba`aabbbbbbaaXZT_]`]`_T]_[[^`bY`\n",
        "\n"
       ]
      },
      {
       "output_type": "stream",
       "stream": "stdout",
       "text": [
        "@FCD1EA5ACXX:3:1101:7961:1993#CGTACGTA/1\n",
        "CGCCTCTTCATGAGCCGCATCAACCGCCCCCCGCTCTCCCTCTCGCGGCTCCTCAAGTTCATGGAGGGCAAGGAGGGCAAGATCGCGGTG\n",
        "+\n",
        "___cccccg[[ceafdcgd_ddghffhhffgdgadadZac_cb_NZ]^ZVX^`^RR]GGR_RGYY`aaT^W[WW^]a][^GRS]^_OXOO\n",
        "\n",
        "@FCD1EA5ACXX:3:1101:8242:1848#CGTACGCA/1\n",
        "NGAAAGGCGAGACCGGGATAGGCGAATCCAGAGGGCAGCCATGGGCGCATTCCGGGCCCGCCTCTCCGGCTTCGTGCTGGGCTTCGCGAC\n",
        "+\n",
        "BPYcc`cefe`_ehhhhghhfhf]efdafhhhffhhcaddcdbce`ba^^abbbaaabab__Za`bbV]aZR[ORGWQSY[`R^^[aa_a\n",
        "\n"
       ]
      },
      {
       "output_type": "stream",
       "stream": "stdout",
       "text": [
        "@FCD1EA5ACXX:3:1101:8168:1893#CGTACGTA/1\n",
        "NTGAGCCTTAGACTTAGCAACACCTTCACATTCTCCTGAGGAAATCTGATGGGCCTTCCCTGTTTGGGAAGAGAGACATCAACAGGAGAA\n",
        "+\n",
        "BP\\acceefegeghihgfghfiidfghhihiifhifhhbgiihfhhiiegfhihffhiihhifghhiihdgeggeeedddbdddcccccc\n",
        "\n",
        "@FCD1EA5ACXX:3:1101:8222:1911#CGTACGTA/1\n",
        "NGCGCGGCCAAACTTCTCCAGCAGAGACTTGATGATGAGCATGGAGCCTTCGCGTGCGCCGTTGTTGGAGTCGACAGCCGAGTACTTGAT\n",
        "+\n",
        "BSaceeeegggggiiiiiiiiiiifhhhiihfhhhhhfihiihihhhiiihiigfeecccccccccccccbccccXaacccc_ccddccb\n",
        "\n"
       ]
      },
      {
       "output_type": "stream",
       "stream": "stdout",
       "text": [
        "@FCD1EA5ACXX:3:1101:8030:1945#CGTACGTA/1\n",
        "CTCAGGCACAAGAAGCAGAGAGGAAAAGAAAGGCTGCAGAGGCTGATGCAGCAAAGGCTCAGCGAGCAGAGCAACAAGCCAAAGCCAAAA\n",
        "+\n",
        "___cccca`eeeeacfXa`fbbaehhc]ega_cR^caef]fbfffQ^W\\a]beeh`bgRGVR\\FT[]]]Z\\^_^\\[^^aa`b^X``bbba\n",
        "\n",
        "@FCD1EA5ACXX:3:1101:8036:1970#CGTACGTA/1\n",
        "GTGAACTTGAGGTTGTCGTTGGAGAGCTCGTAGTACACCTTGGCCTCGGGCTTCTGCTCCACGAACTTGGACAGGTTGCCGCGGTACTGC\n",
        "+\n",
        "bbbeeeeegeggegihhhfhfdghffhhiiieifffhibghhhiiiiiifhfiihhiigggfcaa`bdbcbbcccc`bcccccc[aaccc\n",
        "\n"
       ]
      },
      {
       "output_type": "stream",
       "stream": "stdout",
       "text": [
        "@FCD1EA5ACXX:3:1101:8481:1857#CGTACGTA/1\n",
        "NTGGGCTTTCAACCGGGGAGTCCTCTGAGCTTTCAACCGGAGTGGGGCCCTCGGTTGAGCTTGCGACGGCCGATGGGGTTCCAAGCTGCG\n",
        "+\n",
        "BP\\cceeefgfgefhhhfhgdghfdgfgihigiefdfgdghiZcbgeeecbccc\\_cccbbbba_Zacaccc]ac]a_O[[bb_babcb[\n",
        "\n",
        "@FCD1EA5ACXX:3:1101:8283:1891#CGTACGTA/1\n",
        "NTTCTTTCCAATACCTGTGTCTTTGTGCTTATATAGCTTTGTTCCCCAGCCCTCACGGTCATTCAGATGACTTAAGCAAATATCTGCTTG\n",
        "+\n",
        "BPY`\\cccea`c]ffde`cgfghfhfhhghbcX_aegffhgfbfccg`fdhfdgfbfc`fd]edg_fbdf_\\\\dgdggdgdddddcdbb]\n",
        "\n"
       ]
      },
      {
       "output_type": "stream",
       "stream": "stdout",
       "text": [
        "@FCD1EA5ACXX:3:1101:8357:1932#CGTACGTA/1\n",
        "NGCGGGCAGGTTAGCCAACTGACCTCCATTCCATGAGTACCAGGGGCCGTTCTTGGCGGCACCACACAGGTAGAAACATAACCTTTCACT\n",
        "+\n",
        "BP\\cceeeggeggiiiiiihhhiiiiiiiiihhiiiieggiiifhghiiaggedcceeccccccca_accY`b`b]`bbbb``bcccbcc\n",
        "\n",
        "@FCD1EA5ACXX:3:1101:8298:1945#CGTACGTA/1\n",
        "GGGAATAGAGGCAGTCTTCTTCTTGGATGCGTTTCTCGACATCACAATTGAAGGGATGGCTGCTTTCCCTTCTGAAGAAACCAAGACGTG\n",
        "+\n",
        "__bceeeeggggghhiiiiiihiiihhhdhihghghhiihiifhhiihhfdgfhicfdhiihggggeeeeeebb`Z_ddccaccacccac\n",
        "\n"
       ]
      },
      {
       "output_type": "stream",
       "stream": "stdout",
       "text": [
        "@FCD1EA5ACXX:3:1101:8312:1964#CGTACGTA/1\n",
        "TGGGAGCCCAACCTCGTGCACTGAAGGCCGTCGTGGGCGGTGTGGGCATCGCTTTTCAGTCATTGTGGCGAATCCCCTTGCCGTCATAAC\n",
        "+\n",
        "_bbeeecefcegghihghifhgghfhehhh`cfe`cfbegX\\aabbabcccccccccccbbbcdb`bccacacac]_[`bb`[T]ac[bb\n",
        "\n",
        "@FCD1EA5ACXX:3:1101:8262:1979#CGTACGTA/1\n",
        "CGGTCAGACCCAGCAGCCCCAGGAAGTTGCCTACCTCGGTGACGCTCCAGTCGAAGTAGTACTTGGTGACGAGGCTGGACTCCGACACCA\n",
        "+\n",
        "bbbeeeeegggggiiiiiiiiiiiihiihiiihiiiiiiaegiiiihhiiiiiihgdggggeeeeea`ddccccccccacccccccccac\n",
        "\n"
       ]
      },
      {
       "output_type": "stream",
       "stream": "stdout",
       "text": [
        "@FCD1EA5ACXX:3:1101:8403:1980#CGTACGTA/1\n",
        "GGGACGCCAGGGTGTCTAGGGCCAGGCTGAGGCTGATGATCATTCCGTCCTCGTCACATGCCACGCCCTGCCACCGCGAGCACGGAAGAG\n",
        "+\n",
        "bb_eeeeeg`egbeefggghfbgdf^cafdcghffgb`fffgfhfhhcgh`gfgggeeedbedcbcccacccbbcccaa_ccccX_acca\n",
        "\n",
        "@FCD1EA5ACXX:3:1101:8463:1982#CGTACGTA/1\n",
        "CGAACGCAACGTCGCAGCCATGACGAAGGGTACCCCCTCTTTCGGAAAGAGGCACAACAAGTCGCACACGCTCTGCCGGCGCTGCGGCCG\n",
        "+\n",
        "___eeeeegfccghihefhihhhighihfhaafhiiidf__dggfbcecbdbacacccccb]_^accccacccc`]baaccccccaaX_a\n",
        "\n"
       ]
      },
      {
       "output_type": "stream",
       "stream": "stdout",
       "text": [
        "@FCD1EA5ACXX:3:1101:8368:1984#CGTACGTA/1\n",
        "GGCCCCTCCCCCCGGGGAGGGGGGGCTGCTGCCGCTTGGTGCAGCCTGCCTGGGCTGCAGGGGGCTGCCTCCACCCCCCCGGGAGGGGGT\n",
        "+\n",
        "___cccccggggg`acgYefhhhEUYVL[GW_^RVLTW^GQ]]``a[^^aRR[aWRUQJX^[[aZ]aW[S]^X^a[_aaTXTXEHT[aaB\n",
        "\n",
        "@FCD1EA5ACXX:3:1101:8742:1835#CGTACGTA/1\n",
        "NCTCTCCAATCCTGTGCAGCAGCCACCTGGCGATCATGACGTGGTCTCCGGTCTGCAGGGGCCCGGCAGGGACAATCTGGAACTCCCACT\n",
        "+\n",
        "BPY`c^`cRbR^ab`[a^`[bRJR[bebec^UO_P^cccdccPccRaa\\ZFZT_]bc]bX[^__]\\^^BBBBBBBBBBBBBBBBBBBBBB\n",
        "\n"
       ]
      },
      {
       "output_type": "stream",
       "stream": "stdout",
       "text": [
        "@FCD1EA5ACXX:3:1101:8680:1883#CGTACGTA/1\n",
        "NTTGGGCAGCCAAGGACCTTCAAATATTTCCAAAACTAAAAAGCAAGAATGACTGCAACGGGTGGATGTGTGTATATCTCAACTGGTGTT\n",
        "+\n",
        "BP\\ceeeegggfgihghiiiiiihfhhhiiiiiiiiihhhihhiiihihgiihhihihiiiha`dadeddddddcbccec`cbcccbccc\n",
        "\n",
        "@FCD1EA5ACXX:3:1101:8620:1900#CGTACGTA/1\n",
        "NCCCACTCTCCCACACACCAGCAACCATCTTCCAAAATGGCTGCTCTCATCGCTGCCCCTGCTGTCGCGCCTCTAGCTTCGTGGGCCAGA\n",
        "+\n",
        "BP\\accdagggeghiiiiiihihdeghhffgfhfifffeeggiVaae[_ecefddaedh^V`^R^VTZ]`a_ab]YY`b]Z[V[a^^^[a\n",
        "\n"
       ]
      },
      {
       "output_type": "stream",
       "stream": "stdout",
       "text": [
        "@FCD1EA5ACXX:3:1101:8628:1950#CGTACGTA/1\n",
        "CCGCACCAGTCGCCGCCCCGACAGGCGCAGGCCAATGGATCGGCAAGGTCTCTGCCTCTAGAGAACGCGGAGGAGGGGCGGGGCGGCCTC\n",
        "+\n",
        "___ccceegacegihfhfhfaghih^effdadgegeee_Z_]`aca[[GT]_Y]_b]`]`bb`Yb_Z_TTTTX[^X_aRX_aaBBBBBBB\n",
        "\n",
        "@FCD1EA5ACXX:3:1101:8717:1995#CGTACGTA/1\n",
        "CCCAGGTGCTCCTTGGCTGCCGTGCACGTGCGCTCCAGTAGGGCCTCGGGGTCTGCGCTCTGGGCCCAGGGGCCATCACAGGCCGTGAGC\n",
        "+\n",
        "___acceeacceghhdgffbefgaghhbecfhhaghfgghfhhgeffafheS\\abc`baccbbbTXZaaV\\a_]^^bccc_[W^]_acWX\n",
        "\n"
       ]
      },
      {
       "output_type": "stream",
       "stream": "stdout",
       "text": [
        "@FCD1EA5ACXX:3:1101:8660:1999#CGTACGTA/1\n",
        "GCTTGGTGTTCCTGGGCATATCTTGGAAGAGTGGTGAAACATCTTGCTTTTCATGCAGGAGGAGGTCACCTTAAACCCTAAAGCCTTGCT\n",
        "+\n",
        "Y\\_ccc`cabeecbegdgfbgfhhffcfhefedegfgbf]effgfbaaegfcdghfbffebgffh``fggecdccacdbbbbbbab[bbb\n",
        "\n",
        "@FCD1EA5ACXX:3:1101:8806:1834#CGTACGTA/1\n",
        "NGGTGGTATGGTACAAACATGTCCCTCCTGTGGGGCTCAGTCATCTATTGCCTGGTTCTGAAGTCACAGCCAATGCAGGTATTTACTTGC\n",
        "+\n",
        "BP\\acccdgggggiiiiihihiiiiiiiifghihhhiiihgihiiiiiihghiiheghhhiiihhiiieggggeecded_bdceddcccc\n",
        "\n"
       ]
      },
      {
       "output_type": "stream",
       "stream": "stdout",
       "text": [
        "@FCD1EA5ACXX:3:1101:8869:1845#CGTACGCA/1\n",
        "NTGGCCTTTGCCACGGAGTGCGCAGGCACGGTGGTGCCCGCGTACGTGCCGCTCGTGAGCAAGCGCAAGGACACGCCCTACACGGAGGAG\n",
        "+\n",
        "BPYacedeeeeeagfiiieeefffhhhhihhcefO^\\efffieaac]_^bacaZ\\\\`b_^_bbaccccc_`accc[^_acacccccccc^\n",
        "\n",
        "@FCD1EA5ACXX:3:1101:8980:1909#CGTACGTA/1\n",
        "NAGCTCACTTGCCCCATCGTTTTCCGGGGGCCCAACGGGGCTGCAGCTGGAGTGGGAGCACAGCACTCTCAGTGCTACGCCGCGTGGTAC\n",
        "+\n",
        "BPYccceegggggihfhhifhhiiibfffhhiicggdddacacaccccbcX^Y^ac^aT`acccbaccc_YY]Y`]]]X_caaac]_`bc\n",
        "\n"
       ]
      },
      {
       "output_type": "stream",
       "stream": "stdout",
       "text": [
        "@FCD1EA5ACXX:3:1101:8766:1929#CGTACGTA/1\n",
        "NAAGGAAGCAACAAAGCAGAAGGAGGAGGCATTGGCGTAAACACGACACTTACTCGATCTCTCTTCTGTGCTCTGGTGTTACCGCGCTCG\n",
        "+\n",
        "BP\\ccceegggggiiihihhihifhighiihhhhiiihiihghghihhiiggggfgeeeecddddddbccccccccccccbccccccccc\n",
        "\n",
        "@FCD1EA5ACXX:3:1101:9216:1856#CGTACGTA/1\n",
        "NCGGGGTTGAGGTTGATGGGCTGCCCCGTGCCCCTGGACAGCTGGACATTCCCCATCGTCAGCTTCACGCAGCTGGGAACGAACGCGGAA\n",
        "+\n",
        "BP\\ceeccgfggghhihfhiiiiidghgfegghiifhfffhiiiheghehhhiieeggce^cddddbbacaaaccbc_bccaccccacca\n",
        "\n"
       ]
      },
      {
       "output_type": "stream",
       "stream": "stdout",
       "text": [
        "@FCD1EA5ACXX:3:1101:9126:1882#CGTACGTA/1\n",
        "NAATCCTGCAGACCTGGAGAGCTCCTGTCGGAAGCTGGACGCAGCCCAGATCCGCATCTCCTCCATCGACCTGTCCTGCATGGAGGAGGA\n",
        "+\n",
        "BPY`ccc^acgegdhhhhfeeca_gcegfhfdc[fghhehaggfO_egdfbdcgfdeeecdbdbb_b\\babY`]]Y`bbbbb^_aa[_]W\n",
        "\n",
        "@FCD1EA5ACXX:3:1101:9203:1936#CGTACGTA/1\n",
        "GCGGCCTGGGGGGTCGGTGCCGCAGCCCCAATCAGGAGGCCCACTGCGTTCATGGCGCTGAACTCTACAACGGCCGTGAGCAGGAACAGG\n",
        "+\n",
        "bb_eeeeeegecUUXUaV^cccccW_acccccccccbaacca_cacccccacd`b_Ua[ZaR]]bbbcccca]__ac_acc_`c^aaab`\n",
        "\n"
       ]
      },
      {
       "output_type": "stream",
       "stream": "stdout",
       "text": [
        "@FCD1EA5ACXX:3:1101:9288:1884#CGTACGTA/1\n",
        "NGACTCGCTCGAGATGAGGTAGAACGCGGTGCAGGTCCCGCCGCTGTCGCCCTCGTGCAGCTTGATGGCGGCGGAGAAGACGCCGTGATA\n",
        "+\n",
        "BP\\cccceggeecdae`fgbeadfgceagcfghdhfhfgadggeda`dbbab__^[Q[^bbbb]WY_bbabVZZTTT^X]`a]]a_aWX_\n",
        "\n",
        "@FCD1EA5ACXX:3:1101:9480:1887#CGTACGTA/1\n",
        "NTTGACGCAGAACTCTTCTCGCAGAACTAGTATCCTTTCTAAGATGTCTCAGGGAAGTTGGGAGAGGGAGCAGCTTGGAGCGGGTTGCCG\n",
        "+\n",
        "BP\\ccceeegfgcgghiiiiihhiihhihfbfffhhfhdfhhhhhhgghihiiigghfbgdhb``gad[a`bbccbccccbcc]OW]^bc\n",
        "\n"
       ]
      },
      {
       "output_type": "stream",
       "stream": "stdout",
       "text": [
        "@FCD1EA5ACXX:3:1101:9310:1929#CGTACGTA/1\n",
        "NCGGTCTGTGTGTTTCTAACTCTGGAGGTGTTATGCAACTGTCCACCTGCCGTTATGACGACAAGGACTACCAGATCACTTGGATGTGGG\n",
        "+\n",
        "BS\\ccceeggggghiiiiiiiiiiihhidfhgihiiiiiihhiiiihhiiiigffhiiifiifggeeeeddddbcbbccccccccccbbc\n",
        "\n",
        "@FCD1EA5ACXX:3:1101:9286:1942#CGTACGTA/1\n",
        "ATCCGAGCTCTCAACCTCCAGAGTGATTGTCTTGCCAGTCAGTGTCTTCACGAAGATCTGCATCCCACCACGAAGGCGGAGGACCAGGTG\n",
        "+\n",
        "bbbeeeeegfgggiiihiiihhi`eghhfhfhicdghdggfhhdfhhighgffgbgfhhhhiiifidhfggdceccbaaaacacccacY`\n",
        "\n"
       ]
      },
      {
       "output_type": "stream",
       "stream": "stdout",
       "text": [
        "@FCD1EA5ACXX:3:1101:9259:1948#CGTACGTA/1\n",
        "TGTGCCTGCTCTGTCGGCAGCGGGGCCACTCCATGCAAGCCTGCCCCGATGCAGCAGCACTGACAGTCAAGGCAGAGGGGGCTGGGCCCA\n",
        "+\n",
        "__^cccddgeccgfgifhfdcfhiiii^\\\\cfgddggefacZa`acbaYY__]``[acccbb`bbc`bbbb[^`aaaccccaaccGW[__\n",
        "\n",
        "@FCD1EA5ACXX:3:1101:9462:1955#CGTACGCA/1\n",
        "CGGGGAGGCACCGCGCAAAAGGTTCGGGGTCCAGCAACAGGAGTCAAGGGCGACCGAGTGGGGAGCTCGGAAGCCACGCAGAAGGGAAGG\n",
        "+\n",
        "bbbeeeeegggggiiihiiiiighiihii`fhihffggggeeeedbdbdccccccccc^aaccaccccacccccc[bcccccbbccaccc\n",
        "\n"
       ]
      },
      {
       "output_type": "stream",
       "stream": "stdout",
       "text": [
        "@FCD1EA5ACXX:3:1101:9491:1967#CGTACGTA/1\n",
        "CACTGGGTCTCGAGCGAGCTCGAGGTCGGATCCATGTTTTGAATCAATGCCAAACAAGGTCCCACGCCAAAATTGCGAAAAGCTGGTCGA\n",
        "+\n",
        "bbbeeeeegggggiiiiiiiiiiiighihhhiiiiihfhifffhhbgfdggfgeeaebb`bdccccccccbcccc_aacccb_bcbbccc\n",
        "\n",
        "@FCD1EA5ACXX:3:1101:9443:1981#CGTACGTA/1\n",
        "GTGGACATCCTGGCGCGCATTGAGAAGCTCTCCGAGATCAACCCCATGCTGGGGTTCCGAGGCTGCAGACTGGGCATCGCGTACCCCGAG\n",
        "+\n",
        "\\\\^^Zc^Zc^[bbeghcdgd[cePbaffaffdgg]gagf[_Z\\ef_RV^HVM^KFKZ]^^U\\_TT[^]`a]b[^^b^b[aBBBBBBBBBB\n",
        "\n"
       ]
      },
      {
       "output_type": "stream",
       "stream": "stdout",
       "text": [
        "@FCD1EA5ACXX:3:1101:9539:1880#CGTACGTA/1\n",
        "NTTGCCTTCAATGTGGTTCAGCCCCTGCAAGCCTACCGCAACTTAGATCCCAATCATTTTCATTCATGCTTGTTATTGTGCATGACCCCT\n",
        "+\n",
        "BP\\cac`aabeeadafghb_agfgcddfcf[bghbdhdffghhheefhffgbgd_`ffgbddddbdgbddg]cd_^_]]Z_bbY]_ba^a\n",
        "\n",
        "@FCD1EA5ACXX:3:1101:9624:1908#CGTACGTA/1\n",
        "NCACACTTTACTTCAAAACAACTTCCAGTGATGAACTGGTTTCCTTATACAGAACCCTCCACTCAGACTTTCTCATTGACGTCTCCCTCC\n",
        "+\n",
        "BPYaceeegfgceefffhihhiiifhhifdggbhhdgfhcfghghhifdfhiiihiiiihiiffhhhbfhifdfddd`bdaceecddbba\n",
        "\n"
       ]
      },
      {
       "output_type": "stream",
       "stream": "stdout",
       "text": [
        "@FCD1EA5ACXX:3:1101:9636:1932#CGTACGTA/1\n",
        "NTTCCCCAAAGGACTTGGGGACTGTCTTCCCTGCAATGAAATTGAATGAAGGAGATACAACGACAGTGCAGTTGCACGCAAGTGAGACTG\n",
        "+\n",
        "BP\\ccceefgfggiiiihiiiihiiiiifhiiiiiihifhhhihiihhhhfiihiifhiiihiifdeeeeecbddbdccccacccccccc\n",
        "\n",
        "@FCD1EA5ACXX:3:1101:9725:1972#CGTACGTA/1\n",
        "GGAAGTTCCTGAGCAAGACTGCCTACGACAACTGCGATTTCTCCGCTGCAACAAACTACAGTGGGGCCACGGACACAGGCAGCTACGCCT\n",
        "+\n",
        "bb_eeccegggeghhhiiiihififffhihhiihiihiiiihhhhihihhhhfhiihggggdeeebcccc_accc`baaccca^b`_a]`\n",
        "\n"
       ]
      },
      {
       "output_type": "stream",
       "stream": "stdout",
       "text": [
        "@FCD1EA5ACXX:3:1101:9563:1976#CGTACGTA/1\n",
        "TCCCAGAGAAACTGCTGGACGCTCAACTCCCTCAGCTGCGACAGATTTTGAACTCATTCCAAGCATTTGAAGTTCTTTCAGTTTAAGTGC\n",
        "+\n",
        "bbbeeeeegggggiiiiiiiiiiiiihiiiiiiiiiiihiiiiiiiiiiffffhiiigddgegeeeeeeedcddc_bccbcddddcbcbb\n",
        "\n",
        "@FCD1EA5ACXX:3:1101:9525:1993#CGTACGTA/1\n",
        "CCGCGCGCCCCGCTAAGCCAGCTGTCGCCTCCACCCCCAGATCCTTTTCCCGCGCCTCCCCCTCCTCCCTCACCTCCTCCCTCTCCCGCC\n",
        "+\n",
        "bbbeeeeegggggiiiiiiiiiihiiiiihiiiiiiiggceeedddddbdc_cccccccccccccccccccccccaaccccbcccccacc\n",
        "\n"
       ]
      },
      {
       "output_type": "stream",
       "stream": "stdout",
       "text": [
        "@FCD1EA5ACXX:3:1101:9860:1861#CGTACGTA/1\n",
        "NAGCACTCCAGCCTCTCCTCCAGGAACAGGGCGTATGCCCGCACCCAAGCAGAAAAATCCCACGCAGCAGGGCCAGAGTCATCCTTGAAG\n",
        "+\n",
        "BS\\ccceegggggiiiiiiiiiighhhfhhidgffdghhidgfhhhhihgggegeeeecddddccc_cccacaaca[^]`bccccccccc\n",
        "\n",
        "@FCD1EA5ACXX:3:1101:9999:1896#CGTACGTA/1\n",
        "NGCGACCTTCTTTGCCATCTTCACGGGGATCTACTGCGCAGTGCTGTACCTGCAGGCCAACGCCTTCAACAGCTACGAGGTCACGCAGGG\n",
        "+\n",
        "BP\\ccceegfegghehhgbggfcgfhhcdUcgffhdhhhhhfhhhhhhhhhhhhhheggeedbbabbbbbb^abbb_aabbbbbT`aa__\n",
        "\n"
       ]
      },
      {
       "output_type": "stream",
       "stream": "stdout",
       "text": [
        "@FCD1EA5ACXX:3:1101:9823:1911#TGTACGTA/1\n",
        "NGAGTCTTCACGAAGATCTGCATCCCACCACGAAGGCGAAGGACCAGGTGGAGGGTTGACTCCTTCTGGATGTTGTAGTCAGCAAGGGTA\n",
        "+\n",
        "BS\\cceeegfgggiiihhihiiihhhihhfhiiihiifiidfghiiiicggdggeadcbbccccccccccccbc`bbbccccccccccW]\n",
        "\n",
        "@FCD1EA5ACXX:3:1101:9991:1978#CGTACGTA/1\n",
        "CTCAAGACACTTCCAGCCTTCCGAAGCACAGCTCTCAAGCCATCAAATTCTTTCTGAAGCTCCCACAACTCCCTCGCTCTCCTCCGCCAT\n",
        "+\n",
        "bbbeeeeegggggiihiiihiihhhfhhhhfdhfgbgihiiihiiihhihhiiiihifhhiiiiiiieeeeeeeecaaaabccccaaccc\n",
        "\n"
       ]
      },
      {
       "output_type": "stream",
       "stream": "stdout",
       "text": [
        "@FCD1EA5ACXX:3:1101:9978:1995#CGTACGTA/1\n",
        "CGAGCACACGCAGAACTGCACTCAGAGCACCAAGTTGCTGGGCGCCAGCGCGGAGCAGGAGCTGACGTACATCTTCAATCTCGAGCCCCA\n",
        "+\n",
        "b__eeeeegegggiiihhiiiiiiiihhhiiiighhihihiihiiihghifecccacccccccccbcacacbbbccbbdbcbabccaaac\n",
        "\n",
        "@FCD1EA5ACXX:3:1101:10088:1875#CGTACGTA/1\n",
        "NAGGAATTTGCTCACAGAACTGCCATTATTTTCATGTAAATATCATTGTCTAGCGCATTTCCCTTCTGGAAATGTTAGTACAAGATCGGA\n",
        "+\n",
        "BP\\ccceegggggiihiiiiiiiiihihhhiihhhhhhiihihhiiiihhiihhiiiiihiiiiiiihigiiiiicgfggggfeeeeecc\n",
        "\n"
       ]
      },
      {
       "output_type": "stream",
       "stream": "stdout",
       "text": [
        "@FCD1EA5ACXX:3:1101:10141:1883#CGTACGTA/1\n",
        "NTTCGTCATCGCGGGGACCACGTGGCTGGCCTCGATCTGGTCGAAGGGAGGGAACACGTGGCTGGCGAGGAGGGGGTTCTCCGCGGTGGG\n",
        "+\n",
        "BP\\`ac^cggfggiiidgfdghhihgdffdgedc]caab_]`aRGTZaX^acEW[W`aQ^aa`cV[ROT]EQXZ]aETW_b_LXO[EO[[\n",
        "\n",
        "@FCD1EA5ACXX:3:1101:10154:1965#CGTACGTA/1\n",
        "CACCTCCGGCGCCCTGAGGCCCGTGGTGCGCGGCCAGACGCTCAAGTACAACTCGAAGATCAAGGCCGGCAGGGGCTTCACCCTCGACGA\n",
        "+\n",
        "___eeecc``gggagccfffffhU^cGZbW_``]`bba^X^Z_QY_G]bbb]bbaWRQTY]b__b^WOW]a]LXaaaaGSSY`BBBBBBB\n",
        "\n"
       ]
      },
      {
       "output_type": "stream",
       "stream": "stdout",
       "text": [
        "@FCD1EA5ACXX:3:1101:10172:1987#CGTACGTA/1\n",
        "ACAGAGGTGGGGGACAGGGGCACCCAGATGTCGGGAGGGCAGAAGCAGCGCATCGCCATCGCCAGGGCGGTGCTCAAGAACCCCGCCATC\n",
        "+\n",
        "_b_ecdeceeeefggaghfbeghiiffghigghhiaggeeeecdddd^aaccccccccccaccca`acacXZabb`b`bccccccccccc\n",
        "\n",
        "@FCD1EA5ACXX:3:1101:10217:1995#CGTACGTA/1\n",
        "CCAAGTTCTACAGAGCAGCAGAAGCGCATGCCAGCGCCATAGCCGTCGGATCTGATCCGTGCTGAGTGCACATGCTCCCGGAGAGCATGG\n",
        "+\n",
        "__bee`ceg`ecgfdghhhfhhhhcdgfhffghi`_ffgiaghhifhfda`[^^abcaaZ`a^bbcbbccccbccb`bc_aac]acccba\n",
        "\n"
       ]
      },
      {
       "output_type": "stream",
       "stream": "stdout",
       "text": [
        "@FCD1EA5ACXX:3:1101:10290:1823#CGTACGTA/1\n",
        "NGGCTACAGAGCGGTGCCAATCGCGGGGATTCTGGTGGAAGCAGCGCCCTACTACATCTTCTACAACGTGTCGAACGTCTCCCCGCAGAG\n",
        "+\n",
        "BP\\cceeeegfggdhiihfhiiihiiihdggegfdbcdcdbbbbcaaccccccbbbcbcbccccccbc`abccccaccccbbccccaaaa\n",
        "\n",
        "@FCD1EA5ACXX:3:1101:10461:1901#CGTACGTA/1\n",
        "NCACCACGTACAGGGGAGCCCCCACGGACTGGGCAAGCGAGATGGCACGCCGAGTGGCCTCGCCCTCCACCTGTGCGGGGCGCGACAGGC\n",
        "+\n",
        "BP\\a`ccegggfgiiifgiiiiiigiihidfhiiihihihiigfgbdceccc_a[`cccccccccccccccab`bbacccccc_Xac_a[\n",
        "\n"
       ]
      },
      {
       "output_type": "stream",
       "stream": "stdout",
       "text": [
        "@FCD1EA5ACXX:3:1101:10253:1914#CGTACGTA/1\n",
        "NTTAGCTCCACCGTCCGCACTGCTGTCGGCGGCTCCTCCGGCTGTCGATTGACCTTGCCAAATCAGGTTAGCGGGGGACTCGTCTACATC\n",
        "+\n",
        "BP\\cceeecegggihiiihiihhiihhhhhhhfedgccd[`a_a^][`aba]`bbc_]bbbcbb`_bY]_`bacccc[X`b^[^aaccbb\n",
        "\n",
        "@FCD1EA5ACXX:3:1101:10531:1823#CGTACGTA/1\n",
        "NGACACTCCACAACCTTGTTCGCACATGCTGAGCACACCTGATGCCCGCACCCAAAGGCAGTGTCCTTGCGGTACTGCAAGCACACTGGG\n",
        "+\n",
        "BP\\ccccegeggghhiiigghfffhhhdhihdfgbbfhiihdhbghhhhhhiiigggfddeeeZ_]bd`bccN\\a]]_bcc_acbabbcc\n",
        "\n"
       ]
      },
      {
       "output_type": "stream",
       "stream": "stdout",
       "text": [
        "@FCD1EA5ACXX:3:1101:10684:1842#CGTACGTA/1\n",
        "NCAGACAACAATTCTGGACTTGCGTCGCAGGTCTGCGCTGAGCCCACCACTCCCATCTACTGAGACCATCTGCATCCCGTTGGAATCTAA\n",
        "+\n",
        "BP\\cceeegggggiiiiiiiiihhiiiiiihiiiihhiihihhhiiigggggeededdddddccbbcbcccccccbcccccaaccccccc\n",
        "\n",
        "@FCD1EA5ACXX:3:1101:10612:1849#CGTACGTA/1\n",
        "NGCGTTGCGCCCTGCGTTGAGGATCCGAAGCAGGAGGGCGAGACATGGCAAGAGGAATATCAGGAAGTATGTATATGTATGGTGTGAGGC\n",
        "+\n",
        "BPYcceeegggggiiiiihhhihiiiihhihhhiffhifhgeecddddccccb_a^acbccddcbccbbcc_bb_]bccbcc`baaccca\n",
        "\n"
       ]
      },
      {
       "output_type": "stream",
       "stream": "stdout",
       "text": [
        "@FCD1EA5ACXX:3:1101:10589:1864#CGTACGTA/1\n",
        "NTGCCGTTGGTTGTTGCTGCTCCTGCTGCTGGTCTGTGGGCCCCGCGGCCCCATATGCAGCCGGGGCAGCCACTGCCGTTGGTTGTTGCT\n",
        "+\n",
        "BP\\ceeeegggfgiiiiiiiihihhiihiifhgggbgfiiiiiihfhgeccc^bbbcbccccaaccacaacacbbbba[aac[a^_c^bc\n",
        "\n",
        "@FCD1EA5ACXX:3:1101:10668:1965#CGTACGTA/1\n",
        "TGGGCATCTCCGCATACGTGAGCCCCGTTGACTCCGCCTCAAACACCGGGTCCCACCCAAAGTCGGAGGGGCCTCGTGCCGGCACAATCT\n",
        "+\n",
        "_abeeeeegfgggiiiihhhhhhhhihiiihhiiiiiihiihiffgfhicaacdebcccc\\bbbaccacccaaaaaaacc_acXacaccc\n",
        "\n"
       ]
      },
      {
       "output_type": "stream",
       "stream": "stdout",
       "text": [
        "@FCD1EA5ACXX:3:1101:10626:1967#CGTACGTA/1\n",
        "CCTGAATGAATCCCCGGAAAGCAAGCGCTGCGGCTTGGTGTCTCGCGTGGCCAGACGAGAGAACTGTTGCGCAGCTACGAAGGGGTCAAA\n",
        "+\n",
        "_b_eeceee`egghhhffhdfdgfffghihihhegh_cVZU\\_c`VSKXX]^^`c_aYWZ_[XYY_`bYYZTEXOX_baca^_aEOOJY_\n",
        "\n",
        "@FCD1EA5ACXX:3:1101:10570:1988#CGTACGTA/1\n",
        "GGCGGGTGCGAGGGCGTGAAGGGGCCGAGGCGGGCGAAAGGGACGAATCTGCCCCCCTCCGTATCGCGGCCAGATTCGCGCCTGCTGTGG\n",
        "+\n",
        "bbbeeeccegggfiiihhhhcfaghgedcccccaROV_cR`c^QTYXW[b__bccccTZaVQW`BBBBBBBBBBBBBBBBBBBBBBBBBB\n",
        "\n"
       ]
      },
      {
       "output_type": "stream",
       "stream": "stdout",
       "text": [
        "@FCD1EA5ACXX:3:1101:10783:1878#CGTACGTA/1\n",
        "NTTTGGGACCACTACAAGCACGGGAGTGGAGATCGAGGAGAGTCCCTTGGCATGGAGCTCCGCCAATGAGGGAACATTTGCTGCAGCTCC\n",
        "+\n",
        "BPaceeeeggggghiiiiiiiiihhhegiihiiiihihfafhbghhhhhhihfegggeeeecccccccccccacc`bcddcccccccccc\n",
        "\n",
        "@FCD1EA5ACXX:3:1101:10961:1880#CGTACGTA/1\n",
        "NAGCAGATGGACTACATTCTGGGTGCCAACCCCCTGAAGACCTCCTTCATGGTGGGCTTCAGCAGGAAGTACACTCTGAGGCCCCACCAC\n",
        "+\n",
        "BPaceeeegggggiiiiiiiiiighiihiiiiiiiiiiiiiiihiihighiiefhhhihhiggggfedebddddd`bbcccccccccccc\n",
        "\n"
       ]
      },
      {
       "output_type": "stream",
       "stream": "stdout",
       "text": [
        "@FCD1EA5ACXX:3:1101:10831:1969#CGTACGTA/1\n",
        "GTGCGGGGGCCCTGGGCGCCTGGGGGCGACTCCCCGCACGCGAGGAGCTCCAGGAGCCGCCTTACGGGGGCGTCCTGTACGGGTCCGTAC\n",
        "+\n",
        "_a_eeeecgfggfhhhihhggeeeccccccUXbccOXTTR_OOT[L[^^R]RXb^^[_Z[aLVGYWTaccBBBBBBBBBBBBBBBBBBBB\n",
        "\n",
        "@FCD1EA5ACXX:3:1101:10941:1982#CGTACGTA/1\n",
        "CGCCTCATGGCCCTCAACTCCACGAACCTCCTAATCTGGGCCCTGGACAAGGAAACTTCCAGGAAGCTGGACGAGATGGGGGTGACCCAC\n",
        "+\n",
        "_b_eeeeegfgggfhfhifhhiibghiidghgghhfhihhiiiiiiiihiiiiif_dheggfgeeeeebdddcccacbccccX_accccc\n",
        "\n"
       ]
      },
      {
       "output_type": "stream",
       "stream": "stdout",
       "text": [
        "@FCD1EA5ACXX:3:1101:10783:1982#CGTACGTA/1\n",
        "GAACCGCATGCACGCGCAGAACGCCATCGTACTGCACTGCCTGGGGCTCTAGACACTCCACGCACGTGTGTGATGTCGTGCTGCACTGCC\n",
        "+\n",
        "bbbeeecegggggiiiiihiiiiiiihiihiiihhiiihhhigfgeeecdbddddcbcccccccccaabc^a`cbcbccccccccccccc\n",
        "\n",
        "@FCD1EA5ACXX:3:1101:11164:1823#CGTACGTA/1\n",
        "NTTGTCCTTAGTGGCAACGTTCGACTGGACGAGCCTCAAGTGGTCTTCAGGAACGACTCCATTGCTCGCTTTGACCCCAGTATGGTGTAC\n",
        "+\n",
        "BPYccacccae^e_fgggfffadeegdZ^_cfgda_add[^a[\\beffe_`]cdddgddaZac]bb_`aaaaR]RTTTW^]`cbXbba`S\n",
        "\n"
       ]
      },
      {
       "output_type": "stream",
       "stream": "stdout",
       "text": [
        "@FCD1EA5ACXX:3:1101:11218:1860#CGTACGTA/1\n",
        "NCTGCGAGTGCAGCGCCTCCGTCTCGGAAACTTCCCAGTGACAATTGAGTACATCAAGCACATCAAGTCCCCTGACGACGCGTGCGTGGT\n",
        "+\n",
        "BPY`ccee[cbccfdgffhhhcaceff_^efedgbg_c^a[eba`dfhhS_Zbgfhfbeegd_ceec_bdbbd\\^]Y^^W[a__aBBBBB\n",
        "\n",
        "@FCD1EA5ACXX:3:1101:11173:1941#CGTACGTA/1\n",
        "GCCTTCCTCTGCTGCCTCTGCTGCCTCTGCTGCCTCTGCTGCTGCTGCAACAGCAGCTGCCTGATCTCGGATACCTTGTTTGCAGTGCCC\n",
        "+\n",
        "b__eceeegggggghifiiiifdghhhhiihhhihiifdhhhfhhfdcgg`gffhcfgheh_eghiidgiddfde]bcced_bcdbcbbc\n",
        "\n"
       ]
      },
      {
       "output_type": "stream",
       "stream": "stdout",
       "text": [
        "@FCD1EA5ACXX:3:1101:11206:1957#CGTACGTA/1\n",
        "TGGGAAGTTGTCCTTTGGCAAGTTCGGGTGCACCTCGTTGAAAAGATCAACCCCAATGATGGTGGTGTTGCCCTTGAATCTCTGGGCCAG\n",
        "+\n",
        "\\^^cccZ`cg^cge_afhghhaYbgghhWbegghfhdacfbgfddffcfgfcgffh_dg\\_``dddddcbbbbbb^`bbbbbdbbbaa[a\n",
        "\n",
        "@FCD1EA5ACXX:3:1101:11448:1828#CGTACGTA/1\n",
        "NTGACGCAAACCAGTCTTCTCCAAGATGGCCGCTCTTGCCTGTACCTCCTCTCTGATCGTCCCCGCTGCCTTCAGCACCAAGACTTCCCT\n",
        "+\n",
        "BP\\ceeeeggggfihhhihihiiihiihiiiiiihhiiiiiiihhfhhiihiiiffhcggggeeecccccccbbb_bccccccccccccb\n",
        "\n"
       ]
      },
      {
       "output_type": "stream",
       "stream": "stdout",
       "text": [
        "@FCD1EA5ACXX:3:1101:11373:1851#CGTACGTA/1\n",
        "NCAGCTCCCAGTGCCACATTGAGGGGGTAAAAGTGCTCAGGTGTGGGGTGTGCTTTGGTGAAGAGACTGTCATTCTCCAGCTCAACAAGC\n",
        "+\n",
        "BPaceeeegggggiiiiiiihhiiiiicefhiheghiiihiefffhii_dcdeedddcaacccccbcbccccdddcccbcccccccbccc\n",
        "\n",
        "@FCD1EA5ACXX:3:1101:11351:1867#CGTACGTA/1\n",
        "NAGGGGTGTTGCGTAGAGTAGCACACTCTTGATGAGGTCTTGGCTAGAGAGAGAGAAGAGAGGAGGTGAGAGCCAGAGGGCTCTCACTCC\n",
        "+\n",
        "BP\\cee`cgggggghhhiefghiiiiihiiifhhffiffhihiiihihihhgicfffeffgeedecZ`babb[`b`aacca`acbccccc\n",
        "\n"
       ]
      },
      {
       "output_type": "stream",
       "stream": "stdout",
       "text": [
        "@FCD1EA5ACXX:3:1101:11352:1891#CGTACGTA/1\n",
        "NACTGTTGCTGTTGCACCCAAGGCAGCTGTTGCTGTCGTGGGCGCTGGCGTTGTCTTTGCACTGGTGGCTCATTTGATGATGAGGTTTGC\n",
        "+\n",
        "BP\\ccceeeggcgdhiihiiiddchdhdggghehhhffga]ghffhhifa`dcedeee_bdbdbccbcGZ``b_cZZ`b`a_]]^X`BBB\n",
        "\n",
        "@FCD1EA5ACXX:3:1101:11301:1911#CGTACGTA/1\n",
        "NTGCAACCTCACAAGGCTTTCAGGGACGAAAGAAGCGGGACCAACGCGACGTTCAGGATGGAGCGGAAGTTGTTGCTGGGACTTCTCGGC\n",
        "+\n",
        "BP\\cceeegggggiiiiiiiiiiihiiiiiiiiiiiiihiiiiiiggeccccccccccccccccccccc_bc`acbbccaacccccccca\n",
        "\n"
       ]
      },
      {
       "output_type": "stream",
       "stream": "stdout",
       "text": [
        "@FCD1EA5ACXX:3:1101:11416:1913#CGTACGCA/1\n",
        "NCTGGGCCTGCCACGTGGCAGCGGGGCACCCCCCTACAAGAAGCCCCACGACCTGAAGAAGGCGTGGAAGGTGGGGGTGCTGACGTCGGT\n",
        "+\n",
        "BSaceeeegggggiihiihiihiiihafbghigcbbacc_bc^]`ccca_c_aWbcbbcc^aac_aa^bbaJY^a]aET^bb]^a^accT\n",
        "\n",
        "@FCD1EA5ACXX:3:1101:11374:1951#CGTACGTA/1\n",
        "CCCTAGGCTGTTGTTTCCCAGGTCTAGCTCCACCAACGCTGGGAGTGCCCCCAGCAGAGCAGGGGGAGTCCCAGAAAGATTGTTTGCTAT\n",
        "+\n",
        "___c\\accge^egfegghhhh\\RY`e`gaddffa_eghhhhhhQ^N\\\\egfh]dfff]\\bgeddba^a^bbYY``XY_]bbb_b[bbb`c\n",
        "\n"
       ]
      },
      {
       "output_type": "stream",
       "stream": "stdout",
       "text": [
        "@FCD1EA5ACXX:3:1101:11626:1826#CGTACGTA/1\n",
        "NTCCTTCCTCGACAGCGTCTTCTTCTTCTTGACAATCTTCACCGTATTGCCCAGGGCGTCAATGAACTCCTCCGCCTCCTTCTTCTGCTC\n",
        "+\n",
        "BP\\cceeegggggiiiifgghhiihhihiihfhihhbghhfhhihffhghghfehiiiegeeeddd`bbdccbcc_acccccccbcbccc\n",
        "\n",
        "@FCD1EA5ACXX:3:1101:11538:1867#CGTACGTA/1\n",
        "NCCAGCTCAATCACCTCCTGAGACGTGAGTCGGTCCAGGTACATGATGATGGCGCGCAGGGAGTTGCCGTGCGCGGCGATCATCACGTTC\n",
        "+\n",
        "BS\\cceeegfggfiihiiiiiiiiiihhigiihghffhhacfgfhdgdfghhhiiigeeccccccccccaacccccccaccccbcbaccc\n",
        "\n"
       ]
      },
      {
       "output_type": "stream",
       "stream": "stdout",
       "text": [
        "@FCD1EA5ACXX:3:1101:11593:1887#CGTACGTA/1\n",
        "NCAGTCACAGCTGACCCTGGTCGCGCAGAGGCCGGCTCAAACCCAGGGTGCAAGACCCGCGCTCCAGGTGGATTGCGCGCACCACCCGAA\n",
        "+\n",
        "BS^cceeegggggiihiiiiiihiiiiihiiihiiiiiihigggggee^abbd]bbcccccccccccc_bccbcbbaccccccccccccc\n",
        "\n",
        "@FCD1EA5ACXX:3:1101:11530:1908#CGTACGTA/1\n",
        "NCTGATCCTGCTCCTGCTCCTGCACCTGCACTGGCGCCCTGCACTGCATGTCCCCTTGACAGCCTATCATTGAGATGCACCAGCTCGATA\n",
        "+\n",
        "BPaceeeegggggiiiiiiiiiiiiiihiiiiihhhiiiiiiiiiiiiihiiiiiiihiehhgggggeeeecedcbbddccccaccccca\n",
        "\n"
       ]
      },
      {
       "output_type": "stream",
       "stream": "stdout",
       "text": [
        "@FCD1EA5ACXX:3:1101:11663:1960#CGTACGTA/1\n",
        "GCCAGGACAGTCCATGCCAGGTCAGTCCCTGCCATGCCTGTCCCTGCCAGGCCAGCCAACTCGCTGAGCTGGCTGTGCGCGGGATCTATG\n",
        "+\n",
        "aabeeeeeggggfiiiiiiiihhiiiiiiihiiiidgihehiiiihiihgiiihhiiiiiii_fgggeeeeccbc`bbacaccaV[``a]\n",
        "\n",
        "@FCD1EA5ACXX:3:1101:11969:1827#CGTACGTA/1\n",
        "NAACGCCTCTCGGTGGTACAGCCACATCCAAAGCCTCCTCGGCAGCAGGTTCGGCGGCGCAGGCGCAGGCGTGAACATTGCCGGTGCCTC\n",
        "+\n",
        "BP\\aceeeggggghiigghihiiiihiiihiihihiiihhhiiiiihhhdfgggcbc_aaaac_aca]caXOXQ[SY]b_`bT]OTT^_S\n",
        "\n"
       ]
      },
      {
       "output_type": "stream",
       "stream": "stdout",
       "text": [
        "@FCD1EA5ACXX:3:1101:11977:1884#CGTACGCA/1\n",
        "NGGACATGGAGCACCAGTGCCGGCAGGAGGTGGCCATGCTGTGCAAGCTGGCGCACCCGAACGTGCTGCGCTTTGTGGGCGCTTGCAAGA\n",
        "+\n",
        "BP\\cccccceecefgf`gghhffhhfhghhdegghcfghdbeedfgfgcfg^dd]abbabbba`a`^]]_aaZab][_]aaaa[_aG]`b\n",
        "\n",
        "@FCD1EA5ACXX:3:1101:11847:1959#CGTACGTA/1\n",
        "ATTTCCTGGAGCCCCAGAATCCGAAGATCACGCTCTGATGCCGAGACATGCCATCACCACATCTCCCCGACCAGTTCAAGTGCAAGAGAC\n",
        "+\n",
        "_abeeeeegfgfgiiiiiiiiiiiiihighhiiiiihchghhiihhiiiihiiigggggeeeeedcccaccccccbbccbcccccccccc\n",
        "\n"
       ]
      },
      {
       "output_type": "stream",
       "stream": "stdout",
       "text": [
        "@FCD1EA5ACXX:3:1101:11792:1999#CGTACGTA/1\n",
        "CGGGGTTCTCTCCTTTTTCTTCTCAACTGGTCACCATTGCACACAACTGTACACACTCTTCTAGCAACAAGCACTAAGCACAGATCGAAG\n",
        "+\n",
        "abbee`cegggggiiiiihiiiiifiiiiiifhihhiihihiiiiiihigghiiiihfhhihfdhiihiihgeggdedeedddcccccca\n",
        "\n",
        "@FCD1EA5ACXX:3:1101:12109:1822#CGTACGTA/1\n",
        "NCCAGGTATCCCTTATGCCACGATGGGTCCTCTCCTTCTCGCCGTACAGCTCCTCGTTGCTGCTGCCGGTGCCACGGCCTCGTCAGATGC\n",
        "+\n",
        "BP\\cceccgegggiiihiiiiiiihhighghgiifhibghffiiihhhehifhddfcggggeeeeedcccacccccccccca`a^_bbcb\n",
        "\n"
       ]
      },
      {
       "output_type": "stream",
       "stream": "stdout",
       "text": [
        "@FCD1EA5ACXX:3:1101:12233:1940#CGTACGTA/1\n",
        "CAGGGCGTCAGCCGCAACAGGAGCAACAGGAGCGGGAGCTCGAGCAGCTGCTCCTTTGCCAGCTGGGGTGCCTCGAAGCAGGCCAGCCAG\n",
        "+\n",
        "bbbeceeegggggiiihhiidfffhihiihhhhiiigdceed`bccccccbbbccccbbc`bcccccc_accbbaab_a^baaccacc[`\n",
        "\n",
        "@FCD1EA5ACXX:3:1101:12151:1962#CGTACGTA/1\n",
        "CGACGCCCTTGGGCAGCGCAGTGGTCCCCGAGGTGTAGTTCAGGGCGATGGGGCTGTTCTCGTCCCACGGCATCAGGCACTCTGTGGGAG\n",
        "+\n",
        "__^ceec`gggfefhhhhhfi^ac^afggggfhF\\\\\\\\efd_ffheeecccccac^T_bdca_ac_]^TX]aZbcbYbacbccb_bRX[_\n",
        "\n"
       ]
      },
      {
       "output_type": "stream",
       "stream": "stdout",
       "text": [
        "@FCD1EA5ACXX:3:1101:12486:1882#CGTACGTA/1\n",
        "NGCACCTCGTACCCCTTGCTCAGCAGCAGCTCCGTCAGGTACGACCCGTCCTGCCCCGTGATGCCGCTCACGAGGGCCTTCTTCATGGGA\n",
        "+\n",
        "BP\\^ccdegeggghhhhhhhhhhhhhhfdffhhhfhhdfc_fghhhhfeghhfgggee\\[ZbbbccaY_\\``[Za]aW[bY`bccc`baX\n",
        "\n",
        "@FCD1EA5ACXX:3:1101:12489:1902#CGTACGTA/1\n",
        "NCCCGAGCTGGCAGGCCCTGGGGAGCCCCTGAGGGACCAGGGGCCCAGCGCTGCCAGGCTGGCACTGCCACGTGGCAGCTTGCAGGGCCT\n",
        "+\n",
        "BP\\cceeegfggehfghiifhhhifaegffdegiihhhhfc_agggeddaaccca]Y`acacccccccccca^`cTXW^bbRQGS[_V^a\n",
        "\n"
       ]
      },
      {
       "output_type": "stream",
       "stream": "stdout",
       "text": [
        "@FCD1EA5ACXX:3:1101:12280:1909#CGTACGTA/1\n",
        "NCGAAAGTTACCGATCCCCCCCTCGCCGGCTACATCTTACCGCGAGGAAGTACCCTGAAGGAGCGACCTCTCACGTGAGGGTTTCTCCTG\n",
        "+\n",
        "BSaceeeegggggiihhiiiiiiihiihiggdcddabd]_b\\_]^_a_a[R]X_b]X`c`b_aaaaccac]`bbaaaccccQ[^]b`b]S\n",
        "\n",
        "@FCD1EA5ACXX:3:1101:12405:1933#CGTACGTA/1\n",
        "NTTTTTTTTGAAAGCAAAGTGGTGATTATCTTTGACAATAAACGGGGAGGATACATATATGCAGCTAATCACACAAGTACGACATACTCT\n",
        "+\n",
        "BP\\cceeeggggfhhhiibcfhegfghfhdfhiadfgfaefgcghiiddg\\^aad]_]`b_bdbccbbbbc_b`a^QY`bcc]aaccccc\n",
        "\n"
       ]
      },
      {
       "output_type": "stream",
       "stream": "stdout",
       "text": [
        "@FCD1EA5ACXX:3:1101:12321:1948#CGTACGTA/1\n",
        "GCACGGGCCGCGGCGTGCGCATCACGGAGACGGACAAGCTGGACGCAGGGGTCCGGGAGCGGGTGCTGGCTGCCGTGGAGAAGCTTGGGG\n",
        "+\n",
        "bbbeeeeeffgggiigiihheggeeee`ccaccccaccccccaacc_acccV[a[ccccccccT_ab[ba^^_aaT[_W[R[^^]bX_cc\n",
        "\n",
        "@FCD1EA5ACXX:3:1101:12456:1979#CGTACGTA/1\n",
        "GGAGATTTCTCTTCTCCGGTCGTGACGCTGACGAGCTCAGCCAGCCACAGGACAATGCGGAGTTTCAACGGAAGCTCTCTAGACCGTCTT\n",
        "+\n",
        "b__eaceeggecghiiiihehfdghiiiiiiiiifdghfhiihiehiihggedee_bcbccc^`bcd`bacac]W]`bcccbbcccacac\n",
        "\n"
       ]
      },
      {
       "output_type": "stream",
       "stream": "stdout",
       "text": [
        "@FCD1EA5ACXX:3:1101:12550:1848#CGTACGTA/1\n",
        "NAAATGTGGGACGATGACTGGACAGCTGTCACTGCAGACGGCTGCTTGTCTGCTCAAATTGAGCACACGCTGCTCATCACCGACACAGGA\n",
        "+\n",
        "BP\\ceeeegggfghiiiiiiiiiiiiihhiihiiiiiiiiihiihfhaefggiihhhgggddgeeedeccccabb`bbccb_ccccccac\n",
        "\n",
        "@FCD1EA5ACXX:3:1101:12525:1867#CGTACGCA/1\n",
        "NAACGTGCTGTGCTTCGGGGGCAGCACCATCGATCAGTACCTGGAGGGCATGGAGGCATCCAACTCGGCCGCCCACATGGCCGGCGGCGG\n",
        "+\n",
        "BP\\cccccgebeghhhhfhhfghhhhhhfhhhfhhhhdeegeeddddbbabaabaaaabbbbbbbb_aaaaaaaaaabbb_`]aa[a_]_\n",
        "\n"
       ]
      },
      {
       "output_type": "stream",
       "stream": "stdout",
       "text": [
        "@FCD1EA5ACXX:3:1101:12510:1918#CGTACGTA/1\n",
        "NGAAGCTCTCCTGGTCTGTCACATCGTACACAACAATGATTCCATGAGCTCCGCGGTAGTAACTGCTGGTGATAGTTCTGAACCGTTCTT\n",
        "+\n",
        "BPYaccdefggffifhgidgbghfghffihibdcef_c`ehhhefh]fhfhiiiih_dd\\`bgaggeeeV^_bccb_bdb_bbcaaa`ac\n",
        "\n",
        "@FCD1EA5ACXX:3:1101:12671:1964#CGTACGTA/1\n",
        "GGCGATGTGAGCCCTCTAATGCAGACAACGCAACACCAGCAGCCCTTGGAGGTGCAGCAGCAGCAGCAGCAGCAGCAGCAGCAGGAGCAC\n",
        "+\n",
        "bbbeeeeegggggiiiiihihihhiihiggfhifhhhiffhghiiiihihhhZbfgggggeeeeeddddccccccacacccccaca_^`a\n",
        "\n"
       ]
      },
      {
       "output_type": "stream",
       "stream": "stdout",
       "text": [
        "@FCD1EA5ACXX:3:1101:12632:1995#CGTACGTA/1\n",
        "GCTCAAGGGGCACTTCCGTCCGGAGCTGCTCAACCGGATTGACGAGATTGTCGTGTTCCGACCGCTGGAGAAGTCACAGGTCCGCTCGAT\n",
        "+\n",
        "bbbeeeeegggfgihhiiiiiihdhhhiiifhhhiihhhifhhiiggfgddeeV[`bbbcccccccca[`bcbRSS]bb```cacaccRX\n",
        "\n",
        "@FCD1EA5ACXX:3:1101:12684:1996#CGTACGTA/1\n",
        "GTGACCCTGATTGCTGCCACTGAGGGTGAGTTCCGGCTCCCAGAGGTCAAGTCGGCGGCTGACTTGAGGACAGCTCTGACTCAGCTGGCT\n",
        "+\n",
        "bbbeeeeegcgggiiihiiiiiiiihcfdghhhiiiihiiiighhhbghhhfdghhgccccabccbccccccacc`b_bcccb`bc`bcb\n",
        "\n"
       ]
      },
      {
       "ename": "KeyboardInterrupt",
       "evalue": "",
       "output_type": "pyerr",
       "traceback": [
        "\u001b[0;31m---------------------------------------------------------------------------\u001b[0m\n\u001b[0;31mKeyboardInterrupt\u001b[0m                         Traceback (most recent call last)",
        "\u001b[0;32m<ipython-input-13-2c7c251ccf1d>\u001b[0m in \u001b[0;36m<module>\u001b[0;34m()\u001b[0m\n\u001b[1;32m     17\u001b[0m     \u001b[0mQual\u001b[0m\u001b[0;34m=\u001b[0m\u001b[0mprocess\u001b[0m\u001b[0;34m.\u001b[0m\u001b[0mstdout\u001b[0m\u001b[0;34m.\u001b[0m\u001b[0mreadline\u001b[0m\u001b[0;34m(\u001b[0m\u001b[0;34m)\u001b[0m\u001b[0;34m\u001b[0m\u001b[0m\n\u001b[1;32m     18\u001b[0m     \u001b[0msys\u001b[0m\u001b[0;34m.\u001b[0m\u001b[0mstdout\u001b[0m\u001b[0;34m.\u001b[0m\u001b[0mwrite\u001b[0m\u001b[0;34m(\u001b[0m\u001b[0;34m'%s%s%s%s\\n'\u001b[0m \u001b[0;34m%\u001b[0m \u001b[0;34m(\u001b[0m\u001b[0mHeader\u001b[0m\u001b[0;34m,\u001b[0m \u001b[0mSeq\u001b[0m\u001b[0;34m,\u001b[0m \u001b[0mSpacer\u001b[0m\u001b[0;34m,\u001b[0m \u001b[0mQual\u001b[0m\u001b[0;34m)\u001b[0m\u001b[0;34m)\u001b[0m\u001b[0;34m\u001b[0m\u001b[0m\n\u001b[0;32m---> 19\u001b[0;31m     \u001b[0mtime\u001b[0m\u001b[0;34m.\u001b[0m\u001b[0msleep\u001b[0m\u001b[0;34m(\u001b[0m\u001b[0;36m0.5\u001b[0m\u001b[0;34m)\u001b[0m\u001b[0;34m\u001b[0m\u001b[0m\n\u001b[0m\u001b[1;32m     20\u001b[0m \u001b[0;34m\u001b[0m\u001b[0m\n",
        "\u001b[0;31mKeyboardInterrupt\u001b[0m: "
       ]
      }
     ],
     "prompt_number": 13
    }
   ],
   "metadata": {}
  }
 ]
}