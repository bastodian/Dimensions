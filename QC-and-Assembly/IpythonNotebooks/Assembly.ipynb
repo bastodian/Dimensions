{
 "metadata": {
  "name": "Assembly"
 },
 "nbformat": 3,
 "nbformat_minor": 0,
 "worksheets": [
  {
   "cells": [
    {
     "cell_type": "markdown",
     "metadata": {},
     "source": [
      "Combine fastq files\n",
      "-------------------\n",
      "\n",
      "Here, the fastq files for replicates of the monocultires are combined into single files. This ensures that we can use the\n",
      "files as input for the de-novo transcriptome assembler Trinity."
     ]
    },
    {
     "cell_type": "code",
     "collapsed": false,
     "input": [
      "import glob, os, sys\n",
      "\n",
      "'''\n",
      "    RawDataDir is the path to the folders containing the raw read files.\n",
      "    As of now this needs to be modified by replacing the path.\n",
      "'''\n",
      "TrimmedDataDir = ('/home/bastodian/DimensionsData/T6/TrimmedData/')\n",
      "# Create assembly directory in T6\n",
      "AssemblyDir = '%s/Assemblies' % '/'.join(TrimmedDataDir.split('/')[:-2])\n",
      "try:\n",
      "    os.mkdir(AssemblyDir)\n",
      "except Exception:\n",
      "    sys.exit('Assembly directory exists...')\n",
      "\n",
      "'''\n",
      "        Create a list of trimmed fastq files to process\n",
      "'''\n",
      "Fwd = [File for File in glob.glob('%s%s' % (TrimmedDataDir, 'D[CN][1-8]0*/*1.trimmed.fq'))]\n",
      "Fwd.sort()\n",
      "sys.stdout.write(\"Forward files:\\n%s\\n\" % (\"\\n\".join(Fwd)))\n",
      "Rev = [File for File in glob.glob('%s%s' % (TrimmedDataDir, 'D[CN][1-8]0*/*2.trimmed.fq'))]\n",
      "Rev.sort()\n",
      "sys.stdout.write(\"Reverse files:\\n%s\\n\" % (\"\\n\".join(Rev)))\n",
      "\n",
      "'''\n",
      "    Combine fwd and reverse files for assembly\n",
      "'''\n",
      "\n",
      "Culture = ''\n",
      "for (Fwd, Rev) in zip(Fwd, Rev):\n",
      "    Culture0 = Fwd.split('/')[-2]\n",
      "    Culture1 = Rev.split('/')[-2]\n",
      "    assert Culture0.split('.')[0] == Culture1.split('.')[0]\n",
      "    if Culture0.split('.')[0] == Culture:\n",
      "        # Open output file for appending\n",
      "        with open(OutFile0, \"ab\") as FwdOut:\n",
      "            # Open input file and append to the output\n",
      "            with open(Fwd, \"rb\") as FwdIn:\n",
      "                sys.stdout.write('\\n\\tCopying content of %s to %s ...' % (Fwd, OutFile0))\n",
      "                for Line in FwdIn:\n",
      "                    FwdOut.write(Line)\n",
      "        # Open output file for appending\n",
      "        with open(OutFile1, \"ab\") as RevOut:\n",
      "            # Open input file and append to the output\n",
      "            with open(Rev, \"rb\") as RevIn:\n",
      "                sys.stdout.write('\\n\\tCopying content of %s to %s ...' % (Rev, OutFile1))\n",
      "                for Line in RevIn:\n",
      "                    RevOut.write(Line)\n",
      "    elif Culture0.split('.')[0] != Culture:\n",
      "        Culture = Culture0.split('.')[0]\n",
      "        CultureDir = '%s/%s' % (AssemblyDir, Culture0.split('.')[0])\n",
      "        os.mkdir(CultureDir)\n",
      "        sys.stdout.write(\"\\nCreated directory %s\" % (CultureDir))\n",
      "        # Open fwd output file\n",
      "        OutFile0 = '%s/%s.fwd.combined.fq' % (CultureDir, Culture)\n",
      "        with open(OutFile0, \"wb\") as FwdOut:\n",
      "            # Open the input file and write its content to output file\n",
      "            with open(Fwd, \"rb\") as FwdIn:\n",
      "                sys.stdout.write('\\n\\tCopying content of %s to %s ...' % (Fwd, OutFile0))\n",
      "                for Line in FwdIn:\n",
      "                    FwdOut.write(Line)\n",
      "        # Open rev output file\n",
      "        OutFile1 = '%s/%s.rev.combined.fq' % (CultureDir, Culture)\n",
      "        with open(OutFile1, \"wb\") as RevOut:\n",
      "            # Open the input file and write its content to output file\n",
      "            with open(Rev, \"rb\") as RevIn:\n",
      "                sys.stdout.write('\\n\\tCopying content of %s to %s ...' % (Rev, OutFile1))\n",
      "                for Line in RevIn:\n",
      "                    RevOut.write(Line)"
     ],
     "language": "python",
     "metadata": {},
     "outputs": [
      {
       "output_type": "stream",
       "stream": "stdout",
       "text": [
        "Forward files:\n",
        "/home/bastodian/DimensionsData/T6/TrimmedData/DC10.R1T6/DC10.R1T6_ALGufhTAARAAPEI-18_1.trimmed.fq\n",
        "/home/bastodian/DimensionsData/T6/TrimmedData/DC10.R2T6/DC10.R2T6_ALGjhnTCARAAPEI-205_1.trimmed.fq\n",
        "/home/bastodian/DimensionsData/T6/TrimmedData/DC10.R3T6/DC10.R3T6_ALGjhnTAORABPEI-219_1.trimmed.fq\n",
        "/home/bastodian/DimensionsData/T6/TrimmedData/DC20.R1T6/DC20.R1T6_ALGjhnTAARBAPEI-205_1.trimmed.fq\n",
        "/home/bastodian/DimensionsData/T6/TrimmedData/DC20.R2T6/DC20.R2T6_ALGjhnTCHRAAPEI-212_1.trimmed.fq\n",
        "/home/bastodian/DimensionsData/T6/TrimmedData/DC20.R3T6/DC20.R3T6_ALGjhnTAVRABPEI-206_1.trimmed.fq\n",
        "/home/bastodian/DimensionsData/T6/TrimmedData/DC30.R1T6/DC30.R1T6_ALGjhnTAHRABPEI-211_1.trimmed.fq\n",
        "/home/bastodian/DimensionsData/T6/TrimmedData/DC30.R2T6/DC30.R2T6_ALGjhnTCORAAPEI-220_1.trimmed.fq\n",
        "/home/bastodian/DimensionsData/T6/TrimmedData/DC30.R3T6/DC30.R3T6_ALGjhnTBCRABPEI-213_1.trimmed.fq\n",
        "/home/bastodian/DimensionsData/T6/TrimmedData/DC40.R1T6/DC40.R1T6_ALGjhnTAPRABPEI-220_1.trimmed.fq\n",
        "/home/bastodian/DimensionsData/T6/TrimmedData/DC40.R2T6/DC40.R2T6_ALGcfpTAGRAAPEI-204_1.trimmed.fq\n",
        "/home/bastodian/DimensionsData/T6/TrimmedData/DC40.R3T6/DC40.R3T6_ALGufhTAHRAAPEI-6_1.trimmed.fq\n",
        "/home/bastodian/DimensionsData/T6/TrimmedData/DC50.R1TWB/DC50.R1TWB_ALGjhnTAWRABPEI-207_1.trimmed.fq\n",
        "/home/bastodian/DimensionsData/T6/TrimmedData/DC50.R2TWB/DC50.R2TWB_ALGjhnTDCRAAPEI-209_1.trimmed.fq\n",
        "/home/bastodian/DimensionsData/T6/TrimmedData/DC50.R3TWB/DC50.R3TWB_ALGjhnTBRRABPEI-204_1.trimmed.fq\n",
        "/home/bastodian/DimensionsData/T6/TrimmedData/DC60.R1T6/DC60.R1T6_ALGjhnTBDRABPEI-214_1.trimmed.fq\n",
        "/home/bastodian/DimensionsData/T6/TrimmedData/DC60.R2T6/DC60.R2T6_ALGjhnTDJRAAPEI-216_1.trimmed.fq\n",
        "/home/bastodian/DimensionsData/T6/TrimmedData/DC60.R3T6/DC60.R3T6_ALGjhnTCGRAAPEI-211_1.trimmed.fq\n",
        "/home/bastodian/DimensionsData/T6/TrimmedData/DC70.R1TWB/DC70.R1TWB_ALGjhnTBLRABPEI-223_1.trimmed.fq\n",
        "/home/bastodian/DimensionsData/T6/TrimmedData/DC70.R2T6/DC70.R2T6_ALGjhnTBKRABPEI-222_1.trimmed.fq\n",
        "/home/bastodian/DimensionsData/T6/TrimmedData/DC70.R3TWB/DC70.R3TWB_ALGjhnTBZRAAPEI-204_1.trimmed.fq\n",
        "/home/bastodian/DimensionsData/T6/TrimmedData/DC80.R1T6/DC80.R1T6_ALGjhnTDNRAAPEI-221_1.trimmed.fq\n",
        "/home/bastodian/DimensionsData/T6/TrimmedData/DC80.R2T6/DC80.R2T6_ALGjhnTAGRABPEI-210_1.trimmed.fq\n",
        "/home/bastodian/DimensionsData/T6/TrimmedData/DC80.R3T6/DC80.R3T6_ALGjhnTDMRAAPEI-220_1.trimmed.fq\n",
        "Reverse files:\n",
        "/home/bastodian/DimensionsData/T6/TrimmedData/DC10.R1T6/DC10.R1T6_ALGufhTAARAAPEI-18_2.trimmed.fq\n",
        "/home/bastodian/DimensionsData/T6/TrimmedData/DC10.R2T6/DC10.R2T6_ALGjhnTCARAAPEI-205_2.trimmed.fq\n",
        "/home/bastodian/DimensionsData/T6/TrimmedData/DC10.R3T6/DC10.R3T6_ALGjhnTAORABPEI-219_2.trimmed.fq\n",
        "/home/bastodian/DimensionsData/T6/TrimmedData/DC20.R1T6/DC20.R1T6_ALGjhnTAARBAPEI-205_2.trimmed.fq\n",
        "/home/bastodian/DimensionsData/T6/TrimmedData/DC20.R2T6/DC20.R2T6_ALGjhnTCHRAAPEI-212_2.trimmed.fq\n",
        "/home/bastodian/DimensionsData/T6/TrimmedData/DC20.R3T6/DC20.R3T6_ALGjhnTAVRABPEI-206_2.trimmed.fq\n",
        "/home/bastodian/DimensionsData/T6/TrimmedData/DC30.R1T6/DC30.R1T6_ALGjhnTAHRABPEI-211_2.trimmed.fq\n",
        "/home/bastodian/DimensionsData/T6/TrimmedData/DC30.R2T6/DC30.R2T6_ALGjhnTCORAAPEI-220_2.trimmed.fq\n",
        "/home/bastodian/DimensionsData/T6/TrimmedData/DC30.R3T6/DC30.R3T6_ALGjhnTBCRABPEI-213_2.trimmed.fq\n",
        "/home/bastodian/DimensionsData/T6/TrimmedData/DC40.R1T6/DC40.R1T6_ALGjhnTAPRABPEI-220_2.trimmed.fq\n",
        "/home/bastodian/DimensionsData/T6/TrimmedData/DC40.R2T6/DC40.R2T6_ALGcfpTAGRAAPEI-204_2.trimmed.fq\n",
        "/home/bastodian/DimensionsData/T6/TrimmedData/DC40.R3T6/DC40.R3T6_ALGufhTAHRAAPEI-6_2.trimmed.fq\n",
        "/home/bastodian/DimensionsData/T6/TrimmedData/DC50.R1TWB/DC50.R1TWB_ALGjhnTAWRABPEI-207_2.trimmed.fq\n",
        "/home/bastodian/DimensionsData/T6/TrimmedData/DC50.R2TWB/DC50.R2TWB_ALGjhnTDCRAAPEI-209_2.trimmed.fq\n",
        "/home/bastodian/DimensionsData/T6/TrimmedData/DC50.R3TWB/DC50.R3TWB_ALGjhnTBRRABPEI-204_2.trimmed.fq\n",
        "/home/bastodian/DimensionsData/T6/TrimmedData/DC60.R1T6/DC60.R1T6_ALGjhnTBDRABPEI-214_2.trimmed.fq\n",
        "/home/bastodian/DimensionsData/T6/TrimmedData/DC60.R2T6/DC60.R2T6_ALGjhnTDJRAAPEI-216_2.trimmed.fq\n",
        "/home/bastodian/DimensionsData/T6/TrimmedData/DC60.R3T6/DC60.R3T6_ALGjhnTCGRAAPEI-211_2.trimmed.fq\n",
        "/home/bastodian/DimensionsData/T6/TrimmedData/DC70.R1TWB/DC70.R1TWB_ALGjhnTBLRABPEI-223_2.trimmed.fq\n",
        "/home/bastodian/DimensionsData/T6/TrimmedData/DC70.R2T6/DC70.R2T6_ALGjhnTBKRABPEI-222_2.trimmed.fq\n",
        "/home/bastodian/DimensionsData/T6/TrimmedData/DC70.R3TWB/DC70.R3TWB_ALGjhnTBZRAAPEI-204_2.trimmed.fq\n",
        "/home/bastodian/DimensionsData/T6/TrimmedData/DC80.R1T6/DC80.R1T6_ALGjhnTDNRAAPEI-221_2.trimmed.fq\n",
        "/home/bastodian/DimensionsData/T6/TrimmedData/DC80.R2T6/DC80.R2T6_ALGjhnTAGRABPEI-210_2.trimmed.fq\n",
        "/home/bastodian/DimensionsData/T6/TrimmedData/DC80.R3T6/DC80.R3T6_ALGjhnTDMRAAPEI-220_2.trimmed.fq\n",
        "\n",
        "Created directory /home/bastodian/DimensionsData/T6/Assemblies/DC10\n",
        "\tCopying content of /home/bastodian/DimensionsData/T6/TrimmedData/DC10.R1T6/DC10.R1T6_ALGufhTAARAAPEI-18_1.trimmed.fq to /home/bastodian/DimensionsData/T6/Assemblies/DC10/DC10.fwd.combined.fq ...\n",
        "\tCopying content of /home/bastodian/DimensionsData/T6/TrimmedData/DC10.R1T6/DC10.R1T6_ALGufhTAARAAPEI-18_2.trimmed.fq to /home/bastodian/DimensionsData/T6/Assemblies/DC10/DC10.rev.combined.fq ..."
       ]
      },
      {
       "output_type": "stream",
       "stream": "stdout",
       "text": [
        "\n",
        "\tCopying content of /home/bastodian/DimensionsData/T6/TrimmedData/DC10.R2T6/DC10.R2T6_ALGjhnTCARAAPEI-205_1.trimmed.fq to /home/bastodian/DimensionsData/T6/Assemblies/DC10/DC10.fwd.combined.fq ...\n",
        "\tCopying content of /home/bastodian/DimensionsData/T6/TrimmedData/DC10.R2T6/DC10.R2T6_ALGjhnTCARAAPEI-205_2.trimmed.fq to /home/bastodian/DimensionsData/T6/Assemblies/DC10/DC10.rev.combined.fq ..."
       ]
      },
      {
       "output_type": "stream",
       "stream": "stdout",
       "text": [
        "\n",
        "\tCopying content of /home/bastodian/DimensionsData/T6/TrimmedData/DC10.R3T6/DC10.R3T6_ALGjhnTAORABPEI-219_1.trimmed.fq to /home/bastodian/DimensionsData/T6/Assemblies/DC10/DC10.fwd.combined.fq ...\n",
        "\tCopying content of /home/bastodian/DimensionsData/T6/TrimmedData/DC10.R3T6/DC10.R3T6_ALGjhnTAORABPEI-219_2.trimmed.fq to /home/bastodian/DimensionsData/T6/Assemblies/DC10/DC10.rev.combined.fq ..."
       ]
      },
      {
       "output_type": "stream",
       "stream": "stdout",
       "text": [
        "\n",
        "Created directory /home/bastodian/DimensionsData/T6/Assemblies/DC20\n",
        "\tCopying content of /home/bastodian/DimensionsData/T6/TrimmedData/DC20.R1T6/DC20.R1T6_ALGjhnTAARBAPEI-205_1.trimmed.fq to /home/bastodian/DimensionsData/T6/Assemblies/DC20/DC20.fwd.combined.fq ...\n",
        "\tCopying content of /home/bastodian/DimensionsData/T6/TrimmedData/DC20.R1T6/DC20.R1T6_ALGjhnTAARBAPEI-205_2.trimmed.fq to /home/bastodian/DimensionsData/T6/Assemblies/DC20/DC20.rev.combined.fq ..."
       ]
      },
      {
       "output_type": "stream",
       "stream": "stdout",
       "text": [
        "\n",
        "\tCopying content of /home/bastodian/DimensionsData/T6/TrimmedData/DC20.R2T6/DC20.R2T6_ALGjhnTCHRAAPEI-212_1.trimmed.fq to /home/bastodian/DimensionsData/T6/Assemblies/DC20/DC20.fwd.combined.fq ...\n",
        "\tCopying content of /home/bastodian/DimensionsData/T6/TrimmedData/DC20.R2T6/DC20.R2T6_ALGjhnTCHRAAPEI-212_2.trimmed.fq to /home/bastodian/DimensionsData/T6/Assemblies/DC20/DC20.rev.combined.fq ..."
       ]
      },
      {
       "output_type": "stream",
       "stream": "stdout",
       "text": [
        "\n",
        "\tCopying content of /home/bastodian/DimensionsData/T6/TrimmedData/DC20.R3T6/DC20.R3T6_ALGjhnTAVRABPEI-206_1.trimmed.fq to /home/bastodian/DimensionsData/T6/Assemblies/DC20/DC20.fwd.combined.fq ...\n",
        "\tCopying content of /home/bastodian/DimensionsData/T6/TrimmedData/DC20.R3T6/DC20.R3T6_ALGjhnTAVRABPEI-206_2.trimmed.fq to /home/bastodian/DimensionsData/T6/Assemblies/DC20/DC20.rev.combined.fq ..."
       ]
      },
      {
       "output_type": "stream",
       "stream": "stdout",
       "text": [
        "\n",
        "Created directory /home/bastodian/DimensionsData/T6/Assemblies/DC30\n",
        "\tCopying content of /home/bastodian/DimensionsData/T6/TrimmedData/DC30.R1T6/DC30.R1T6_ALGjhnTAHRABPEI-211_1.trimmed.fq to /home/bastodian/DimensionsData/T6/Assemblies/DC30/DC30.fwd.combined.fq ...\n",
        "\tCopying content of /home/bastodian/DimensionsData/T6/TrimmedData/DC30.R1T6/DC30.R1T6_ALGjhnTAHRABPEI-211_2.trimmed.fq to /home/bastodian/DimensionsData/T6/Assemblies/DC30/DC30.rev.combined.fq ..."
       ]
      },
      {
       "output_type": "stream",
       "stream": "stdout",
       "text": [
        "\n",
        "\tCopying content of /home/bastodian/DimensionsData/T6/TrimmedData/DC30.R2T6/DC30.R2T6_ALGjhnTCORAAPEI-220_1.trimmed.fq to /home/bastodian/DimensionsData/T6/Assemblies/DC30/DC30.fwd.combined.fq ...\n",
        "\tCopying content of /home/bastodian/DimensionsData/T6/TrimmedData/DC30.R2T6/DC30.R2T6_ALGjhnTCORAAPEI-220_2.trimmed.fq to /home/bastodian/DimensionsData/T6/Assemblies/DC30/DC30.rev.combined.fq ..."
       ]
      },
      {
       "output_type": "stream",
       "stream": "stdout",
       "text": [
        "\n",
        "\tCopying content of /home/bastodian/DimensionsData/T6/TrimmedData/DC30.R3T6/DC30.R3T6_ALGjhnTBCRABPEI-213_1.trimmed.fq to /home/bastodian/DimensionsData/T6/Assemblies/DC30/DC30.fwd.combined.fq ...\n",
        "\tCopying content of /home/bastodian/DimensionsData/T6/TrimmedData/DC30.R3T6/DC30.R3T6_ALGjhnTBCRABPEI-213_2.trimmed.fq to /home/bastodian/DimensionsData/T6/Assemblies/DC30/DC30.rev.combined.fq ..."
       ]
      },
      {
       "output_type": "stream",
       "stream": "stdout",
       "text": [
        "\n",
        "Created directory /home/bastodian/DimensionsData/T6/Assemblies/DC40\n",
        "\tCopying content of /home/bastodian/DimensionsData/T6/TrimmedData/DC40.R1T6/DC40.R1T6_ALGjhnTAPRABPEI-220_1.trimmed.fq to /home/bastodian/DimensionsData/T6/Assemblies/DC40/DC40.fwd.combined.fq ...\n",
        "\tCopying content of /home/bastodian/DimensionsData/T6/TrimmedData/DC40.R1T6/DC40.R1T6_ALGjhnTAPRABPEI-220_2.trimmed.fq to /home/bastodian/DimensionsData/T6/Assemblies/DC40/DC40.rev.combined.fq ..."
       ]
      },
      {
       "output_type": "stream",
       "stream": "stdout",
       "text": [
        "\n",
        "\tCopying content of /home/bastodian/DimensionsData/T6/TrimmedData/DC40.R2T6/DC40.R2T6_ALGcfpTAGRAAPEI-204_1.trimmed.fq to /home/bastodian/DimensionsData/T6/Assemblies/DC40/DC40.fwd.combined.fq ...\n",
        "\tCopying content of /home/bastodian/DimensionsData/T6/TrimmedData/DC40.R2T6/DC40.R2T6_ALGcfpTAGRAAPEI-204_2.trimmed.fq to /home/bastodian/DimensionsData/T6/Assemblies/DC40/DC40.rev.combined.fq ..."
       ]
      },
      {
       "output_type": "stream",
       "stream": "stdout",
       "text": [
        "\n",
        "\tCopying content of /home/bastodian/DimensionsData/T6/TrimmedData/DC40.R3T6/DC40.R3T6_ALGufhTAHRAAPEI-6_1.trimmed.fq to /home/bastodian/DimensionsData/T6/Assemblies/DC40/DC40.fwd.combined.fq ...\n",
        "\tCopying content of /home/bastodian/DimensionsData/T6/TrimmedData/DC40.R3T6/DC40.R3T6_ALGufhTAHRAAPEI-6_2.trimmed.fq to /home/bastodian/DimensionsData/T6/Assemblies/DC40/DC40.rev.combined.fq ..."
       ]
      },
      {
       "output_type": "stream",
       "stream": "stdout",
       "text": [
        "\n",
        "Created directory /home/bastodian/DimensionsData/T6/Assemblies/DC50\n",
        "\tCopying content of /home/bastodian/DimensionsData/T6/TrimmedData/DC50.R1TWB/DC50.R1TWB_ALGjhnTAWRABPEI-207_1.trimmed.fq to /home/bastodian/DimensionsData/T6/Assemblies/DC50/DC50.fwd.combined.fq ...\n",
        "\tCopying content of /home/bastodian/DimensionsData/T6/TrimmedData/DC50.R1TWB/DC50.R1TWB_ALGjhnTAWRABPEI-207_2.trimmed.fq to /home/bastodian/DimensionsData/T6/Assemblies/DC50/DC50.rev.combined.fq ..."
       ]
      },
      {
       "output_type": "stream",
       "stream": "stdout",
       "text": [
        "\n",
        "\tCopying content of /home/bastodian/DimensionsData/T6/TrimmedData/DC50.R2TWB/DC50.R2TWB_ALGjhnTDCRAAPEI-209_1.trimmed.fq to /home/bastodian/DimensionsData/T6/Assemblies/DC50/DC50.fwd.combined.fq ...\n",
        "\tCopying content of /home/bastodian/DimensionsData/T6/TrimmedData/DC50.R2TWB/DC50.R2TWB_ALGjhnTDCRAAPEI-209_2.trimmed.fq to /home/bastodian/DimensionsData/T6/Assemblies/DC50/DC50.rev.combined.fq ..."
       ]
      },
      {
       "output_type": "stream",
       "stream": "stdout",
       "text": [
        "\n",
        "\tCopying content of /home/bastodian/DimensionsData/T6/TrimmedData/DC50.R3TWB/DC50.R3TWB_ALGjhnTBRRABPEI-204_1.trimmed.fq to /home/bastodian/DimensionsData/T6/Assemblies/DC50/DC50.fwd.combined.fq ...\n",
        "\tCopying content of /home/bastodian/DimensionsData/T6/TrimmedData/DC50.R3TWB/DC50.R3TWB_ALGjhnTBRRABPEI-204_2.trimmed.fq to /home/bastodian/DimensionsData/T6/Assemblies/DC50/DC50.rev.combined.fq ..."
       ]
      },
      {
       "output_type": "stream",
       "stream": "stdout",
       "text": [
        "\n",
        "Created directory /home/bastodian/DimensionsData/T6/Assemblies/DC60\n",
        "\tCopying content of /home/bastodian/DimensionsData/T6/TrimmedData/DC60.R1T6/DC60.R1T6_ALGjhnTBDRABPEI-214_1.trimmed.fq to /home/bastodian/DimensionsData/T6/Assemblies/DC60/DC60.fwd.combined.fq ...\n",
        "\tCopying content of /home/bastodian/DimensionsData/T6/TrimmedData/DC60.R1T6/DC60.R1T6_ALGjhnTBDRABPEI-214_2.trimmed.fq to /home/bastodian/DimensionsData/T6/Assemblies/DC60/DC60.rev.combined.fq ..."
       ]
      },
      {
       "output_type": "stream",
       "stream": "stdout",
       "text": [
        "\n",
        "\tCopying content of /home/bastodian/DimensionsData/T6/TrimmedData/DC60.R2T6/DC60.R2T6_ALGjhnTDJRAAPEI-216_1.trimmed.fq to /home/bastodian/DimensionsData/T6/Assemblies/DC60/DC60.fwd.combined.fq ...\n",
        "\tCopying content of /home/bastodian/DimensionsData/T6/TrimmedData/DC60.R2T6/DC60.R2T6_ALGjhnTDJRAAPEI-216_2.trimmed.fq to /home/bastodian/DimensionsData/T6/Assemblies/DC60/DC60.rev.combined.fq ..."
       ]
      },
      {
       "output_type": "stream",
       "stream": "stdout",
       "text": [
        "\n",
        "\tCopying content of /home/bastodian/DimensionsData/T6/TrimmedData/DC60.R3T6/DC60.R3T6_ALGjhnTCGRAAPEI-211_1.trimmed.fq to /home/bastodian/DimensionsData/T6/Assemblies/DC60/DC60.fwd.combined.fq ...\n",
        "\tCopying content of /home/bastodian/DimensionsData/T6/TrimmedData/DC60.R3T6/DC60.R3T6_ALGjhnTCGRAAPEI-211_2.trimmed.fq to /home/bastodian/DimensionsData/T6/Assemblies/DC60/DC60.rev.combined.fq ..."
       ]
      },
      {
       "output_type": "stream",
       "stream": "stdout",
       "text": [
        "\n",
        "Created directory /home/bastodian/DimensionsData/T6/Assemblies/DC70\n",
        "\tCopying content of /home/bastodian/DimensionsData/T6/TrimmedData/DC70.R1TWB/DC70.R1TWB_ALGjhnTBLRABPEI-223_1.trimmed.fq to /home/bastodian/DimensionsData/T6/Assemblies/DC70/DC70.fwd.combined.fq ...\n",
        "\tCopying content of /home/bastodian/DimensionsData/T6/TrimmedData/DC70.R1TWB/DC70.R1TWB_ALGjhnTBLRABPEI-223_2.trimmed.fq to /home/bastodian/DimensionsData/T6/Assemblies/DC70/DC70.rev.combined.fq ..."
       ]
      },
      {
       "output_type": "stream",
       "stream": "stdout",
       "text": [
        "\n",
        "\tCopying content of /home/bastodian/DimensionsData/T6/TrimmedData/DC70.R2T6/DC70.R2T6_ALGjhnTBKRABPEI-222_1.trimmed.fq to /home/bastodian/DimensionsData/T6/Assemblies/DC70/DC70.fwd.combined.fq ...\n",
        "\tCopying content of /home/bastodian/DimensionsData/T6/TrimmedData/DC70.R2T6/DC70.R2T6_ALGjhnTBKRABPEI-222_2.trimmed.fq to /home/bastodian/DimensionsData/T6/Assemblies/DC70/DC70.rev.combined.fq ..."
       ]
      },
      {
       "output_type": "stream",
       "stream": "stdout",
       "text": [
        "\n",
        "\tCopying content of /home/bastodian/DimensionsData/T6/TrimmedData/DC70.R3TWB/DC70.R3TWB_ALGjhnTBZRAAPEI-204_1.trimmed.fq to /home/bastodian/DimensionsData/T6/Assemblies/DC70/DC70.fwd.combined.fq ...\n",
        "\tCopying content of /home/bastodian/DimensionsData/T6/TrimmedData/DC70.R3TWB/DC70.R3TWB_ALGjhnTBZRAAPEI-204_2.trimmed.fq to /home/bastodian/DimensionsData/T6/Assemblies/DC70/DC70.rev.combined.fq ..."
       ]
      },
      {
       "output_type": "stream",
       "stream": "stdout",
       "text": [
        "\n",
        "Created directory /home/bastodian/DimensionsData/T6/Assemblies/DC80\n",
        "\tCopying content of /home/bastodian/DimensionsData/T6/TrimmedData/DC80.R1T6/DC80.R1T6_ALGjhnTDNRAAPEI-221_1.trimmed.fq to /home/bastodian/DimensionsData/T6/Assemblies/DC80/DC80.fwd.combined.fq ...\n",
        "\tCopying content of /home/bastodian/DimensionsData/T6/TrimmedData/DC80.R1T6/DC80.R1T6_ALGjhnTDNRAAPEI-221_2.trimmed.fq to /home/bastodian/DimensionsData/T6/Assemblies/DC80/DC80.rev.combined.fq ..."
       ]
      },
      {
       "output_type": "stream",
       "stream": "stdout",
       "text": [
        "\n",
        "\tCopying content of /home/bastodian/DimensionsData/T6/TrimmedData/DC80.R2T6/DC80.R2T6_ALGjhnTAGRABPEI-210_1.trimmed.fq to /home/bastodian/DimensionsData/T6/Assemblies/DC80/DC80.fwd.combined.fq ...\n",
        "\tCopying content of /home/bastodian/DimensionsData/T6/TrimmedData/DC80.R2T6/DC80.R2T6_ALGjhnTAGRABPEI-210_2.trimmed.fq to /home/bastodian/DimensionsData/T6/Assemblies/DC80/DC80.rev.combined.fq ..."
       ]
      },
      {
       "output_type": "stream",
       "stream": "stdout",
       "text": [
        "\n",
        "\tCopying content of /home/bastodian/DimensionsData/T6/TrimmedData/DC80.R3T6/DC80.R3T6_ALGjhnTDMRAAPEI-220_1.trimmed.fq to /home/bastodian/DimensionsData/T6/Assemblies/DC80/DC80.fwd.combined.fq ...\n",
        "\tCopying content of /home/bastodian/DimensionsData/T6/TrimmedData/DC80.R3T6/DC80.R3T6_ALGjhnTDMRAAPEI-220_2.trimmed.fq to /home/bastodian/DimensionsData/T6/Assemblies/DC80/DC80.rev.combined.fq ..."
       ]
      }
     ],
     "prompt_number": 4
    },
    {
     "cell_type": "markdown",
     "metadata": {},
     "source": [
      "Assembly\n",
      "--------\n",
      "\n",
      "Assembles transcriptomes for all pairs of fastq files for the eight monocultures. Logs are written into the logs directory."
     ]
    },
    {
     "cell_type": "code",
     "collapsed": false,
     "input": [
      "import glob, os, subprocess, sys\n",
      "\n",
      "'''\n",
      "    AssemblyDir is the path to the folders containing the trimmed, combined read files.\n",
      "'''\n",
      "AssemblyDir = '/home/bastodian/DimensionsData/T6/Assemblies/'\n",
      "\n",
      "\n",
      "'''\n",
      "    Create a list of fastq files to process\n",
      "'''\n",
      "Fwd = [File for File in glob.glob('%s%s' % (AssemblyDir, 'D[CN][1-8]0/*fwd*fq'))]\n",
      "Fwd.sort()\n",
      "Rev = [File for File in glob.glob('%s%s' % (AssemblyDir, 'D[CN][1-8]0/*rev*fq'))]\n",
      "Rev.sort()\n",
      "\n",
      "'''\n",
      "    Run Trinity for all pairs of fastq files\n",
      "'''\n",
      "\n",
      "\n",
      "for (Fwd, Rev) in zip(Fwd, Rev):\n",
      "    OutDir = '/'.join(Fwd.split('/')[:-1])\n",
      "    Left = Fwd\n",
      "    Right = Rev\n",
      "    Log = '../logs/%s.trinity' % (Fwd.split('/')[-1])\n",
      "    LOGGING = open(Log, 'w')\n",
      "    try:\n",
      "        Trinity = subprocess.check_output(['/usr/local/src/trinityrnaseq_r2013-02-16/Trinity.pl', \\\n",
      "                                     '--CPU', '24', \\\n",
      "                                     '--seqType', 'fq', \\\n",
      "                                     '--JM', '120G', \\\n",
      "                                    '--output', OutDir, \\\n",
      "                                    '--left', Left, \\\n",
      "                                     '--right', Right, \\\n",
      "                                     '--min_kmer_cov', '2', \\\n",
      "                                     '--bflyCalculateCPU'\n",
      "                                     ])\n",
      "        LOGGING.write(\"Assembly %s finished:\\n\\n%s\\n\\n\" % (Fwd.split('/')[-1], Trinity))\n",
      "        LOGGING.close()\n",
      "    except subprocess.CalledProcessError, err:\n",
      "        sys.stderr.write(\"Assembly %s failed:\\n\\n%s\\n\\n\" % (Fwd.split('/')[-1], err.output))\n",
      "        LOGGING.close()"
     ],
     "language": "python",
     "metadata": {},
     "outputs": [],
     "prompt_number": 5
    }
   ],
   "metadata": {}
  }
 ]
}